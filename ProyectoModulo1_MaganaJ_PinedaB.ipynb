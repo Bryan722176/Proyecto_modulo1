{
 "cells": [
  {
   "cell_type": "markdown",
   "metadata": {},
   "source": [
    "<img style=\"float: left; margin: 30px 15px 15px 15px;\" src=\"https://pngimage.net/wp-content/uploads/2018/06/logo-iteso-png-5.png\" width=\"300\" height=\"500\" /> \n",
    "    \n",
    "    \n",
    "### <font color='navy'> Simulación de procesos financieros. \n",
    "\n",
    "**Nombres:** \n",
    "- Juan Pablo Ruíz Magaña.\n",
    "- Bryan Azahel Juárez Pineda.\n",
    "\n",
    "**Fecha:** 17 de marzo del 2021.\n",
    "\n",
    "**Expediente** :\n",
    "- 721093.\n",
    "- 722176.\n",
    "    \n",
    "**Profesor:** Oscar David Jaramillo Zuluaga.\n",
    "    \n",
    "**Link Github**: [Repositorio proyecto.](https://github.com/Bryan722176/Proyecto_modulo1)\n",
    "    \n",
    "**Link a la base de datos**: [Base de datos original.](https://www.kaggle.com/kapoorshivam/credit-analysis)\n",
    "\n",
    "# Proyecto TEMA-2"
   ]
  },
  {
   "cell_type": "markdown",
   "metadata": {},
   "source": [
    "### 1.1 Título del trabajo.\n",
    "**`Análisis de solicitud de productos bancarios de crédito.`**"
   ]
  },
  {
   "cell_type": "markdown",
   "metadata": {},
   "source": [
    "### 1.2 Objetivos.\n",
    "\n",
    "#### Objetivo general.\n",
    "* Determinar las características de los productos bancarios de crédito que solicitarán futuros clientes.\n",
    "\n",
    "#### Objetivo secundarios.\n",
    "* Simular una cantidad considerable de escenarios que nos permita conocer posibles valores a futuro de las variables de interés.\n",
    "* Evaluar las simulaciones con el método Montecarlo con la finalidad de encontrar el valor esperado de las variables de interés.\n",
    "* Obtener las probabilidades de ocurrencia de ciertos eventos relacionados a nuestras variables de interés.\n",
    "* Definir los parámetros que caracterizan a las solicitudes de crédito a partir de las variables de interés."
   ]
  },
  {
   "cell_type": "markdown",
   "metadata": {},
   "source": [
    "### 1.3 Definición del problema."
   ]
  },
  {
   "cell_type": "markdown",
   "metadata": {},
   "source": [
    "En las estructuras capitalistas que caracterizan al sistema económico mundial, el consumo forma parte elemental del día a día de las personas, la cuestión de interés surge en el momento en que la productividad / salario no corresponde a la capacidad adquisitiva que los individuos requieren para adquirir determinados bienes y servicios en el corto plazo. De ahí nace la necesidad y figura de los créditos.\n",
    "\n",
    "Situandonos en la posición de una institución bancaria, otorgar créditos conlleva un riesgo considerable en el modelo de negocios de la institución. Asumir el riesgo de impago en un crédito puede tener consecuencias graves si esto se llega a dar en escalas masivas, por ende quienes otorgan crédito deben realizar un análisis minucioso respecto a la capacidad crediticia de las personas o empresas que lo soliciten.\n",
    "\n",
    "Con el fin de cuidar los intereses del banco y maximizar las oportunidades de negocio de la institución, nos interesa analizar las características de las aplicaciones previas de diferentes productos bancarios de crédito, con la intención de que la institución bancaria pueda perfilar clientes pontenciales de manera más efectiva y a su vez gestione de manera más óptima sus recursos destinados a estas oportunidades de negocio.\n",
    "\n",
    "Para conocer lo antes descrito, y con nuestra base de datos, definimos los nodos que se deciden simular como los siguientes:\n",
    "\n",
    "* **Monto solicitado del crédito**: Esto para poder definir las expectativas crediticias de los potenciales clientes. Conocer el monto solicitado nos da una pauta para identificar y poder seccionar clientes a partir de su potencial capacidad adquisitiva y su necesidad.\n",
    "\n",
    "* **Monto aprobado del crédito**: Después de un análisis por parte de la institución, esta variable representa el monto designado a una solicitud en particular. Conocer el monto aprobado nos ayuda a determinar no solo la capacidad real de pago del cliente, sino también nos ayuda a saber si el banco cubre las necesidades de capitalización del cliente.  \n",
    "\n",
    "* **Canal de venta**: Conducto por el cual se establece la relación entre el cliente y la institución, y se inicializa el trámite. Conocer esta variable nos ayudará a entender como se distribuye la captación de clientes para el banco, esto generará que se pueda saber cuales son los canales a fortalecer y en cuales continuar con la inercia descrita.\n",
    "\n",
    "* **Categoría de productos que se adquieren con instrumentos de crédito**: Esta variable representa el destino del crédito solicitado. Conocer la categoría de destino nos ayuda a entender no solo las necesidades y el por qué se solicitan los créditos, también nos puede ayudar a evaluar que sectores de consumo requieren de mayor capacidad crediticia."
   ]
  },
  {
   "attachments": {
    "image.png": {
     "image/png": "[encoded data removed]"
    }
   },
   "cell_type": "markdown",
   "metadata": {},
   "source": [
    "#### Diagrama de proceso.\n",
    "![image.png](attachment:image.png)"
   ]
  },
  {
   "cell_type": "markdown",
   "metadata": {},
   "source": [
    "#### Descripción del diagrama:\n",
    "\n",
    "En el diagrama se describe el proceso a modelar:\n",
    "\n",
    "1. Comenzando por el canal de venta elegido por el cliente, por medio del cual se hace el primer contacto entre la institución y el cliente.\n",
    "\n",
    "2. Consecuentemente el cliente solicita un monto determinado a manera de crédito.\n",
    "\n",
    "3. Posteriormente, la institución realiza un analisís crediticio y opta por asignar un monto a dicho al cliente.\n",
    "\n",
    "4. Por último el cliente hace uso del crédito adquiriendo bienes y servicios.\n",
    "\n",
    "A manera de conclusión de este diagrama lo que obtenemos es la caracterización de las solicitudes de crédito de los clientes de la institución."
   ]
  },
  {
   "cell_type": "markdown",
   "metadata": {},
   "source": [
    "### 1.4 Nodos y variables que se decidieron simular y porqué."
   ]
  },
  {
   "cell_type": "markdown",
   "metadata": {},
   "source": [
    "Resumiendo lo antes descrito, los nodos a simular serán los siguientes:\n",
    "* **Monto solicitado del crédito**.\n",
    "\n",
    "* **Monto aprobado del crédito**.\n",
    "\n",
    "* **Canal de venta**.\n",
    "\n",
    "* **Categoría de productos adquirimos con instrumentos de crédito**.\n",
    "\n",
    "Y las posibles complicaciones que podriamos encontrar en su simulación, de manera generalizada son las siguientes:\n",
    "1. **Escalabilidad de los datos:** Es posible que se presenten valores extremos, por lo tanto debemos realizar un correcto análisis exploratorio de los datos y de ser necesario modificar su escala.\n",
    "\n",
    "2. **Ausencia de valores:** En datasets tan grandes es posibles que algunas variables reporten valores faltantes o simplemente se encuentren en una categoría desconocida, por lo tanto será conveniente observar su frecuencia en la muestra."
   ]
  },
  {
   "cell_type": "markdown",
   "metadata": {},
   "source": [
    "### 1.5 Definición de hipótesis y supuestos."
   ]
  },
  {
   "cell_type": "markdown",
   "metadata": {},
   "source": [
    "De manera generalizada podemos definir los siguientes supuestos constantes en el proceso para conocer los parámetros de los créditos solicitados:\n",
    "1. **Se asume la aprobación del crédito.**\n",
    "2. **El monto aprobado del crédito no necesariamente corresponde al solicitado.**\n",
    "3. **El destino del crédito es rastreable.**\n",
    "4. **El monto de aplicación es mayor a 0.**\n",
    "\n",
    "En cuanto al desarrollo de hipótesis respecto al desarrollo del proyecto podemos definir lo siguiente:\n",
    "1. **La causa que motiva en mayor proporción a los clientes a solicitar un crédito está dada por el consumo personal.**\n",
    "2. **Existe congruencia por parte de los clientes respecto al motivo por el cuál se solicita un crédito y el destino final de este.**\n",
    "3. **El monto de crédito aprobado es independiente del canal de ventas por el cuál se haya tramitado el crédito.**"
   ]
  },
  {
   "cell_type": "markdown",
   "metadata": {},
   "source": [
    "### 1.6 Obtención de bases de datos"
   ]
  },
  {
   "cell_type": "markdown",
   "metadata": {},
   "source": [
    "La base que se obtuvo a través de la plataforma web [_Kaggle_](https://www.kaggle.com/) describe las aplicaciones créditicias de un una institución financiera, el problema se presenta al momento de que las aplicaciones se aprueban de manera que el corporativo llega a otorgar créditos a individuos que no necesariamente terminan pagando en tiempo y forma.\n",
    "\n",
    "La base de datos original está conformada por $1'670,214$ filas y $37$ columnas. La realidad es que para el análisis particular que se desea realizar, existen variables y valores que no aportan demasiado, y con la finalidad de eficientar costos computacionales y dejar exclusivamente la información relevante al objetivo descrito previamente, realizaremos un análisis exploratorio y una limpieza de datos, la cual se podrá observar el notebook llamado \"**`EDA_BD`**\" presente en este mismo repositorio."
   ]
  },
  {
   "cell_type": "markdown",
   "metadata": {},
   "source": [
    "### 1.7 Visualización de resultados de simulación."
   ]
  },
  {
   "cell_type": "markdown",
   "metadata": {},
   "source": [
    "Entonces, las variables a modelar serán las siguientes:\n",
    "- Canal de venta.\n",
    "- Monto solicitado.\n",
    "- Monto aprobado.\n",
    "- Bienes adquiridos."
   ]
  },
  {
   "cell_type": "code",
   "execution_count": 1,
   "metadata": {},
   "outputs": [],
   "source": [
    "# Librerías a utilizar.\n",
    "import numpy as np\n",
    "import pandas as pd\n",
    "from scipy.optimize import minimize\n",
    "import seaborn as sns\n",
    "from scipy.stats.distributions import norm\n",
    "from statsmodels.nonparametric.kde import KDEUnivariate\n",
    "import matplotlib.pyplot as plt\n",
    "import scipy.stats as st     \n",
    "import statsmodels.api as sm \n",
    "import warnings\n",
    "from fitter import Fitter\n",
    "%matplotlib inline"
   ]
  },
  {
   "cell_type": "code",
   "execution_count": 2,
   "metadata": {
    "scrolled": true
   },
   "outputs": [
    {
     "data": {
      "text/html": [
       "<div>\n",
       "<style scoped>\n",
       "    .dataframe tbody tr th:only-of-type {\n",
       "        vertical-align: middle;\n",
       "    }\n",
       "\n",
       "    .dataframe tbody tr th {\n",
       "        vertical-align: top;\n",
       "    }\n",
       "\n",
       "    .dataframe thead th {\n",
       "        text-align: right;\n",
       "    }\n",
       "</style>\n",
       "<table border=\"1\" class=\"dataframe\">\n",
       "  <thead>\n",
       "    <tr style=\"text-align: right;\">\n",
       "      <th></th>\n",
       "      <th>SK_ID_CURR</th>\n",
       "      <th>NAME_CONTRACT_TYPE</th>\n",
       "      <th>AMT_APPLICATION</th>\n",
       "      <th>AMT_CREDIT</th>\n",
       "      <th>WEEKDAY_APPR_PROCESS_START</th>\n",
       "      <th>NAME_CASH_LOAN_PURPOSE</th>\n",
       "      <th>NAME_CLIENT_TYPE</th>\n",
       "      <th>NAME_GOODS_CATEGORY</th>\n",
       "      <th>NAME_PORTFOLIO</th>\n",
       "      <th>CHANNEL_TYPE</th>\n",
       "    </tr>\n",
       "  </thead>\n",
       "  <tbody>\n",
       "    <tr>\n",
       "      <th>0</th>\n",
       "      <td>271877</td>\n",
       "      <td>Consumer loans</td>\n",
       "      <td>17145.0</td>\n",
       "      <td>17145.0</td>\n",
       "      <td>SATURDAY</td>\n",
       "      <td>XAP</td>\n",
       "      <td>Repeater</td>\n",
       "      <td>Mobile</td>\n",
       "      <td>POS</td>\n",
       "      <td>Country-wide</td>\n",
       "    </tr>\n",
       "    <tr>\n",
       "      <th>1</th>\n",
       "      <td>108129</td>\n",
       "      <td>Cash loans</td>\n",
       "      <td>607500.0</td>\n",
       "      <td>679671.0</td>\n",
       "      <td>THURSDAY</td>\n",
       "      <td>XNA</td>\n",
       "      <td>Repeater</td>\n",
       "      <td>XNA</td>\n",
       "      <td>Cash</td>\n",
       "      <td>Contact center</td>\n",
       "    </tr>\n",
       "    <tr>\n",
       "      <th>2</th>\n",
       "      <td>122040</td>\n",
       "      <td>Cash loans</td>\n",
       "      <td>112500.0</td>\n",
       "      <td>136444.5</td>\n",
       "      <td>TUESDAY</td>\n",
       "      <td>XNA</td>\n",
       "      <td>Repeater</td>\n",
       "      <td>XNA</td>\n",
       "      <td>Cash</td>\n",
       "      <td>Credit and cash offices</td>\n",
       "    </tr>\n",
       "    <tr>\n",
       "      <th>3</th>\n",
       "      <td>176158</td>\n",
       "      <td>Cash loans</td>\n",
       "      <td>450000.0</td>\n",
       "      <td>470790.0</td>\n",
       "      <td>MONDAY</td>\n",
       "      <td>XNA</td>\n",
       "      <td>Repeater</td>\n",
       "      <td>XNA</td>\n",
       "      <td>Cash</td>\n",
       "      <td>Credit and cash offices</td>\n",
       "    </tr>\n",
       "    <tr>\n",
       "      <th>4</th>\n",
       "      <td>199383</td>\n",
       "      <td>Cash loans</td>\n",
       "      <td>315000.0</td>\n",
       "      <td>340573.5</td>\n",
       "      <td>SATURDAY</td>\n",
       "      <td>Everyday expenses</td>\n",
       "      <td>Repeater</td>\n",
       "      <td>XNA</td>\n",
       "      <td>Cash</td>\n",
       "      <td>Credit and cash offices</td>\n",
       "    </tr>\n",
       "  </tbody>\n",
       "</table>\n",
       "</div>"
      ],
      "text/plain": [
       "   SK_ID_CURR NAME_CONTRACT_TYPE  AMT_APPLICATION  AMT_CREDIT  \\\n",
       "0      271877     Consumer loans          17145.0     17145.0   \n",
       "1      108129         Cash loans         607500.0    679671.0   \n",
       "2      122040         Cash loans         112500.0    136444.5   \n",
       "3      176158         Cash loans         450000.0    470790.0   \n",
       "4      199383         Cash loans         315000.0    340573.5   \n",
       "\n",
       "  WEEKDAY_APPR_PROCESS_START NAME_CASH_LOAN_PURPOSE NAME_CLIENT_TYPE  \\\n",
       "0                   SATURDAY                    XAP         Repeater   \n",
       "1                   THURSDAY                    XNA         Repeater   \n",
       "2                    TUESDAY                    XNA         Repeater   \n",
       "3                     MONDAY                    XNA         Repeater   \n",
       "4                   SATURDAY      Everyday expenses         Repeater   \n",
       "\n",
       "  NAME_GOODS_CATEGORY NAME_PORTFOLIO             CHANNEL_TYPE  \n",
       "0              Mobile            POS             Country-wide  \n",
       "1                 XNA           Cash           Contact center  \n",
       "2                 XNA           Cash  Credit and cash offices  \n",
       "3                 XNA           Cash  Credit and cash offices  \n",
       "4                 XNA           Cash  Credit and cash offices  "
      ]
     },
     "execution_count": 2,
     "metadata": {},
     "output_type": "execute_result"
    }
   ],
   "source": [
    "data = pd.read_csv('approval_clean.csv')\n",
    "data.head()"
   ]
  },
  {
   "cell_type": "markdown",
   "metadata": {},
   "source": [
    "Al observar nuestro dataset, nos encontramos con una gran incongruencia. El hecho de que un crédito se autorice implica que el **monto aprobado** de la línea de crédito debe ser mayor a 0, sin embargo existen valores que cuentan con está situación. Con la finalidad de ser congruentes a nuestro supuesto de aprobación, eliminaremos todas las filas que contengan estos valores. Los manejaremos como un _error de captura_."
   ]
  },
  {
   "cell_type": "code",
   "execution_count": 3,
   "metadata": {},
   "outputs": [],
   "source": [
    "# Eliminar montos de crédito aprobados iguales a 0. Es un error de captura.\n",
    "data = data[data.AMT_CREDIT != 0]"
   ]
  },
  {
   "cell_type": "markdown",
   "metadata": {},
   "source": [
    "Comenzamos a explorar nuestras variables de interés. Primero observaremos los valores únicos y la cuenta de los mismos en el **canal de venta**."
   ]
  },
  {
   "cell_type": "code",
   "execution_count": 4,
   "metadata": {},
   "outputs": [
    {
     "data": {
      "text/plain": [
       "Country-wide                  401875\n",
       "Credit and cash offices       288947\n",
       "Stone                         188924\n",
       "Regional / Local               96170\n",
       "AP+ (Cash loan)                31195\n",
       "Contact center                 25217\n",
       "Channel of corporate sales      2616\n",
       "Car dealer                       286\n",
       "Name: CHANNEL_TYPE, dtype: int64"
      ]
     },
     "execution_count": 4,
     "metadata": {},
     "output_type": "execute_result"
    }
   ],
   "source": [
    "# Cuenta de valores únicos del canal de venta.\n",
    "data.CHANNEL_TYPE.value_counts()"
   ]
  },
  {
   "cell_type": "markdown",
   "metadata": {},
   "source": [
    "En el caso particular del **canal de venta** nos podemos percatar que existen 8 valores únicos, los cuales categorizamos como los distintos canales de venta sobre los cuales los clientes llegan a nosotros. A simple vista, observamos que el más popular es la categoria _Country-wide_.\n",
    "\n",
    "Ahora, visualizaremos un poco sobre nuestros **montos solicitados**. Para una visualización rápida lo observamos a partir de un histograma."
   ]
  },
  {
   "cell_type": "code",
   "execution_count": 5,
   "metadata": {},
   "outputs": [
    {
     "name": "stdout",
     "output_type": "stream",
     "text": [
      "El valor mínimo del monto de aplicación es de: $0\n",
      "El valor máximo del monto de aplicación es de: $5850000\n"
     ]
    },
    {
     "data": {
      "image/png": "[encoded data removed]",
      "text/plain": [
       "<Figure size 432x288 with 1 Axes>"
      ]
     },
     "metadata": {
      "needs_background": "light"
     },
     "output_type": "display_data"
    }
   ],
   "source": [
    "# Visualizamos el monto solicitado.\n",
    "sns.histplot(data.AMT_APPLICATION, color='y', bins=10);\n",
    "print(f'El valor mínimo del monto de aplicación es de: ${int(min(data.AMT_APPLICATION))}')\n",
    "print(f'El valor máximo del monto de aplicación es de: ${int(max(data.AMT_APPLICATION))}')"
   ]
  },
  {
   "cell_type": "markdown",
   "metadata": {},
   "source": [
    "En el caso de los **montos solicitados**, graficamente se observa que la escala sobre la cual se está trabajando no resulta del todo óptima en la visualización, esto porque la mayoría de las cantidades están abajo de un millón de dólares, sin embargo, existen algunos montos que superan los cinco millones, como lo es el máximo, el cual es de $5,850,00$. De está situación observamos otra cuestión que resulta interesante y que contrasta con uno de los supuestos planteados, y es que existen **montos solicitados** iguales a 0. A pesar de que no nos interesan para nuestra análisis, si se puede derivar un análisis particular del mismo."
   ]
  },
  {
   "cell_type": "code",
   "execution_count": 6,
   "metadata": {
    "scrolled": true
   },
   "outputs": [
    {
     "name": "stdout",
     "output_type": "stream",
     "text": [
      "El caso particular, representa un: 4.226403794325899% del total de la muestra.\n"
     ]
    },
    {
     "data": {
      "text/html": [
       "<div>\n",
       "<style scoped>\n",
       "    .dataframe tbody tr th:only-of-type {\n",
       "        vertical-align: middle;\n",
       "    }\n",
       "\n",
       "    .dataframe tbody tr th {\n",
       "        vertical-align: top;\n",
       "    }\n",
       "\n",
       "    .dataframe thead th {\n",
       "        text-align: right;\n",
       "    }\n",
       "</style>\n",
       "<table border=\"1\" class=\"dataframe\">\n",
       "  <thead>\n",
       "    <tr style=\"text-align: right;\">\n",
       "      <th></th>\n",
       "      <th>SK_ID_CURR</th>\n",
       "      <th>NAME_CONTRACT_TYPE</th>\n",
       "      <th>AMT_APPLICATION</th>\n",
       "      <th>AMT_CREDIT</th>\n",
       "      <th>WEEKDAY_APPR_PROCESS_START</th>\n",
       "      <th>NAME_CASH_LOAN_PURPOSE</th>\n",
       "      <th>NAME_CLIENT_TYPE</th>\n",
       "      <th>NAME_GOODS_CATEGORY</th>\n",
       "      <th>NAME_PORTFOLIO</th>\n",
       "      <th>CHANNEL_TYPE</th>\n",
       "    </tr>\n",
       "  </thead>\n",
       "  <tbody>\n",
       "    <tr>\n",
       "      <th>54</th>\n",
       "      <td>120854</td>\n",
       "      <td>Revolving loans</td>\n",
       "      <td>0.0</td>\n",
       "      <td>675000.0</td>\n",
       "      <td>THURSDAY</td>\n",
       "      <td>XAP</td>\n",
       "      <td>Repeater</td>\n",
       "      <td>XNA</td>\n",
       "      <td>Cards</td>\n",
       "      <td>Credit and cash offices</td>\n",
       "    </tr>\n",
       "    <tr>\n",
       "      <th>75</th>\n",
       "      <td>276237</td>\n",
       "      <td>Revolving loans</td>\n",
       "      <td>0.0</td>\n",
       "      <td>450000.0</td>\n",
       "      <td>TUESDAY</td>\n",
       "      <td>XAP</td>\n",
       "      <td>Repeater</td>\n",
       "      <td>XNA</td>\n",
       "      <td>Cards</td>\n",
       "      <td>Country-wide</td>\n",
       "    </tr>\n",
       "    <tr>\n",
       "      <th>215</th>\n",
       "      <td>449030</td>\n",
       "      <td>Revolving loans</td>\n",
       "      <td>0.0</td>\n",
       "      <td>180000.0</td>\n",
       "      <td>SUNDAY</td>\n",
       "      <td>XAP</td>\n",
       "      <td>Repeater</td>\n",
       "      <td>XNA</td>\n",
       "      <td>Cards</td>\n",
       "      <td>Country-wide</td>\n",
       "    </tr>\n",
       "    <tr>\n",
       "      <th>222</th>\n",
       "      <td>323651</td>\n",
       "      <td>Revolving loans</td>\n",
       "      <td>0.0</td>\n",
       "      <td>270000.0</td>\n",
       "      <td>TUESDAY</td>\n",
       "      <td>XAP</td>\n",
       "      <td>Repeater</td>\n",
       "      <td>XNA</td>\n",
       "      <td>Cards</td>\n",
       "      <td>AP+ (Cash loan)</td>\n",
       "    </tr>\n",
       "    <tr>\n",
       "      <th>256</th>\n",
       "      <td>263634</td>\n",
       "      <td>Revolving loans</td>\n",
       "      <td>0.0</td>\n",
       "      <td>765000.0</td>\n",
       "      <td>MONDAY</td>\n",
       "      <td>XAP</td>\n",
       "      <td>Repeater</td>\n",
       "      <td>XNA</td>\n",
       "      <td>Cards</td>\n",
       "      <td>Credit and cash offices</td>\n",
       "    </tr>\n",
       "  </tbody>\n",
       "</table>\n",
       "</div>"
      ],
      "text/plain": [
       "     SK_ID_CURR NAME_CONTRACT_TYPE  AMT_APPLICATION  AMT_CREDIT  \\\n",
       "54       120854    Revolving loans              0.0    675000.0   \n",
       "75       276237    Revolving loans              0.0    450000.0   \n",
       "215      449030    Revolving loans              0.0    180000.0   \n",
       "222      323651    Revolving loans              0.0    270000.0   \n",
       "256      263634    Revolving loans              0.0    765000.0   \n",
       "\n",
       "    WEEKDAY_APPR_PROCESS_START NAME_CASH_LOAN_PURPOSE NAME_CLIENT_TYPE  \\\n",
       "54                    THURSDAY                    XAP         Repeater   \n",
       "75                     TUESDAY                    XAP         Repeater   \n",
       "215                     SUNDAY                    XAP         Repeater   \n",
       "222                    TUESDAY                    XAP         Repeater   \n",
       "256                     MONDAY                    XAP         Repeater   \n",
       "\n",
       "    NAME_GOODS_CATEGORY NAME_PORTFOLIO             CHANNEL_TYPE  \n",
       "54                  XNA          Cards  Credit and cash offices  \n",
       "75                  XNA          Cards             Country-wide  \n",
       "215                 XNA          Cards             Country-wide  \n",
       "222                 XNA          Cards          AP+ (Cash loan)  \n",
       "256                 XNA          Cards  Credit and cash offices  "
      ]
     },
     "execution_count": 6,
     "metadata": {},
     "output_type": "execute_result"
    }
   ],
   "source": [
    "# Definimos caso particular. Monto de aplicación igual a 0.\n",
    "data_particular = data[data['AMT_APPLICATION']==0]\n",
    "print(f'El caso particular, representa un: {(len(data_particular) / len(data))*100}% del total de la muestra.')\n",
    "data_particular.head()"
   ]
  },
  {
   "cell_type": "markdown",
   "metadata": {},
   "source": [
    "Como podemos observar, este conjunto de datos representan aproximadamente un $4.23\\%$ de la muestra. Por lo tanto su eliminación del análisis principal no afectará a los objetivos inicialmente planteados. Ahora, para analizar este caso particular, las variables que nos interesa observar a partir del nuevo subconjunto de datos serán el **tipo de contrato**, **tipo de instrumento**, **categoria de gasto**, **tipo de cliente** y **monto aprobado**."
   ]
  },
  {
   "cell_type": "code",
   "execution_count": 7,
   "metadata": {},
   "outputs": [
    {
     "data": {
      "text/plain": [
       "Revolving loans    43753\n",
       "Name: NAME_CONTRACT_TYPE, dtype: int64"
      ]
     },
     "execution_count": 7,
     "metadata": {},
     "output_type": "execute_result"
    }
   ],
   "source": [
    "# Observamos el tipo de contrato.\n",
    "data_particular.NAME_CONTRACT_TYPE.value_counts()"
   ]
  },
  {
   "cell_type": "markdown",
   "metadata": {},
   "source": [
    "Se observa que el tipo de contrato que se da en estos casos, solo corresponde a un **préstamo revolvente**, siendo que este abarca la totalidad de la muestra."
   ]
  },
  {
   "cell_type": "code",
   "execution_count": 8,
   "metadata": {},
   "outputs": [
    {
     "data": {
      "text/plain": [
       "Cards    43753\n",
       "Name: NAME_PORTFOLIO, dtype: int64"
      ]
     },
     "execution_count": 8,
     "metadata": {},
     "output_type": "execute_result"
    }
   ],
   "source": [
    "# Observamos el tipo de instrumento utilizado.\n",
    "data_particular.NAME_PORTFOLIO.value_counts()"
   ]
  },
  {
   "cell_type": "markdown",
   "metadata": {},
   "source": [
    "Para el caso del instrumento otorgado, vemos nuevamente que existe solo uno, las **tarjetas de crédito**."
   ]
  },
  {
   "cell_type": "code",
   "execution_count": 9,
   "metadata": {},
   "outputs": [
    {
     "data": {
      "text/plain": [
       "XNA    43753\n",
       "Name: NAME_GOODS_CATEGORY, dtype: int64"
      ]
     },
     "execution_count": 9,
     "metadata": {},
     "output_type": "execute_result"
    }
   ],
   "source": [
    "# Observamos la categoria de gasto de la línea.\n",
    "data_particular.NAME_GOODS_CATEGORY.value_counts()"
   ]
  },
  {
   "cell_type": "markdown",
   "metadata": {},
   "source": [
    "En el caso de la categoría de gasto observamos que solo existe una, **XNA** la cual representa una ausencia de valor. Con esto podemos deducir que estas líneas de crédito no informan la categoria de bienes adquiridos, o al menos esta información pareciera no resultar determinante para la institución."
   ]
  },
  {
   "cell_type": "code",
   "execution_count": 10,
   "metadata": {},
   "outputs": [
    {
     "data": {
      "text/plain": [
       "Repeater     39912\n",
       "Refreshed     3627\n",
       "New            214\n",
       "Name: NAME_CLIENT_TYPE, dtype: int64"
      ]
     },
     "execution_count": 10,
     "metadata": {},
     "output_type": "execute_result"
    }
   ],
   "source": [
    "# Observamos el tipo de cliente.\n",
    "data_particular.NAME_CLIENT_TYPE.value_counts()"
   ]
  },
  {
   "cell_type": "markdown",
   "metadata": {},
   "source": [
    "En esta variable encontramos otra cuestión interesante, y es que la mayoría de personas con este tipo particular de crédito o son clientes, o lo llegaron a ser en algun momento. Esto se representa en casi todos los casos, donde solo $214$ clientes fueron nuevos para la institución. Esto nos da pauta a pensar que este tipo de líneas no se otorgan a cualquier cliente, probablemente sea una línea preferencial."
   ]
  },
  {
   "cell_type": "code",
   "execution_count": 11,
   "metadata": {},
   "outputs": [
    {
     "name": "stdout",
     "output_type": "stream",
     "text": [
      "El valor mínimo del monto de aprobación es de: $22500\n",
      "El valor máximo del monto de aprobación es de: $1350000\n"
     ]
    },
    {
     "data": {
      "image/png": "[encoded data removed]",
      "text/plain": [
       "<Figure size 432x288 with 1 Axes>"
      ]
     },
     "metadata": {
      "needs_background": "light"
     },
     "output_type": "display_data"
    }
   ],
   "source": [
    "# Visualizamos rápidamente, con un histograma el monto aprobado.\n",
    "sns.histplot(data_particular.AMT_CREDIT, color='y', bins=10);\n",
    "print(f'El valor mínimo del monto de aprobación es de: ${int(min(data_particular.AMT_CREDIT))}')\n",
    "print(f'El valor máximo del monto de aprobación es de: ${int(max(data_particular.AMT_CREDIT))}')"
   ]
  },
  {
   "cell_type": "markdown",
   "metadata": {},
   "source": [
    "En el caso del **monto aprobado** observamos que las cantidades oscilan entre $\\$22,500$ y $\\$1,350,000$. Tomando en cuenta que el máximo monto registrado en el dataset ronda los seis millones, podemos decir que este tipo de líneas de crédito no se caracterizan por ser altas.\n",
    "\n",
    "Entonces con todo lo antes mencionado podemos definir las carácteristicas de este caso particular, donde el **monto solicitado** del crédito es igual a 0, es decir, la institución otorga estas líneas sin que exista una prevía solicitud por parte de un cliente:\n",
    "\n",
    "- Es específico a una línea de crédito conocidad como **crédito revolvente**.\n",
    "- El instrumento que se otorga para ejercer la línea es exclusivamente la **tarjeta de crédito**.\n",
    "- Los bienes adquiridos, no representan o al menos no son del interés de la institución financiera.\n",
    "- El tipo de cliente al cual están dirigidas estas líneas es en su mayoría para aquellos que ya tienen un historial con la institución.\n",
    "- Los montos de estas líneas de crédito son más bajos, respecto a otro tipo de solicitudes."
   ]
  },
  {
   "cell_type": "code",
   "execution_count": 12,
   "metadata": {
    "scrolled": true
   },
   "outputs": [
    {
     "data": {
      "text/html": [
       "<div>\n",
       "<style scoped>\n",
       "    .dataframe tbody tr th:only-of-type {\n",
       "        vertical-align: middle;\n",
       "    }\n",
       "\n",
       "    .dataframe tbody tr th {\n",
       "        vertical-align: top;\n",
       "    }\n",
       "\n",
       "    .dataframe thead th {\n",
       "        text-align: right;\n",
       "    }\n",
       "</style>\n",
       "<table border=\"1\" class=\"dataframe\">\n",
       "  <thead>\n",
       "    <tr style=\"text-align: right;\">\n",
       "      <th></th>\n",
       "      <th>SK_ID_CURR</th>\n",
       "      <th>NAME_CONTRACT_TYPE</th>\n",
       "      <th>AMT_APPLICATION</th>\n",
       "      <th>AMT_CREDIT</th>\n",
       "      <th>WEEKDAY_APPR_PROCESS_START</th>\n",
       "      <th>NAME_CASH_LOAN_PURPOSE</th>\n",
       "      <th>NAME_CLIENT_TYPE</th>\n",
       "      <th>NAME_GOODS_CATEGORY</th>\n",
       "      <th>NAME_PORTFOLIO</th>\n",
       "      <th>CHANNEL_TYPE</th>\n",
       "    </tr>\n",
       "  </thead>\n",
       "  <tbody>\n",
       "    <tr>\n",
       "      <th>0</th>\n",
       "      <td>271877</td>\n",
       "      <td>Consumer loans</td>\n",
       "      <td>17145.0</td>\n",
       "      <td>17145.0</td>\n",
       "      <td>SATURDAY</td>\n",
       "      <td>XAP</td>\n",
       "      <td>Repeater</td>\n",
       "      <td>Mobile</td>\n",
       "      <td>POS</td>\n",
       "      <td>Country-wide</td>\n",
       "    </tr>\n",
       "    <tr>\n",
       "      <th>1</th>\n",
       "      <td>108129</td>\n",
       "      <td>Cash loans</td>\n",
       "      <td>607500.0</td>\n",
       "      <td>679671.0</td>\n",
       "      <td>THURSDAY</td>\n",
       "      <td>XNA</td>\n",
       "      <td>Repeater</td>\n",
       "      <td>XNA</td>\n",
       "      <td>Cash</td>\n",
       "      <td>Contact center</td>\n",
       "    </tr>\n",
       "    <tr>\n",
       "      <th>2</th>\n",
       "      <td>122040</td>\n",
       "      <td>Cash loans</td>\n",
       "      <td>112500.0</td>\n",
       "      <td>136444.5</td>\n",
       "      <td>TUESDAY</td>\n",
       "      <td>XNA</td>\n",
       "      <td>Repeater</td>\n",
       "      <td>XNA</td>\n",
       "      <td>Cash</td>\n",
       "      <td>Credit and cash offices</td>\n",
       "    </tr>\n",
       "    <tr>\n",
       "      <th>3</th>\n",
       "      <td>176158</td>\n",
       "      <td>Cash loans</td>\n",
       "      <td>450000.0</td>\n",
       "      <td>470790.0</td>\n",
       "      <td>MONDAY</td>\n",
       "      <td>XNA</td>\n",
       "      <td>Repeater</td>\n",
       "      <td>XNA</td>\n",
       "      <td>Cash</td>\n",
       "      <td>Credit and cash offices</td>\n",
       "    </tr>\n",
       "    <tr>\n",
       "      <th>4</th>\n",
       "      <td>199383</td>\n",
       "      <td>Cash loans</td>\n",
       "      <td>315000.0</td>\n",
       "      <td>340573.5</td>\n",
       "      <td>SATURDAY</td>\n",
       "      <td>Everyday expenses</td>\n",
       "      <td>Repeater</td>\n",
       "      <td>XNA</td>\n",
       "      <td>Cash</td>\n",
       "      <td>Credit and cash offices</td>\n",
       "    </tr>\n",
       "  </tbody>\n",
       "</table>\n",
       "</div>"
      ],
      "text/plain": [
       "   SK_ID_CURR NAME_CONTRACT_TYPE  AMT_APPLICATION  AMT_CREDIT  \\\n",
       "0      271877     Consumer loans          17145.0     17145.0   \n",
       "1      108129         Cash loans         607500.0    679671.0   \n",
       "2      122040         Cash loans         112500.0    136444.5   \n",
       "3      176158         Cash loans         450000.0    470790.0   \n",
       "4      199383         Cash loans         315000.0    340573.5   \n",
       "\n",
       "  WEEKDAY_APPR_PROCESS_START NAME_CASH_LOAN_PURPOSE NAME_CLIENT_TYPE  \\\n",
       "0                   SATURDAY                    XAP         Repeater   \n",
       "1                   THURSDAY                    XNA         Repeater   \n",
       "2                    TUESDAY                    XNA         Repeater   \n",
       "3                     MONDAY                    XNA         Repeater   \n",
       "4                   SATURDAY      Everyday expenses         Repeater   \n",
       "\n",
       "  NAME_GOODS_CATEGORY NAME_PORTFOLIO             CHANNEL_TYPE  \n",
       "0              Mobile            POS             Country-wide  \n",
       "1                 XNA           Cash           Contact center  \n",
       "2                 XNA           Cash  Credit and cash offices  \n",
       "3                 XNA           Cash  Credit and cash offices  \n",
       "4                 XNA           Cash  Credit and cash offices  "
      ]
     },
     "execution_count": 12,
     "metadata": {},
     "output_type": "execute_result"
    }
   ],
   "source": [
    "# Ya con el caso particular descrito, nos quedamos exclusivamente con los montos solicitados mayores a 0.\n",
    "data = data[data['AMT_APPLICATION'] !=0]\n",
    "data.head()"
   ]
  },
  {
   "cell_type": "markdown",
   "metadata": {},
   "source": [
    "Ahora ya con un exploratorio de datos más completo, comenzamos con la simulación correspondiente a los nodos descritos en el objetivo principal."
   ]
  },
  {
   "cell_type": "markdown",
   "metadata": {},
   "source": [
    "## `Nodo: Canal de venta`."
   ]
  },
  {
   "cell_type": "markdown",
   "metadata": {},
   "source": [
    "### `Kernel Density Estimation`."
   ]
  },
  {
   "cell_type": "code",
   "execution_count": null,
   "metadata": {},
   "outputs": [],
   "source": [
    "# Trabajar con kernel exponencial."
   ]
  },
  {
   "cell_type": "code",
   "execution_count": 87,
   "metadata": {},
   "outputs": [
    {
     "data": {
      "text/plain": [
       "array(['Country-wide', 'Contact center', 'Credit and cash offices',\n",
       "       'Stone', 'Regional / Local', 'AP+ (Cash loan)', 'Car dealer',\n",
       "       'Channel of corporate sales'], dtype=object)"
      ]
     },
     "execution_count": 87,
     "metadata": {},
     "output_type": "execute_result"
    }
   ],
   "source": [
    "data['CHANNEL_TYPE'].unique()"
   ]
  },
  {
   "cell_type": "markdown",
   "metadata": {},
   "source": [
    "Al ser una variable discreta optamos por indexar nuestros datos del 1 al 8.\n",
    "\n",
    "1. Country-wide\n",
    "2. Contact center \n",
    "3. Credit and cash offices\n",
    "4. Stone\n",
    "5. Regional/Local\n",
    "6. AP+ (Cash loan) \n",
    "7. Car dealer\n",
    "8. Channel of corporate sales"
   ]
  },
  {
   "cell_type": "code",
   "execution_count": 88,
   "metadata": {},
   "outputs": [],
   "source": [
    "# Almacenamos los canales de venta en una variable.\n",
    "#canal_venta = data['CHANNEL_TYPE']\n",
    " \n",
    "# Lista de valores.\n",
    "#lista_canales = list(canal_venta.unique())\n",
    " \n",
    "# Lista de los números.\n",
    "#lista_numeros = list(np.arange(1, len(lista_canal]es)+1, 1))\n",
    " \n",
    "# Diccionario con la equivalencia de cadena de texto a número.\n",
    "#diccionario_c = {can:num for can, num in zip(lista_canales, lista_numeros)}\n",
    " \n",
    "# Reemplazamos valores. Lista con los nuevos valores.\n",
    "#[canal_venta.replace(canal_venta[i], diccionario_c[canal_venta[i]]) for i in list(canal_venta.index)]"
   ]
  },
  {
   "cell_type": "code",
   "execution_count": 89,
   "metadata": {},
   "outputs": [
    {
     "data": {
      "text/plain": [
       "0    1\n",
       "1    2\n",
       "2    3\n",
       "3    3\n",
       "4    3\n",
       "Name: CHANNEL_TYPE, dtype: int64"
      ]
     },
     "execution_count": 89,
     "metadata": {},
     "output_type": "execute_result"
    }
   ],
   "source": [
    "data['CHANNEL_TYPE']=data['CHANNEL_TYPE'].replace('Country-wide',1)\n",
    "data['CHANNEL_TYPE']=data['CHANNEL_TYPE'].replace('Contact center',2)\n",
    "data['CHANNEL_TYPE']=data['CHANNEL_TYPE'].replace('Credit and cash offices',3)\n",
    "data['CHANNEL_TYPE']=data['CHANNEL_TYPE'].replace('Stone',4)\n",
    "data['CHANNEL_TYPE']=data['CHANNEL_TYPE'].replace('Regional / Local',5)\n",
    "data['CHANNEL_TYPE']=data['CHANNEL_TYPE'].replace('AP+ (Cash loan)',6)\n",
    "data['CHANNEL_TYPE']=data['CHANNEL_TYPE'].replace('Car dealer',7)\n",
    "data['CHANNEL_TYPE']=data['CHANNEL_TYPE'].replace('Channel of corporate sales',8)\n",
    "data['CHANNEL_TYPE'].head()"
   ]
  },
  {
   "cell_type": "code",
   "execution_count": 90,
   "metadata": {},
   "outputs": [
    {
     "data": {
      "text/plain": [
       "<AxesSubplot:xlabel='CHANNEL_TYPE'>"
      ]
     },
     "execution_count": 90,
     "metadata": {},
     "output_type": "execute_result"
    },
    {
     "data": {
      "image/png": "[encoded data removed]",
      "text/plain": [
       "<Figure size 432x288 with 1 Axes>"
      ]
     },
     "metadata": {
      "needs_background": "light"
     },
     "output_type": "display_data"
    }
   ],
   "source": [
    "# Visualizando nuestros datos.\n",
    "sns.boxplot(x=data['CHANNEL_TYPE'], saturation=.5, color='r')"
   ]
  },
  {
   "cell_type": "markdown",
   "metadata": {},
   "source": [
    "(Poner interpretación del boxplot)"
   ]
  },
  {
   "cell_type": "code",
   "execution_count": 91,
   "metadata": {},
   "outputs": [
    {
     "data": {
      "image/png": "[encoded data removed]",
      "text/plain": [
       "<Figure size 432x288 with 1 Axes>"
      ]
     },
     "metadata": {
      "needs_background": "light"
     },
     "output_type": "display_data"
    }
   ],
   "source": [
    "sns.histplot(data['CHANNEL_TYPE'], color='y', bins=8);"
   ]
  },
  {
   "cell_type": "markdown",
   "metadata": {},
   "source": [
    "### `Buscando PDF´s`."
   ]
  },
  {
   "cell_type": "code",
   "execution_count": null,
   "metadata": {},
   "outputs": [],
   "source": []
  },
  {
   "cell_type": "code",
   "execution_count": null,
   "metadata": {},
   "outputs": [],
   "source": []
  },
  {
   "cell_type": "markdown",
   "metadata": {},
   "source": [
    "### `Aceptación y Rechazo`."
   ]
  },
  {
   "cell_type": "code",
   "execution_count": null,
   "metadata": {},
   "outputs": [],
   "source": []
  },
  {
   "cell_type": "code",
   "execution_count": null,
   "metadata": {},
   "outputs": [],
   "source": []
  },
  {
   "cell_type": "markdown",
   "metadata": {},
   "source": [
    "### `Simulación`."
   ]
  },
  {
   "cell_type": "code",
   "execution_count": null,
   "metadata": {},
   "outputs": [],
   "source": []
  },
  {
   "cell_type": "code",
   "execution_count": null,
   "metadata": {},
   "outputs": [],
   "source": []
  },
  {
   "cell_type": "markdown",
   "metadata": {},
   "source": [
    "## `Nodo: Monto solicitado`."
   ]
  },
  {
   "cell_type": "markdown",
   "metadata": {},
   "source": [
    "### `Kernel Density Estimation`."
   ]
  },
  {
   "cell_type": "code",
   "execution_count": 13,
   "metadata": {},
   "outputs": [
    {
     "data": {
      "image/png": "[encoded data removed]",
      "text/plain": [
       "<Figure size 432x288 with 1 Axes>"
      ]
     },
     "metadata": {
      "needs_background": "light"
     },
     "output_type": "display_data"
    }
   ],
   "source": [
    "# Visualizando nuestros datos.\n",
    "sns.boxplot(x=data['AMT_APPLICATION'], saturation=.5, color='r');"
   ]
  },
  {
   "cell_type": "markdown",
   "metadata": {},
   "source": [
    "Observamos que existen valores atipicos que excenden el rango intercuartilico en el boxplot, por lo tanto optaremos por utilizar una escala logaritmica que nos permita trabajar escalar los datos que pueden ser extremos."
   ]
  },
  {
   "cell_type": "code",
   "execution_count": 14,
   "metadata": {},
   "outputs": [
    {
     "data": {
      "text/plain": [
       "<AxesSubplot:xlabel='AMT_APPLICATION'>"
      ]
     },
     "execution_count": 14,
     "metadata": {},
     "output_type": "execute_result"
    },
    {
     "data": {
      "image/png": "[encoded data removed]",
      "text/plain": [
       "<Figure size 432x288 with 1 Axes>"
      ]
     },
     "metadata": {
      "needs_background": "light"
     },
     "output_type": "display_data"
    }
   ],
   "source": [
    "# Transformamos el monto de aplicación a una escala logaritmica.\n",
    "data_log = np.log(data['AMT_APPLICATION'])\n",
    "sns.boxplot(x=data_log, saturation=.5, color='r')"
   ]
  },
  {
   "cell_type": "markdown",
   "metadata": {},
   "source": [
    "Con la escala logaritmica, si bien aún existen valores que exceden el rango intercuartilico, ya son menos. Además de manera visual podemos observar de mejor manera la distribución de nuestros datos."
   ]
  },
  {
   "cell_type": "code",
   "execution_count": 15,
   "metadata": {},
   "outputs": [
    {
     "data": {
      "text/plain": [
       "count    991477.000000\n",
       "mean         11.577048\n",
       "std           1.023470\n",
       "min           8.594154\n",
       "25%          10.763208\n",
       "50%          11.483692\n",
       "75%          12.240474\n",
       "max          15.581952\n",
       "Name: AMT_APPLICATION, dtype: float64"
      ]
     },
     "execution_count": 15,
     "metadata": {},
     "output_type": "execute_result"
    }
   ],
   "source": [
    "# Propiedades estadísticas de los datos en escala logarítmica.\n",
    "data_log.describe()"
   ]
  },
  {
   "cell_type": "code",
   "execution_count": 49,
   "metadata": {},
   "outputs": [
    {
     "data": {
      "image/png": "[encoded data removed]",
      "text/plain": [
       "<Figure size 432x288 with 1 Axes>"
      ]
     },
     "metadata": {
      "needs_background": "light"
     },
     "output_type": "display_data"
    }
   ],
   "source": [
    "# Visualizamos los datos en un histograma\n",
    "sns.histplot(data_log, color='y', bins=10);"
   ]
  },
  {
   "cell_type": "markdown",
   "metadata": {},
   "source": [
    "Ahora, podemos observar que los datos en escala logaritmica parecen seguir una distribución más pareja, de hecho pareciera aproximarse al comportamiento de una normal."
   ]
  },
  {
   "cell_type": "markdown",
   "metadata": {},
   "source": [
    "Ya con nuestros datos preparados, proseguimos a buscar un **KDE**."
   ]
  },
  {
   "cell_type": "code",
   "execution_count": 17,
   "metadata": {
    "scrolled": true
   },
   "outputs": [
    {
     "data": {
      "image/png": "[encoded data removed]",
      "text/plain": [
       "<Figure size 432x288 with 1 Axes>"
      ]
     },
     "metadata": {
      "needs_background": "light"
     },
     "output_type": "display_data"
    }
   ],
   "source": [
    "# Trabajaremos con un kernel univariado.\n",
    "# Límites donde nosotros queremos graficar nuestra distribución.\n",
    "x_grid = np.linspace(9,15,1000) \n",
    "\n",
    "# Datos de prueba, tomaremos 100,000.\n",
    "x = data_log.sample(n=100000, random_state=1)\n",
    "\n",
    "# Datos reales. Muestra completa\n",
    "pdf_true = data_log\n",
    "\n",
    "# Con la intención de saber si nuestra muestra representa el comportamiento de la distribución, obtendremos su histograma.\n",
    "sns.histplot(x, color='r', bins=10).set_title('Muestra de 100,000 datos');"
   ]
  },
  {
   "cell_type": "markdown",
   "metadata": {},
   "source": [
    "Al observar el histograma de la distribución, y comparandolo con la muestra aleatoria generada de 100,000. Podemos concluir que 100,000 muestras aleatorias del conjunto de datos, **sí** representa en buena parte la distribución."
   ]
  },
  {
   "cell_type": "code",
   "execution_count": 18,
   "metadata": {},
   "outputs": [],
   "source": [
    "# Definimos función. Regresa la evaluación de la pdf.\n",
    "def kde_statsmodels_u(x, x_grid, **kwargs):\n",
    "    \"\"\"Univariate Kernel Density Estimation with Statsmodels\"\"\"\n",
    "    kde = KDEUnivariate(x)\n",
    "    kde.fit(bw='normal_reference', **kwargs)\n",
    "    return kde.evaluate(x_grid)"
   ]
  },
  {
   "cell_type": "code",
   "execution_count": 19,
   "metadata": {},
   "outputs": [
    {
     "data": {
      "image/png": "[encoded data removed]",
      "text/plain": [
       "<Figure size 432x288 with 1 Axes>"
      ]
     },
     "metadata": {
      "needs_background": "light"
     },
     "output_type": "display_data"
    },
    {
     "name": "stdout",
     "output_type": "stream",
     "text": [
      "El bandwidth óptimo es de: 0.10862356178541112\n"
     ]
    }
   ],
   "source": [
    "# Definición del modelo para la distribución total.\n",
    "kde_univariate = KDEUnivariate(x)\n",
    "\n",
    "# Guardamos el bw óptimo para este modelo\n",
    "bw_optimo = kde_univariate.fit(bw='normal_reference').bw\n",
    "\n",
    "# Graficamos la distribución junto con la estimación.\n",
    "plt.plot(x_grid,kde_statsmodels_u(x, x_grid))\n",
    "plt.hist(x,bins=20,density=True)\n",
    "plt.title('KDE univariate')\n",
    "plt.show()\n",
    "print(f'El bandwidth óptimo es de: {bw_optimo}')"
   ]
  },
  {
   "cell_type": "markdown",
   "metadata": {},
   "source": [
    "De la anterior gráfica podemos observar que nuestro **KDE** parece definir de una buena manera la función de distribución de probabilidad real de nuestros datos. Una cuestión que resalta a simple vista es que parece existir un problema de _overfitting_, donde el **KDE** esta sobreestimando el comportamiento de la distribución real. Con la intención de generar una función de distribución de probabilidad más suavizada, cambiaremos el parámetro bw a un $0.20$."
   ]
  },
  {
   "cell_type": "code",
   "execution_count": 20,
   "metadata": {},
   "outputs": [],
   "source": [
    "# Definimos función. Regresa la evaluación de la pdf.\n",
    "def kde_statsmodels_u(x, x_grid, **kwargs):\n",
    "    \"\"\"Univariate Kernel Density Estimation with Statsmodels\"\"\"\n",
    "    kde = KDEUnivariate(x)\n",
    "    kde.fit(bw=0.20, **kwargs)\n",
    "    return kde.evaluate(x_grid)"
   ]
  },
  {
   "cell_type": "code",
   "execution_count": 21,
   "metadata": {},
   "outputs": [
    {
     "data": {
      "image/png": "[encoded data removed]",
      "text/plain": [
       "<Figure size 432x288 with 1 Axes>"
      ]
     },
     "metadata": {
      "needs_background": "light"
     },
     "output_type": "display_data"
    },
    {
     "name": "stdout",
     "output_type": "stream",
     "text": [
      "El bandwidth es de: 0.20\n"
     ]
    }
   ],
   "source": [
    "# Graficamos la distribución junto con la estimación.\n",
    "plt.plot(x_grid,kde_statsmodels_u(x, x_grid))\n",
    "plt.hist(x,bins=20,density=True)\n",
    "plt.title('KDE univariate')\n",
    "plt.show()\n",
    "print(f'El bandwidth es de: 0.20')"
   ]
  },
  {
   "cell_type": "code",
   "execution_count": 22,
   "metadata": {
    "scrolled": true
   },
   "outputs": [
    {
     "data": {
      "image/png": "[encoded data removed]",
      "text/plain": [
       "<Figure size 432x288 with 1 Axes>"
      ]
     },
     "metadata": {
      "needs_background": "light"
     },
     "output_type": "display_data"
    }
   ],
   "source": [
    "# Definimos la función de distribución de probabilidad a partir del KDEUnivariate.\n",
    "kde_univariate.fit(bw=0.20)\n",
    "f_uni_kde = lambda x: kde_univariate.evaluate(x)\n",
    "\n",
    "# Graficamos la función.\n",
    "plt.plot(x_grid, f_uni_kde(x_grid))\n",
    "plt.title('PDF data');"
   ]
  },
  {
   "cell_type": "markdown",
   "metadata": {},
   "source": [
    "Con la intención de hacer una comparación del ajuste de nuestro **KDE**, respecto a nuestros datos reales, lo que haremos será comparar su aproximación a través de una métrica de error, en este caso particular utilizaremos el **MSE** como referencia."
   ]
  },
  {
   "cell_type": "code",
   "execution_count": 23,
   "metadata": {},
   "outputs": [
    {
     "name": "stdout",
     "output_type": "stream",
     "text": [
      "El error de la suma de la resta de cuadrados que se obtuvo entre nuestro KDE y la distribución real es de: 0.0264\n"
     ]
    }
   ],
   "source": [
    "# Definimos métrica de error.\n",
    "# Almacenamos la distribución real.\n",
    "y_real, x_real = np.histogram(data_log, bins=20, density=True)\n",
    "x_real = x_real[1:]\n",
    "\n",
    "# Definimos la distribución generada por el KDE.\n",
    "y_est = f_uni_kde(x_real)\n",
    "\n",
    "# Calculamos el error.\n",
    "#error_kde = ((y_real-y_est)**2).mean()\n",
    "error_kde =((y_real-y_est)**2).sum()\n",
    "print(f'El error de la suma de la resta de cuadrados que se obtuvo entre nuestro KDE y la distribución real es de: {((error_kde)).round(4)}')"
   ]
  },
  {
   "cell_type": "markdown",
   "metadata": {},
   "source": [
    "Observando el **MSE** obtenido, podemos concluir que el **KDE** univariado que se obtuvo, parece aproximar de una buena manera la distribución que sigue nuesto **Monto Solicitado**, sin embargo, con la intención de generar un análisis más profundo, evaluaremos cuales de las funciones de distribución de probabilidad existentes se ajustan bien a nuestros datos."
   ]
  },
  {
   "cell_type": "markdown",
   "metadata": {},
   "source": [
    "### `Buscando PDF's`."
   ]
  },
  {
   "cell_type": "code",
   "execution_count": 24,
   "metadata": {},
   "outputs": [],
   "source": [
    "# Tratamos de ajustar las distribuciones de probabilidad existentes a nuestro Monto Solicitado.\n",
    "# Comenzamos evaluando el método fit de la librería estadística.\n",
    "# Obtenemos las distribuciones continuas existentes en la librería estadística.\n",
    "dist_con = [d for d in dir(st) if isinstance(getattr(st,d),getattr(st,'rv_continuous'))]\n",
    "\n",
    "# Definimos una función que itere sobre las distribuciones que se indiquen y regrese su error respecto a la distribucion real.\n",
    "def give_error(data: 'Datos de la distribución real',\n",
    "               distributions: 'Lista de distribuciones a evaluar'):\n",
    "    \n",
    "    # Definimos un data frame donde se almacena el MSE.\n",
    "    errores = pd.DataFrame(index=distributions, columns=['MSE'])\n",
    "    \n",
    "    # Definimos los parámetros de la distribución real.\n",
    "    y, x = np.histogram(data, bins=20, density=True)\n",
    "    x = x[1:]  \n",
    "    \n",
    "    # Iteramos en las distribuciones.\n",
    "    for d in distributions:\n",
    "        params = getattr(st,d).fit(data)\n",
    "        y_hat =getattr(st,d)(*params).pdf(x)\n",
    "        errores.loc[d] = ((y-y_hat)**2).mean() \n",
    "        \n",
    "    return errores"
   ]
  },
  {
   "cell_type": "markdown",
   "metadata": {},
   "source": [
    "Al explorar nuestra función _give_error_, nos dimos cuenta que el costo computacional de ajustar nuestro conjunto de datos en cada distribución continua, es demasiado alto. Además de esto observamos que existen distribuciones que parecen no ajustarse del todo bien, lanzando errores y deteniendo la ejecución. Entonces decidimos investigar respecto a la paquetería **Fitter** presente en python, y aquí obtuvimos una ventaja en tema de costos computacionales pues al varíar nosotros el parámetro \"timeout\", decidimos el tiempo de ejecución máximo al ajustar una distribución a los datos, con lo cual eficientamos y ajustamos solo aquellas que responden a las necesidades del problema."
   ]
  },
  {
   "cell_type": "code",
   "execution_count": 30,
   "metadata": {
    "scrolled": true
   },
   "outputs": [
    {
     "data": {
      "text/html": [
       "\n",
       "            <div style=\"float: left; border: 1px solid black; width:500px\">\n",
       "              <div id=\"d34249ff-9f5b-4926-8dd9-21f2d8e4c3ea\" style=\"background-color:blue; width:0%\">&nbsp;</div>\n",
       "            </div>\n",
       "            <label id=\"6a10b7ee-08ac-4c66-b250-1c2336696b8d\" style=\"padding-left: 10px;\" text = \"\"/>\n",
       "            "
      ],
      "text/plain": [
       "<IPython.core.display.HTML object>"
      ]
     },
     "metadata": {},
     "output_type": "display_data"
    },
    {
     "name": "stderr",
     "output_type": "stream",
     "text": [
      "WARNING:root:SKIPPED alpha distribution (taking more than 30 seconds)\n",
      "WARNING:root:SKIPPED anglit distribution (taking more than 30 seconds)\n",
      "WARNING:root:SKIPPED arcsine distribution (taking more than 30 seconds)\n",
      "WARNING:root:SKIPPED argus distribution (taking more than 30 seconds)\n",
      "WARNING:root:SKIPPED bradford distribution (taking more than 30 seconds)\n",
      "WARNING:root:SKIPPED betaprime distribution (taking more than 30 seconds)\n",
      "WARNING:root:SKIPPED beta distribution (taking more than 30 seconds)\n",
      "WARNING:root:SKIPPED burr distribution (taking more than 30 seconds)\n",
      "WARNING:root:SKIPPED burr12 distribution (taking more than 30 seconds)\n",
      "WARNING:root:SKIPPED cauchy distribution (taking more than 30 seconds)\n",
      "WARNING:root:SKIPPED chi distribution (taking more than 30 seconds)\n",
      "WARNING:root:SKIPPED chi2 distribution (taking more than 30 seconds)\n",
      "WARNING:root:SKIPPED cosine distribution (taking more than 30 seconds)\n",
      "WARNING:root:SKIPPED crystalball distribution (taking more than 30 seconds)\n",
      "WARNING:root:SKIPPED dgamma distribution (taking more than 30 seconds)\n",
      "WARNING:root:SKIPPED dweibull distribution (taking more than 30 seconds)\n",
      "WARNING:root:SKIPPED erlang distribution (taking more than 30 seconds)\n",
      "WARNING:root:SKIPPED exponnorm distribution (taking more than 30 seconds)\n",
      "WARNING:root:SKIPPED exponpow distribution (taking more than 30 seconds)\n",
      "WARNING:root:SKIPPED exponweib distribution (taking more than 30 seconds)\n",
      "WARNING:root:SKIPPED f distribution (taking more than 30 seconds)\n",
      "WARNING:root:SKIPPED fatiguelife distribution (taking more than 30 seconds)\n",
      "WARNING:root:SKIPPED fisk distribution (taking more than 30 seconds)\n",
      "WARNING:root:SKIPPED foldcauchy distribution (taking more than 30 seconds)\n",
      "WARNING:root:SKIPPED foldnorm distribution (taking more than 30 seconds)\n",
      "WARNING:root:SKIPPED frechet_l distribution (taking more than 30 seconds)\n",
      "WARNING:root:SKIPPED frechet_r distribution (taking more than 30 seconds)\n",
      "WARNING:root:SKIPPED gamma distribution (taking more than 30 seconds)\n",
      "WARNING:root:SKIPPED gausshyper distribution (taking more than 30 seconds)\n",
      "WARNING:root:SKIPPED genexpon distribution (taking more than 30 seconds)\n",
      "WARNING:root:SKIPPED genextreme distribution (taking more than 30 seconds)\n",
      "WARNING:root:SKIPPED gengamma distribution (taking more than 30 seconds)\n",
      "WARNING:root:SKIPPED genhalflogistic distribution (taking more than 30 seconds)\n",
      "WARNING:root:SKIPPED geninvgauss distribution (taking more than 30 seconds)\n",
      "WARNING:root:SKIPPED genlogistic distribution (taking more than 30 seconds)\n",
      "WARNING:root:SKIPPED gennorm distribution (taking more than 30 seconds)\n",
      "WARNING:root:SKIPPED genpareto distribution (taking more than 30 seconds)\n",
      "WARNING:root:SKIPPED gilbrat distribution (taking more than 30 seconds)\n",
      "WARNING:root:SKIPPED gompertz distribution (taking more than 30 seconds)\n",
      "WARNING:root:SKIPPED gumbel_l distribution (taking more than 30 seconds)\n",
      "WARNING:root:SKIPPED gumbel_r distribution (taking more than 30 seconds)\n",
      "WARNING:root:SKIPPED halfcauchy distribution (taking more than 30 seconds)\n",
      "WARNING:root:SKIPPED halfgennorm distribution (taking more than 30 seconds)\n",
      "WARNING:root:SKIPPED halflogistic distribution (taking more than 30 seconds)\n",
      "WARNING:root:SKIPPED halfnorm distribution (taking more than 30 seconds)\n",
      "WARNING:root:SKIPPED hypsecant distribution (taking more than 30 seconds)\n",
      "WARNING:root:SKIPPED invgamma distribution (taking more than 30 seconds)\n",
      "WARNING:root:SKIPPED invgauss distribution (taking more than 30 seconds)\n",
      "WARNING:root:SKIPPED kstwo distribution (taking more than 30 seconds)\n",
      "WARNING:root:SKIPPED invweibull distribution (taking more than 30 seconds)\n",
      "WARNING:root:SKIPPED johnsonsb distribution (taking more than 30 seconds)\n",
      "WARNING:root:SKIPPED johnsonsu distribution (taking more than 30 seconds)\n",
      "WARNING:root:SKIPPED kappa4 distribution (taking more than 30 seconds)\n",
      "WARNING:root:SKIPPED kappa3 distribution (taking more than 30 seconds)\n",
      "WARNING:root:SKIPPED ksone distribution (taking more than 30 seconds)\n",
      "WARNING:root:SKIPPED kstwobign distribution (taking more than 30 seconds)\n",
      "WARNING:root:SKIPPED levy distribution (taking more than 30 seconds)\n",
      "WARNING:root:SKIPPED levy_l distribution (taking more than 30 seconds)\n",
      "WARNING:root:SKIPPED levy_stable distribution (taking more than 30 seconds)\n",
      "WARNING:root:SKIPPED loggamma distribution (taking more than 30 seconds)\n",
      "WARNING:root:SKIPPED logistic distribution (taking more than 30 seconds)\n",
      "WARNING:root:SKIPPED loglaplace distribution (taking more than 30 seconds)\n",
      "WARNING:root:SKIPPED lognorm distribution (taking more than 30 seconds)\n",
      "WARNING:root:SKIPPED loguniform distribution (taking more than 30 seconds)\n",
      "WARNING:root:SKIPPED lomax distribution (taking more than 30 seconds)\n",
      "WARNING:root:SKIPPED maxwell distribution (taking more than 30 seconds)\n",
      "WARNING:root:SKIPPED mielke distribution (taking more than 30 seconds)\n",
      "WARNING:root:SKIPPED moyal distribution (taking more than 30 seconds)\n",
      "WARNING:root:SKIPPED nakagami distribution (taking more than 30 seconds)\n",
      "WARNING:root:SKIPPED ncf distribution (taking more than 30 seconds)\n",
      "WARNING:root:SKIPPED nct distribution (taking more than 30 seconds)\n",
      "WARNING:root:SKIPPED ncx2 distribution (taking more than 30 seconds)\n",
      "WARNING:root:SKIPPED norminvgauss distribution (taking more than 30 seconds)\n",
      "WARNING:root:SKIPPED pareto distribution (taking more than 30 seconds)\n",
      "WARNING:root:SKIPPED pearson3 distribution (taking more than 30 seconds)\n",
      "WARNING:root:SKIPPED powerlaw distribution (taking more than 30 seconds)\n",
      "WARNING:root:SKIPPED rv_continuous distribution (taking more than 30 seconds)\n",
      "WARNING:root:SKIPPED powerlognorm distribution (taking more than 30 seconds)\n",
      "WARNING:root:SKIPPED powernorm distribution (taking more than 30 seconds)\n",
      "WARNING:root:SKIPPED rv_histogram distribution (taking more than 30 seconds)\n",
      "WARNING:root:SKIPPED rayleigh distribution (taking more than 30 seconds)\n",
      "WARNING:root:SKIPPED rdist distribution (taking more than 30 seconds)\n",
      "WARNING:root:SKIPPED recipinvgauss distribution (taking more than 30 seconds)\n",
      "WARNING:root:SKIPPED reciprocal distribution (taking more than 30 seconds)\n",
      "WARNING:root:SKIPPED rice distribution (taking more than 30 seconds)\n",
      "WARNING:root:SKIPPED semicircular distribution (taking more than 30 seconds)\n",
      "WARNING:root:SKIPPED skewnorm distribution (taking more than 30 seconds)\n",
      "WARNING:root:SKIPPED t distribution (taking more than 30 seconds)\n",
      "WARNING:root:SKIPPED trapz distribution (taking more than 30 seconds)\n",
      "WARNING:root:SKIPPED triang distribution (taking more than 30 seconds)\n",
      "WARNING:root:SKIPPED truncexpon distribution (taking more than 30 seconds)\n",
      "WARNING:root:SKIPPED truncnorm distribution (taking more than 30 seconds)\n",
      "WARNING:root:SKIPPED tukeylambda distribution (taking more than 30 seconds)\n",
      "WARNING:root:SKIPPED vonmises distribution (taking more than 30 seconds)\n",
      "WARNING:root:SKIPPED vonmises_line distribution (taking more than 30 seconds)\n",
      "WARNING:root:SKIPPED wald distribution (taking more than 30 seconds)\n",
      "WARNING:root:SKIPPED weibull_max distribution (taking more than 30 seconds)\n",
      "WARNING:root:SKIPPED weibull_min distribution (taking more than 30 seconds)\n"
     ]
    },
    {
     "name": "stdout",
     "output_type": "stream",
     "text": [
      "Wall time: 6min 17s\n"
     ]
    },
    {
     "data": {
      "text/html": [
       "<div>\n",
       "<style scoped>\n",
       "    .dataframe tbody tr th:only-of-type {\n",
       "        vertical-align: middle;\n",
       "    }\n",
       "\n",
       "    .dataframe tbody tr th {\n",
       "        vertical-align: top;\n",
       "    }\n",
       "\n",
       "    .dataframe thead th {\n",
       "        text-align: right;\n",
       "    }\n",
       "</style>\n",
       "<table border=\"1\" class=\"dataframe\">\n",
       "  <thead>\n",
       "    <tr style=\"text-align: right;\">\n",
       "      <th></th>\n",
       "      <th>sumsquare_error</th>\n",
       "      <th>aic</th>\n",
       "      <th>bic</th>\n",
       "      <th>kl_div</th>\n",
       "    </tr>\n",
       "  </thead>\n",
       "  <tbody>\n",
       "    <tr>\n",
       "      <th>norm</th>\n",
       "      <td>0.038144</td>\n",
       "      <td>106.739881</td>\n",
       "      <td>-1.477908e+06</td>\n",
       "      <td>0.071227</td>\n",
       "    </tr>\n",
       "    <tr>\n",
       "      <th>laplace</th>\n",
       "      <td>0.066549</td>\n",
       "      <td>101.924509</td>\n",
       "      <td>-1.422251e+06</td>\n",
       "      <td>0.135372</td>\n",
       "    </tr>\n",
       "    <tr>\n",
       "      <th>uniform</th>\n",
       "      <td>0.388772</td>\n",
       "      <td>77.968514</td>\n",
       "      <td>-1.245746e+06</td>\n",
       "      <td>1.221552</td>\n",
       "    </tr>\n",
       "    <tr>\n",
       "      <th>expon</th>\n",
       "      <td>0.573241</td>\n",
       "      <td>90.374034</td>\n",
       "      <td>-1.206914e+06</td>\n",
       "      <td>1.870625</td>\n",
       "    </tr>\n",
       "    <tr>\n",
       "      <th>kappa3</th>\n",
       "      <td>inf</td>\n",
       "      <td>inf</td>\n",
       "      <td>inf</td>\n",
       "      <td>inf</td>\n",
       "    </tr>\n",
       "  </tbody>\n",
       "</table>\n",
       "</div>"
      ],
      "text/plain": [
       "         sumsquare_error         aic           bic    kl_div\n",
       "norm            0.038144  106.739881 -1.477908e+06  0.071227\n",
       "laplace         0.066549  101.924509 -1.422251e+06  0.135372\n",
       "uniform         0.388772   77.968514 -1.245746e+06  1.221552\n",
       "expon           0.573241   90.374034 -1.206914e+06  1.870625\n",
       "kappa3               inf         inf           inf       inf"
      ]
     },
     "execution_count": 30,
     "metadata": {},
     "output_type": "execute_result"
    }
   ],
   "source": [
    "%%time\n",
    "warnings.filterwarnings(\"ignore\")\n",
    "\n",
    "# Calculamos el costo computacional de la paquetería fitter.\n",
    "# Definimos el tiempo de ajuste máximo de 30 segundos.\n",
    "f_fitter = Fitter(x, bins=20, timeout=30)\n",
    "f_fitter.fit()\n",
    "error_fitter = f_fitter.summary(plot=False)\n",
    "error_fitter"
   ]
  },
  {
   "cell_type": "code",
   "execution_count": 32,
   "metadata": {
    "scrolled": true
   },
   "outputs": [
    {
     "data": {
      "text/html": [
       "<div>\n",
       "<style scoped>\n",
       "    .dataframe tbody tr th:only-of-type {\n",
       "        vertical-align: middle;\n",
       "    }\n",
       "\n",
       "    .dataframe tbody tr th {\n",
       "        vertical-align: top;\n",
       "    }\n",
       "\n",
       "    .dataframe thead th {\n",
       "        text-align: right;\n",
       "    }\n",
       "</style>\n",
       "<table border=\"1\" class=\"dataframe\">\n",
       "  <thead>\n",
       "    <tr style=\"text-align: right;\">\n",
       "      <th></th>\n",
       "      <th>sumsquare_error</th>\n",
       "      <th>aic</th>\n",
       "      <th>bic</th>\n",
       "      <th>kl_div</th>\n",
       "    </tr>\n",
       "  </thead>\n",
       "  <tbody>\n",
       "    <tr>\n",
       "      <th>norm</th>\n",
       "      <td>0.038144</td>\n",
       "      <td>106.739881</td>\n",
       "      <td>-1.477908e+06</td>\n",
       "      <td>0.071227</td>\n",
       "    </tr>\n",
       "    <tr>\n",
       "      <th>laplace</th>\n",
       "      <td>0.066549</td>\n",
       "      <td>101.924509</td>\n",
       "      <td>-1.422251e+06</td>\n",
       "      <td>0.135372</td>\n",
       "    </tr>\n",
       "    <tr>\n",
       "      <th>uniform</th>\n",
       "      <td>0.388772</td>\n",
       "      <td>77.968514</td>\n",
       "      <td>-1.245746e+06</td>\n",
       "      <td>1.221552</td>\n",
       "    </tr>\n",
       "  </tbody>\n",
       "</table>\n",
       "</div>"
      ],
      "text/plain": [
       "         sumsquare_error         aic           bic    kl_div\n",
       "norm            0.038144  106.739881 -1.477908e+06  0.071227\n",
       "laplace         0.066549  101.924509 -1.422251e+06  0.135372\n",
       "uniform         0.388772   77.968514 -1.245746e+06  1.221552"
      ]
     },
     "execution_count": 32,
     "metadata": {},
     "output_type": "execute_result"
    }
   ],
   "source": [
    "# Definimos el top 3 de las distribuciones que según el sse mejor se ajustan.\n",
    "best_error = error_fitter.sort_values(by='sumsquare_error').head(3)\n",
    "best_error"
   ]
  },
  {
   "cell_type": "markdown",
   "metadata": {},
   "source": [
    "Tomando en cuenta el **SSE**, con la paquetería **Fitter**, obtenemos que el top 3 de distribuciones que mejor se ajustan a nuestra muestra son las siguientes:\n",
    "- **Norm**\n",
    "- **Laplace**\n",
    "- **Uniform**"
   ]
  },
  {
   "cell_type": "code",
   "execution_count": 33,
   "metadata": {},
   "outputs": [
    {
     "name": "stdout",
     "output_type": "stream",
     "text": [
      "Wall time: 4.12 s\n"
     ]
    },
    {
     "data": {
      "text/html": [
       "<div>\n",
       "<style scoped>\n",
       "    .dataframe tbody tr th:only-of-type {\n",
       "        vertical-align: middle;\n",
       "    }\n",
       "\n",
       "    .dataframe tbody tr th {\n",
       "        vertical-align: top;\n",
       "    }\n",
       "\n",
       "    .dataframe thead th {\n",
       "        text-align: right;\n",
       "    }\n",
       "</style>\n",
       "<table border=\"1\" class=\"dataframe\">\n",
       "  <thead>\n",
       "    <tr style=\"text-align: right;\">\n",
       "      <th></th>\n",
       "      <th>MSE</th>\n",
       "    </tr>\n",
       "  </thead>\n",
       "  <tbody>\n",
       "    <tr>\n",
       "      <th>norm</th>\n",
       "      <td>0.0013035</td>\n",
       "    </tr>\n",
       "    <tr>\n",
       "      <th>laplace</th>\n",
       "      <td>0.00430666</td>\n",
       "    </tr>\n",
       "    <tr>\n",
       "      <th>uniform</th>\n",
       "      <td>0.0194386</td>\n",
       "    </tr>\n",
       "  </tbody>\n",
       "</table>\n",
       "</div>"
      ],
      "text/plain": [
       "                MSE\n",
       "norm      0.0013035\n",
       "laplace  0.00430666\n",
       "uniform   0.0194386"
      ]
     },
     "execution_count": 33,
     "metadata": {},
     "output_type": "execute_result"
    }
   ],
   "source": [
    "%%time\n",
    "# Con la intención de comparar el error, ahora utilizaremos nuestra función give_error.\n",
    "# En ella evaluamos el error medio cuadrático, esto con la intención de ver si evaluando otro error obtenemos el mismo orden.\n",
    "give_error(x, ['norm', 'laplace', 'uniform']).sort_values(by='MSE')"
   ]
  },
  {
   "cell_type": "markdown",
   "metadata": {},
   "source": [
    "Al observar los errores obtenidos tanto con el **SSE** y el **MSE**, en ambos casos observamos que tenenmos exactamente el mismo orden. Ahora, con la intención de encontrar cuál de ellas resulta ser la que mejor se ajusta a nuestro conjunto de datos, realizaremos un análisis para cada una de las distribuciones descritas. Esto lo haremos a través de la prueba de **Kolmogorov-Smirnov** y una prueba **Cuantil-Cuantil**."
   ]
  },
  {
   "cell_type": "markdown",
   "metadata": {},
   "source": [
    "Comenzamos comparando con la _distribución normal_, de manera que nuestra prueba de hipótesis se describe de la siguiente manera:\n",
    "- $H_{0}$: Los datos se distribuyen de manera normal con media ($\\mu$) y varianza ($\\sigma^{2}$).\n",
    "- $H_{a}$: Los datos no se distribuyen de manera normal."
   ]
  },
  {
   "cell_type": "code",
   "execution_count": 34,
   "metadata": {
    "scrolled": true
   },
   "outputs": [
    {
     "data": {
      "text/plain": [
       "KstestResult(statistic=0.050488156734008416, pvalue=5.666168067925948e-222)"
      ]
     },
     "execution_count": 34,
     "metadata": {},
     "output_type": "execute_result"
    }
   ],
   "source": [
    "# Comenzamos para la distribución normal. Prueba Kolmogorov-Smirnov.\n",
    "# Definimos los parámetros para la distribución.\n",
    "normal_params = st.norm.fit(x)\n",
    "\n",
    "# Definimos prueba de hipotesis.\n",
    "st.kstest(x, lambda x: st.norm.cdf(x,*normal_params))"
   ]
  },
  {
   "cell_type": "markdown",
   "metadata": {},
   "source": [
    "Observando nuestro \"p-value\", vemos como al ser muy pequeño nos da indicios para rechazar la hipótesis nula, de manera que podemos decir que estadísticamente nuestro **Monto Solicitado** **NO** se distribuye como una normal. \n",
    "\n",
    "Ahora realizamos la prueba **Cuantil-Cuantil**."
   ]
  },
  {
   "cell_type": "code",
   "execution_count": 39,
   "metadata": {},
   "outputs": [],
   "source": [
    "# Definimos una función que nos grafique la distribución real, la ajustada y el q-q plot.\n",
    "def plot_pdf_qq(v_ale_real: 'Variables aleatorias de la distribución real',\n",
    "                bins: 'Número de bins del histograma',\n",
    "                distribution: 'Nombre de la distribución a evaluar'):\n",
    "    # Histograma de las variables reales del conjunto de datos.\n",
    "    divisiones = bins # Cantidad de barras en el histograma\n",
    "    fig, ax = plt.subplots(2,1, figsize=(14,8))\n",
    "    fig.tight_layout(pad=3.0)\n",
    "\n",
    "    y, x, _ = ax[0].hist(v_ale_hipo, divisiones, density=True, label='Histograma mediciones')\n",
    "\n",
    "    # Función de distribución de probabilidad la cual creemos que mis datos distribuyen \n",
    "    dist = distribution\n",
    "    params = getattr(st, dist).fit(v_ale_hipo)\n",
    "\n",
    "    # Graficar PDF de la distribución que queremos probar\n",
    "    y_hat = getattr(st, dist).pdf(x, *params)\n",
    "    ax[0].plot(x, y_hat,'r--', label='Distribución ajustada')\n",
    "    ax[0].set_ylabel('Probability')\n",
    "    ax[0].grid()\n",
    "\n",
    "    # Gráfica de Q-Q entre mis datos y la curva que quiero probar que sigue mi distribución (dist)\n",
    "    grap2 = st.probplot(v_ale_hipo, dist=dist, sparams=getattr(st, dist).fit(x)[:-2], plot=ax[1], fit=True)\n",
    "    ax[1].grid()\n",
    "    ax[1].set_title('Q-Q Plot')\n",
    "\n",
    "    plt.show()"
   ]
  },
  {
   "cell_type": "code",
   "execution_count": 44,
   "metadata": {},
   "outputs": [],
   "source": [
    "# Graficamos la distribución y el q-q plot.\n",
    "# Comenzamos para la distribución normal\n",
    "v_ale_real = x\n",
    "bins_norm = 20\n",
    "distribution_name = 'norm'"
   ]
  },
  {
   "cell_type": "code",
   "execution_count": 45,
   "metadata": {},
   "outputs": [
    {
     "data": {
      "image/png": "[encoded data removed]",
      "text/plain": [
       "<Figure size 1008x576 with 2 Axes>"
      ]
     },
     "metadata": {
      "needs_background": "light"
     },
     "output_type": "display_data"
    }
   ],
   "source": [
    "# Graficamos\n",
    "plot_pdf_qq(v_ale_real, bins_norm, distribution_name)"
   ]
  },
  {
   "cell_type": "markdown",
   "metadata": {},
   "source": [
    "Observando nuestro gráfico **Cuantil - Cuantil**, podemos confirmar lo descrito por nuestra prueba de **Kolmogorov-Smirnov**. Nuestros datos no se distribuyen de manera normal."
   ]
  },
  {
   "cell_type": "markdown",
   "metadata": {},
   "source": [
    "Ahora evaluaremos la _distribución de laplace_. Entonces tenemos la siguiente prueba de hipótesis:\n",
    "- $H_{0}$: Los datos se distribuyen como laplace con media ($\\mu$) y varianza ($2b^{2}$).\n",
    "- $H_{a}$: Los datos no se distribuyen como laplace."
   ]
  },
  {
   "cell_type": "code",
   "execution_count": 36,
   "metadata": {},
   "outputs": [
    {
     "data": {
      "text/plain": [
       "KstestResult(statistic=0.06326192876843784, pvalue=0.0)"
      ]
     },
     "execution_count": 36,
     "metadata": {},
     "output_type": "execute_result"
    }
   ],
   "source": [
    "# Prueba Kolmogorov-Smirnov. Para la distribución de laplace.\n",
    "# Definimos los parámetros para la distribución.\n",
    "laplace_params = st.laplace.fit(x)\n",
    "\n",
    "# Definimos prueba de hipotesis.\n",
    "st.kstest(x, lambda x: st.laplace.cdf(x,*laplace_params))"
   ]
  },
  {
   "cell_type": "markdown",
   "metadata": {},
   "source": [
    "En el caso de la _distribución de laplace_ obsevamos que contamos con un \"p-value\" que ronda el $0$, el cual, ya nos dice de antemano que rechazemos la hipótesis nula ($H_{0}$), de manera que podemos decir que estadísticamente nuestro conjunto de datos no ditribuye como Laplace.\n",
    "\n",
    "Ahora realizamos la prueba **Cuantil-Cuantil**."
   ]
  },
  {
   "cell_type": "code",
   "execution_count": 46,
   "metadata": {
    "scrolled": true
   },
   "outputs": [
    {
     "data": {
      "image/png": "[encoded data removed]",
      "text/plain": [
       "<Figure size 1008x576 with 2 Axes>"
      ]
     },
     "metadata": {
      "needs_background": "light"
     },
     "output_type": "display_data"
    }
   ],
   "source": [
    "# Graficamos la distribución y el q-q plot.\n",
    "# Ahora para la distribución de laplace\n",
    "distribution_name2 = 'laplace'\n",
    "\n",
    "# Graficamos.\n",
    "plot_pdf_qq(v_ale_real, bins_norm, distribution_name2)"
   ]
  },
  {
   "cell_type": "markdown",
   "metadata": {},
   "source": [
    "Aquí nuevamente confirmamos los descrito por nuestra prueba de **Kolmogorov-Smirnov**, los datos no se distribuyen como una _distribución de laplace_."
   ]
  },
  {
   "cell_type": "markdown",
   "metadata": {},
   "source": [
    "Por último, para terminar de evaluar las distribuciones con menor error de aproximación, tenemos a la _distribución uniforme_. La prueba de hipótesis se ve de la siguiente manera:\n",
    "- $H_{0}$: Los datos se distribuyen de manera uniforme con media $\\big(\\frac{a+b}{2}\\big)$ y varianza $\\big(\\frac{(b-a)^2}{12}\\big)$.\n",
    "- $H_{a}$: Los datos no se distribuyen de manera uniforme."
   ]
  },
  {
   "cell_type": "code",
   "execution_count": 37,
   "metadata": {},
   "outputs": [
    {
     "data": {
      "text/plain": [
       "KstestResult(statistic=0.3143699054219091, pvalue=0.029593910656331435)"
      ]
     },
     "execution_count": 37,
     "metadata": {},
     "output_type": "execute_result"
    }
   ],
   "source": [
    "# Prueba Kolmogorov-Smirnov. Para la distribución de uniforme.\n",
    "# Definimos los parámetros para la distribución.\n",
    "uniform_params = st.uniform.fit(y_real)\n",
    "\n",
    "# Definimos prueba de hipotesis.\n",
    "st.kstest(y_real, lambda x: st.uniform.cdf(x,*uniform_params))"
   ]
  },
  {
   "cell_type": "markdown",
   "metadata": {},
   "source": [
    "De esta distribución con su \"p-value\" pequeño, podemos decir de manera inmediata que rechazamos la hipótesis nula ($H_{0}$). Por lo tanto nuestro conjunto de datos, **NO** se distribuye como una _distribución uniforme_."
   ]
  },
  {
   "cell_type": "markdown",
   "metadata": {},
   "source": [
    "Ahora realizamos la prueba **Cuantil-Cuantil**."
   ]
  },
  {
   "cell_type": "code",
   "execution_count": 47,
   "metadata": {},
   "outputs": [
    {
     "data": {
      "image/png": "[encoded data removed]",
      "text/plain": [
       "<Figure size 1008x576 with 2 Axes>"
      ]
     },
     "metadata": {
      "needs_background": "light"
     },
     "output_type": "display_data"
    }
   ],
   "source": [
    "# Graficamos la distribución y el q-q plot.\n",
    "# Ahora para la distribución de uniforme.\n",
    "distribution_name3 = 'uniform'\n",
    "\n",
    "# Graficamos.\n",
    "plot_pdf_qq(v_ale_real, bins_norm, distribution_name3)"
   ]
  },
  {
   "cell_type": "markdown",
   "metadata": {},
   "source": [
    "Para el caso de la _distribución uniforme_ confirmamos nuevamente la situación que se viene repitiendo. Nuestro conjunto de datos **Monto Solicitado** no se distribuyen de manera uniforme, esto si observamos nuestro \"Q-Q Plot\", donde a lo largo de la recta pareciera ajustarse bien, sin embargo, en las colas de la distribución vemos como se salen del ajuste lineal."
   ]
  },
  {
   "cell_type": "markdown",
   "metadata": {},
   "source": [
    "Entonces, después de analizar el ajuste de la distribución tanto para un **KDE** como para distribuciones de probabilidad hipóteticas, en este caso particular, para las distribuciones **Normal**, **Laplace** y **Uniforme** ninguna se ajustó de manera óptima a nuestro conjunto de datos, con lo cual asumiremos la estimación por **KDE** como la función óptima para generar variables aleatorias que distribuyen como $f(x)$ del **Monto Solicitado**."
   ]
  },
  {
   "cell_type": "markdown",
   "metadata": {},
   "source": [
    "Para generar variables aleatorias que distribuyen como nuestra $f(x)$, utilizaremos el **Método de Aceptación y Rechazo**."
   ]
  },
  {
   "cell_type": "markdown",
   "metadata": {},
   "source": [
    "### `Aceptación y Rechazo`."
   ]
  },
  {
   "cell_type": "code",
   "execution_count": 60,
   "metadata": {},
   "outputs": [],
   "source": [
    "# Método de aceptación rechazo.\n",
    "# Este metodo genera N variables aleatorias\n",
    "def values_acep_rechazo(N:'Cantidad de variables aleatorias a generar',\n",
    "                        f:'Función objetivo a generar',\n",
    "                        t:'Función que mayorea a f',\n",
    "                        lim_inf:'Límite inferior para R2',\n",
    "                        lim_sup:'Límite superior para R2'):\n",
    "    c = []\n",
    "    i = 0\n",
    "    agregador = c.append\n",
    "    \n",
    "    # Iteramos hasta lograr N variables aleatorias.\n",
    "    while i < N:\n",
    "        \n",
    "        # Generación de variables aleatorias bajo los parámetros establecidos\n",
    "        R1 = np.random.rand(1)\n",
    "        R2 = np.random.uniform(lim_inf,lim_sup,size=1)\n",
    "        \n",
    "        f_x = f(R1)\n",
    "        t_x = t(R1)\n",
    "        \n",
    "        # Condición de aceptación.\n",
    "        if R1 * f_x <= t_x:\n",
    "            agregador(float(R2))  \n",
    "        i+=1 \n",
    "        \n",
    "    return c"
   ]
  },
  {
   "cell_type": "markdown",
   "metadata": {},
   "source": [
    "Ya con las funciones del **Método de Aceptación y Rechazo** programadas, ahora que haremos será definir los parámetros necesarios para generar los aleatorios. Definiremos como la función que mayora $t(x)$ como una constante, la cual será el máximo de la función $f(x)$."
   ]
  },
  {
   "cell_type": "code",
   "execution_count": 58,
   "metadata": {},
   "outputs": [
    {
     "name": "stdout",
     "output_type": "stream",
     "text": [
      "El máximo de nuestra f(x) es: 0.3841074592743751\n"
     ]
    }
   ],
   "source": [
    "# Definimos el máximo de la función de distribución de probabilidad.\n",
    "max_f = max(f_uni_kde(x_grid))\n",
    "print('El máximo de nuestra f(x) es:',max_f)\n",
    "\n",
    "# Transformamos el máximo en una función constante definida en el dominio de nuestra PDF.\n",
    "t = lambda x: max_f * np.ones([len(x)])\n",
    "\n",
    "# Gráficamos nuestra PDF junto con la función que la mayora.\n",
    "plt.plot(x_grid, f_uni_kde(x_grid), label='f(x)')\n",
    "plt.plot(x_grid, t(x_grid), label='t(x)')\n",
    "plt.title('$t(x) \\geq f(x)$')\n",
    "plt.legend();"
   ]
  },
  {
   "cell_type": "code",
   "execution_count": 65,
   "metadata": {},
   "outputs": [
    {
     "data": {
      "text/plain": [
       "[9.80774634995828,\n",
       " 14.753883656144028,\n",
       " 12.49249192738483,\n",
       " 12.665607947993852,\n",
       " 12.391799316590559,\n",
       " 14.783727828166642,\n",
       " 9.553425789767886,\n",
       " 13.647923952582778,\n",
       " 10.229145928124352,\n",
       " 11.217277682089414,\n",
       " 9.659784032808801,\n",
       " 11.749466764409288,\n",
       " 13.907219664584773,\n",
       " 10.11021119920285,\n",
       " 10.516675716332905,\n",
       " 12.169831330258404,\n",
       " 9.449751937994213,\n",
       " 13.295457771949346,\n",
       " 13.384191651406372,\n",
       " 14.81069889718663,\n",
       " 9.854002606488852,\n",
       " 11.596391696790143,\n",
       " 12.153222305858089,\n",
       " 14.886027188401226,\n",
       " 12.583707759986861,\n",
       " 11.047892521386252,\n",
       " 11.132371994669164,\n",
       " 10.3883964009698,\n",
       " 13.114049387956726,\n",
       " 9.899754649471815,\n",
       " 14.977189377582143,\n",
       " 9.370743655020455,\n",
       " 10.311795288029446,\n",
       " 11.939458371188476,\n",
       " 11.850366270413637,\n",
       " 12.678514995308811,\n",
       " 9.972051827296745,\n",
       " 11.608343550326882,\n",
       " 9.401995070396376,\n",
       " 12.748153427418455,\n",
       " 9.343862043506194,\n",
       " 11.567666486299494,\n",
       " 9.783642989781912,\n",
       " 9.20071221699345,\n",
       " 10.516248414134623,\n",
       " 11.35881832789144,\n",
       " 9.11584820802122,\n",
       " 14.59072992070995,\n",
       " 11.90808589268243,\n",
       " 14.80719405859562,\n",
       " 9.084142279408699,\n",
       " 9.430646964444986,\n",
       " 14.608126085513387,\n",
       " 11.84480946254914,\n",
       " 9.394946808237748,\n",
       " 9.709807114822723,\n",
       " 14.420803189455045,\n",
       " 11.35492559781734,\n",
       " 9.925397047230554,\n",
       " 11.081012012374476,\n",
       " 12.231510019405992,\n",
       " 11.46436599845126,\n",
       " 9.703905510233977,\n",
       " 9.675891636020433,\n",
       " 9.533992507098656,\n",
       " 9.353807479368456,\n",
       " 14.13492618953505,\n",
       " 12.930215567847196,\n",
       " 12.435041527062186,\n",
       " 10.594067278677857,\n",
       " 12.918062410658242,\n",
       " 12.557070061663687,\n",
       " 13.655911836644973,\n",
       " 11.74945543327652,\n",
       " 9.752433364533692,\n",
       " 11.401748017411403,\n",
       " 13.108351036848646,\n",
       " 9.78664204377095,\n",
       " 11.648366972030468,\n",
       " 12.57980668508307,\n",
       " 9.894638864982596,\n",
       " 12.157654641608271,\n",
       " 12.66539222055621,\n",
       " 14.129628207297179,\n",
       " 11.823971493376295,\n",
       " 13.318449577348627,\n",
       " 14.922382753233558,\n",
       " 14.334234827350887,\n",
       " 10.494131228792597,\n",
       " 11.76729523237873,\n",
       " 11.788382040370335,\n",
       " 12.8077163593047,\n",
       " 13.187196171750882,\n",
       " 12.899108372698247,\n",
       " 11.022068895273462,\n",
       " 12.169377035897291,\n",
       " 12.48021846519933,\n",
       " 10.837955006244737,\n",
       " 9.606317224309464,\n",
       " 11.8341520205962,\n",
       " 13.063997673434237,\n",
       " 12.673310420656485,\n",
       " 11.983262693931012,\n",
       " 14.593784484708332,\n",
       " 10.27847693454296,\n",
       " 13.656893276295033,\n",
       " 13.13754802731269,\n",
       " 10.632011280675183,\n",
       " 9.927954738968136,\n",
       " 12.363859708168388,\n",
       " 12.194963285570083,\n",
       " 9.943281834011472,\n",
       " 9.510169456071333,\n",
       " 10.650542742339479,\n",
       " 9.042459919820212,\n",
       " 11.883592958357948,\n",
       " 12.877992237338779,\n",
       " 10.292192100549062,\n",
       " 12.621236889744711,\n",
       " 12.336483468234963,\n",
       " 13.37157549064581,\n",
       " 10.996571367640012,\n",
       " 10.122270414870899,\n",
       " 11.56871279206028,\n",
       " 10.968743893120704,\n",
       " 14.493805475871124,\n",
       " 14.050700632014301,\n",
       " 12.929409363938575,\n",
       " 14.062410753231408,\n",
       " 12.021748482663043,\n",
       " 13.113862154272017,\n",
       " 10.893997782059893,\n",
       " 14.803522028911026,\n",
       " 10.9155052588969,\n",
       " 9.442137731545445,\n",
       " 11.166181984150446,\n",
       " 12.023160376511086,\n",
       " 12.622340516040289,\n",
       " 11.957048745463709,\n",
       " 12.382124131501126,\n",
       " 14.40109862323925,\n",
       " 12.94089329444138,\n",
       " 9.081154435256094,\n",
       " 10.138962851581056,\n",
       " 14.61936043457221,\n",
       " 14.766627793641248,\n",
       " 11.621916140929446,\n",
       " 12.024269523622774,\n",
       " 9.13784473187699,\n",
       " 11.848320679117908,\n",
       " 9.440788424726941,\n",
       " 10.562805277485474,\n",
       " 9.343882139890173,\n",
       " 14.084470822749395,\n",
       " 10.423833035028306,\n",
       " 9.415040651388981,\n",
       " 11.409653236532879,\n",
       " 11.309051731425406,\n",
       " 10.263448546100067,\n",
       " 13.829970050561643,\n",
       " 10.367075834252502,\n",
       " 11.081685175374945,\n",
       " 14.514043379589697,\n",
       " 11.78661424785445,\n",
       " 14.097415448885634,\n",
       " 12.004398863498935,\n",
       " 9.158716021668681,\n",
       " 10.9434353234908,\n",
       " 11.438929446369887,\n",
       " 10.80179458645122,\n",
       " 10.987954521440312,\n",
       " 9.310439183223362,\n",
       " 11.534535131012731,\n",
       " 13.66933790203831,\n",
       " 12.833874084711473,\n",
       " 11.107710911325693,\n",
       " 14.176333059086618,\n",
       " 11.766828161267213,\n",
       " 11.720657484501881,\n",
       " 13.915781317507891,\n",
       " 9.93142771174494,\n",
       " 9.442294846288116,\n",
       " 14.511163941277847,\n",
       " 11.602421207628355,\n",
       " 10.586751976154273,\n",
       " 12.530772564038172,\n",
       " 9.767398958024968,\n",
       " 9.869545777177995,\n",
       " 9.080179320163506,\n",
       " 13.82976718010274,\n",
       " 11.627926720030883,\n",
       " 9.371090090392247,\n",
       " 10.038241120250223,\n",
       " 10.22570204416312,\n",
       " 12.180002676839138,\n",
       " 11.33028089355118,\n",
       " 12.869491889275599,\n",
       " 10.436289221470108,\n",
       " 10.552386895643878,\n",
       " 11.910017290411165,\n",
       " 14.501694444478868,\n",
       " 14.530737851561259,\n",
       " 9.28753011044055,\n",
       " 12.777398176444157,\n",
       " 11.623161830651686,\n",
       " 13.794006422276333,\n",
       " 10.836725583758426,\n",
       " 10.362474591594587,\n",
       " 12.387786979457477,\n",
       " 13.483821707286273,\n",
       " 9.937633700334333,\n",
       " 14.733109706004429,\n",
       " 13.842101145624806,\n",
       " 13.474961061603388,\n",
       " 9.623997261641446,\n",
       " 14.345825082081117,\n",
       " 10.704500177340245,\n",
       " 12.509238795712335,\n",
       " 12.387637218926223,\n",
       " 10.861558248208397,\n",
       " 14.584275445831903,\n",
       " 14.491697538047852,\n",
       " 10.17771797415544,\n",
       " 14.259501888144595,\n",
       " 9.785313063120853,\n",
       " 9.519700761439607,\n",
       " 10.272192786417758,\n",
       " 10.497107486114025,\n",
       " 14.001029379685377,\n",
       " 12.069199677452064,\n",
       " 13.473355283576844,\n",
       " 9.328562750824053,\n",
       " 11.855155424157754,\n",
       " 14.671956526456633,\n",
       " 12.570684612342214,\n",
       " 13.053644991867165,\n",
       " 12.168965189092669,\n",
       " 11.14182190529737,\n",
       " 13.924357388164644,\n",
       " 11.78853560468237,\n",
       " 14.148223971873783,\n",
       " 13.996256576989591,\n",
       " 12.981073771905821,\n",
       " 12.78101014739846,\n",
       " 10.298562580231842,\n",
       " 10.728674003962658,\n",
       " 14.642859728952299,\n",
       " 12.967803867715094,\n",
       " 13.4298261107554,\n",
       " 12.036179219013903,\n",
       " 11.150200949539038,\n",
       " 9.504600576418316,\n",
       " 10.19118706601214,\n",
       " 10.455362979361862,\n",
       " 13.308916684217694,\n",
       " 14.452055772618703,\n",
       " 12.327472886268119,\n",
       " 9.168311837220195,\n",
       " 10.949060397731486,\n",
       " 13.885439462275244,\n",
       " 14.888861400298072,\n",
       " 13.187445379537824,\n",
       " 12.937559907412716,\n",
       " 12.531914125473303,\n",
       " 14.218015829973826,\n",
       " 10.780893534495103,\n",
       " 14.766953209746394,\n",
       " 10.189409207438377,\n",
       " 9.059819756822682,\n",
       " 10.101380841280164,\n",
       " 9.845858692201448,\n",
       " 9.605122424657203,\n",
       " 9.904389791277008,\n",
       " 11.563970361913524,\n",
       " 11.794437518243166,\n",
       " 13.318252394820831,\n",
       " 12.72895683973287,\n",
       " 12.146991991650573,\n",
       " 12.23253310971433,\n",
       " 11.006264048316588,\n",
       " 11.201870607080254,\n",
       " 10.508725247271073,\n",
       " 14.051468406942451,\n",
       " 14.256813591003107,\n",
       " 10.98684726611498,\n",
       " 11.737682838270844,\n",
       " 14.53360824947636,\n",
       " 10.160383471599792,\n",
       " 11.11995436389865,\n",
       " 11.578117870215852,\n",
       " 9.763473228712185,\n",
       " 14.07349477823134,\n",
       " 14.088530429712486,\n",
       " 10.733997460729482,\n",
       " 13.482352109469046,\n",
       " 10.219334706834125,\n",
       " 12.772731683622213,\n",
       " 9.866662339551082,\n",
       " 14.376384990008676,\n",
       " 14.228738688267033,\n",
       " 9.750091860469626,\n",
       " 11.768445140013405,\n",
       " 14.697191783589881,\n",
       " 9.008639191177688,\n",
       " 11.289861889505158,\n",
       " 11.279205361136766,\n",
       " 10.3618909195778,\n",
       " 12.645542020461505,\n",
       " 11.591819309091184,\n",
       " 11.88937335271492,\n",
       " 11.92113578143168,\n",
       " 12.660388004731342,\n",
       " 12.75602686106021,\n",
       " 10.588987241230754,\n",
       " 10.396681475837054,\n",
       " 9.706027331608658,\n",
       " 13.430229884686543,\n",
       " 13.053292010283043,\n",
       " 10.351654230332102,\n",
       " 9.377302708447381,\n",
       " 9.928807131384987,\n",
       " 12.647982330819914,\n",
       " 12.496184257400458,\n",
       " 14.492244997502452,\n",
       " 12.341006714754396,\n",
       " 14.057311134420482,\n",
       " 14.442364232451489,\n",
       " 12.74315105152651,\n",
       " 11.956414284158496,\n",
       " 11.791017762641959,\n",
       " 9.591575841843373,\n",
       " 10.677802290385836,\n",
       " 10.961239444827536,\n",
       " 10.142660062724902,\n",
       " 9.537239342381971,\n",
       " 11.689425261213104,\n",
       " 13.682110432912845,\n",
       " 13.270357740686501,\n",
       " 10.359995696503079,\n",
       " 12.642576430242489,\n",
       " 9.658007119878752,\n",
       " 9.089086485300797,\n",
       " 14.823801958533576,\n",
       " 10.087487731639046,\n",
       " 14.683103059458984,\n",
       " 9.930874454573395,\n",
       " 14.41613894396331,\n",
       " 11.285067643770017,\n",
       " 9.70425887520536,\n",
       " 14.294738040098562,\n",
       " 10.957837512326773,\n",
       " 13.25451466122946,\n",
       " 12.729413304316935,\n",
       " 14.932653890753432,\n",
       " 14.408149084397726,\n",
       " 9.245118928307082,\n",
       " 13.949197192747308,\n",
       " 11.985874801780653,\n",
       " 9.607943168115513,\n",
       " 12.560696620001002,\n",
       " 12.93712816900058,\n",
       " 14.392836623533812,\n",
       " 14.97619182476409,\n",
       " 11.650760701103184,\n",
       " 11.751182727440012,\n",
       " 14.035093059061257,\n",
       " 14.615594820801862,\n",
       " 14.1453220813404,\n",
       " 11.81200219855,\n",
       " 13.780583455362375,\n",
       " 11.20193931670192,\n",
       " 13.593577346797447,\n",
       " 9.29539502126008,\n",
       " 9.429672848415127,\n",
       " 11.81150205744829,\n",
       " 10.306344381192563,\n",
       " 9.005870467620223,\n",
       " 14.798680038172154,\n",
       " 10.068983507180228,\n",
       " 10.311495328971576,\n",
       " 13.652460954628946,\n",
       " 10.027377180444383,\n",
       " 10.097789251982086,\n",
       " 13.889873345742583,\n",
       " 12.582599485767915,\n",
       " 11.483392511268102,\n",
       " 12.931859258388279,\n",
       " 12.236438253584799,\n",
       " 13.333021164221915,\n",
       " 13.454721924653656,\n",
       " 13.158795919752462,\n",
       " 10.443216344240975,\n",
       " 12.481663478473319,\n",
       " 12.875752696236077,\n",
       " 9.595192660292668,\n",
       " 13.084162171112583,\n",
       " 13.191710186116016,\n",
       " 14.990381573506786,\n",
       " 10.007650684311837,\n",
       " 9.295773961491484,\n",
       " 14.519140507039005,\n",
       " 10.8757843868119,\n",
       " 10.359078033760765,\n",
       " 13.199394477366344,\n",
       " 14.45907826785873,\n",
       " 12.841034916440663,\n",
       " 11.244227005184998,\n",
       " 14.396696662220455,\n",
       " 12.92584675538976,\n",
       " 14.085400923401856,\n",
       " 12.454347945451893,\n",
       " 12.795365081863114,\n",
       " 12.212850527345735,\n",
       " 11.250858181414852,\n",
       " 10.114009049559929,\n",
       " 14.228969488030511,\n",
       " 14.964442738354327,\n",
       " 11.874381623888397,\n",
       " 14.59566211065664,\n",
       " 11.289740386643007,\n",
       " 13.681623756146127,\n",
       " 9.870642503993755,\n",
       " 13.755235471455919,\n",
       " 9.7098396093135,\n",
       " 10.909784679990185,\n",
       " 13.849730398180652,\n",
       " 11.907229286180923,\n",
       " 14.070177366916234,\n",
       " 11.178394270787877,\n",
       " 10.82544230279766,\n",
       " 11.212085766712432,\n",
       " 14.146105450531833,\n",
       " 12.953238222420717,\n",
       " 13.836411366006736,\n",
       " 9.811569194457189,\n",
       " 13.497730950954383,\n",
       " 12.627240305580607,\n",
       " 14.746968733734292,\n",
       " 9.48054673537012,\n",
       " 11.3004377807842,\n",
       " 9.3132820038272,\n",
       " 14.917455113519626,\n",
       " 10.444927745308515,\n",
       " 11.353134508173047,\n",
       " 10.98532480399191,\n",
       " 11.430550780735238,\n",
       " 12.83676581911268,\n",
       " 11.668913983894022,\n",
       " 10.044122485577535,\n",
       " 13.174115258782955,\n",
       " 9.20339235810356,\n",
       " 9.546181050760065,\n",
       " 10.263770510852382,\n",
       " 11.470597956225747,\n",
       " 9.62230732485367,\n",
       " 14.015355715785113,\n",
       " 10.265145475992023,\n",
       " 13.371130870939398,\n",
       " 9.948762721529542,\n",
       " 12.184567690066853,\n",
       " 9.11686869556621,\n",
       " 10.841736370154358,\n",
       " 12.310731558702054,\n",
       " 11.477110518620767,\n",
       " 13.397104540628128,\n",
       " 10.236974502655682,\n",
       " 11.1051024859204,\n",
       " 12.352794694712895,\n",
       " 10.033940124784591,\n",
       " 10.929439792764303,\n",
       " 10.279664646499866,\n",
       " 9.313597874022726,\n",
       " 13.490581002221017,\n",
       " 11.872974674906224,\n",
       " 10.757789609458682,\n",
       " 14.419662693888199,\n",
       " 14.623180064185338,\n",
       " 14.365092076507679,\n",
       " 11.8251387778839,\n",
       " 14.540275443605971,\n",
       " 10.133530420142714,\n",
       " 9.826430666532795,\n",
       " 13.869998357022528,\n",
       " 10.664531178339386,\n",
       " 13.89262169804023,\n",
       " 12.123809166178498,\n",
       " 12.721059348844362,\n",
       " 14.52067667683882,\n",
       " 13.343917887548475,\n",
       " 11.305333716085439,\n",
       " 13.430397702817247,\n",
       " 14.942218441150004,\n",
       " 11.072301126799141,\n",
       " 14.51690134407131,\n",
       " 12.582911804433948,\n",
       " 11.61285956925912,\n",
       " 13.625606987756504,\n",
       " 12.686878965451587,\n",
       " 13.766216178444274,\n",
       " 10.593877602197225,\n",
       " 10.855662658584725,\n",
       " 9.64162552117676,\n",
       " 13.961354934801705,\n",
       " 12.751195322045266,\n",
       " 13.624917644996474,\n",
       " 10.774062415584833,\n",
       " 14.330275401547764,\n",
       " 13.647111293792573,\n",
       " 14.562085855458779,\n",
       " 9.051815003114672,\n",
       " 10.083732997973915,\n",
       " 9.90561252899101,\n",
       " 9.060071706379516,\n",
       " 11.798366576923378,\n",
       " 14.541745966998043,\n",
       " 9.185170964178983,\n",
       " 13.442625993425139,\n",
       " 10.822343285896078,\n",
       " 13.901739409521575,\n",
       " 13.29895863730603,\n",
       " 14.009200553521296,\n",
       " 10.333262591003932,\n",
       " 13.92970560307998,\n",
       " 14.012928550366752,\n",
       " 10.418489820827846,\n",
       " 12.888093358956098,\n",
       " 9.129918321981105,\n",
       " 10.241809808612192,\n",
       " 12.493490182806907,\n",
       " 12.711992202767354,\n",
       " 12.10611849560243,\n",
       " 14.719905924676846,\n",
       " 12.961111656661743,\n",
       " 11.504621845265245,\n",
       " 14.143228002194553,\n",
       " 14.661383286537465,\n",
       " 12.264895318361031,\n",
       " 10.572290833986964,\n",
       " 11.578900501202643,\n",
       " 9.739977913992602,\n",
       " 13.547037955829444,\n",
       " 11.359158757325314,\n",
       " 14.125398808154571,\n",
       " 12.26972247613378,\n",
       " 10.663897812230077,\n",
       " 11.481156093306765,\n",
       " 14.8462215980238,\n",
       " 10.868608554066288,\n",
       " 11.032228776858531,\n",
       " 10.930497768840205,\n",
       " 9.894552269534234,\n",
       " 10.269108823743199,\n",
       " 13.168733078138825,\n",
       " 14.566638289109296,\n",
       " 9.34208594233731,\n",
       " 10.652404287624181,\n",
       " 9.245833737825158,\n",
       " 9.706594317098963,\n",
       " 14.07129854743696,\n",
       " 10.185083961142483,\n",
       " 12.270941958951727,\n",
       " 12.651441890144245,\n",
       " 14.898873544350252,\n",
       " 14.449840970727898,\n",
       " 13.906654284155108,\n",
       " 11.61068774083034,\n",
       " 11.598180447802193,\n",
       " 11.343118048429474,\n",
       " 9.36823138182839,\n",
       " 11.392443797292227,\n",
       " 9.427642958655195,\n",
       " 14.346557782713681,\n",
       " 13.986283494270936,\n",
       " 11.656670584842644,\n",
       " 11.077947544524541,\n",
       " 12.030809744190481,\n",
       " 13.415299759333369,\n",
       " 14.908807276665495,\n",
       " 13.066683393539751,\n",
       " 10.733996772005321,\n",
       " 14.921663228193768,\n",
       " 13.65214749244705,\n",
       " 12.681486936296508,\n",
       " 9.324902023046075,\n",
       " 12.632849029581141,\n",
       " 13.710759177957883,\n",
       " 14.372379331312006,\n",
       " 14.10535209066623,\n",
       " 11.332231280218563,\n",
       " 14.744724688975158,\n",
       " 9.632466564250189,\n",
       " 10.285608088963055,\n",
       " 14.959914747214393,\n",
       " 13.812076595015178,\n",
       " 12.473022672964273,\n",
       " 11.70097394175355,\n",
       " 12.213199274188955,\n",
       " 11.877946128071923,\n",
       " 14.88550609156703,\n",
       " 14.76263690493794,\n",
       " 12.632124460156678,\n",
       " 14.202300139742526,\n",
       " 12.227720391691841,\n",
       " 12.461958077008342,\n",
       " 12.085868704242074,\n",
       " 11.77922897864346,\n",
       " 12.722089437535367,\n",
       " 10.550771145017512,\n",
       " 14.19903296759192,\n",
       " 13.874689008552927,\n",
       " 13.809837409329162,\n",
       " 12.696945374106633,\n",
       " 12.876926889378607,\n",
       " 9.122612537056272,\n",
       " 10.392364540011698,\n",
       " 11.86783695711979,\n",
       " 14.357802572289865,\n",
       " 11.141784824831712,\n",
       " 9.775685496789555,\n",
       " 12.98332759131792,\n",
       " 9.552924348686878,\n",
       " 12.976234872852814,\n",
       " 13.118619972594331,\n",
       " 9.417830192869847,\n",
       " 11.267452523291533,\n",
       " 12.745765006922351,\n",
       " 14.019329530339382,\n",
       " 10.780756289155981,\n",
       " 9.838846037967723,\n",
       " 10.777616737532789,\n",
       " 10.793689758287769,\n",
       " 12.166265557309888,\n",
       " 14.176177467941603,\n",
       " 12.401189894131651,\n",
       " 11.721030245574013,\n",
       " 10.355807122923961,\n",
       " 9.15311321166053,\n",
       " 10.647826913358724,\n",
       " 11.301987757625968,\n",
       " 9.232086459986828,\n",
       " 9.19343118070232,\n",
       " 14.789332181396329,\n",
       " 13.990526583691729,\n",
       " 10.608382603632045,\n",
       " 13.765762249022444,\n",
       " 12.300670021361741,\n",
       " 10.310750764670123,\n",
       " 10.882320205475288,\n",
       " 12.045476367269833,\n",
       " 12.033326715729974,\n",
       " 9.863051678001781,\n",
       " 13.721270582634448,\n",
       " 11.068627430799118,\n",
       " 10.372599455699556,\n",
       " 9.63443631102995,\n",
       " 10.569867828810203,\n",
       " 11.581038284592228,\n",
       " 9.02385552266805,\n",
       " 11.131285018795083,\n",
       " 14.848196059129304,\n",
       " 10.308218626946898,\n",
       " 9.543838279906597,\n",
       " 10.004893108266826,\n",
       " 9.474662894157307,\n",
       " 14.113651413814774,\n",
       " 14.379111798050838,\n",
       " 14.21668826644614,\n",
       " 10.116057634982743,\n",
       " 9.59615239941314,\n",
       " 11.200830010104152,\n",
       " 9.131737584996461,\n",
       " 9.94087211136548,\n",
       " 13.444650725203502,\n",
       " 10.55564297817844,\n",
       " 11.87915944061864,\n",
       " 10.671947028960258,\n",
       " 9.571112134501103,\n",
       " 14.994521955711958,\n",
       " 12.269540839172048,\n",
       " 12.226733055488122,\n",
       " 12.397096003999339,\n",
       " 10.243668063227442,\n",
       " 12.504569566502171,\n",
       " 12.906833132820783,\n",
       " 9.7624774193879,\n",
       " 14.796696424256996,\n",
       " 13.31676093536851,\n",
       " 12.95714931158076,\n",
       " 13.065058029367817,\n",
       " 11.646682065394417,\n",
       " 13.6918136213631,\n",
       " 12.683964523803153,\n",
       " 12.95465666354498,\n",
       " 9.541603469103299,\n",
       " 13.115273047165573,\n",
       " 13.694640689868141,\n",
       " 12.990526349134967,\n",
       " 13.986482573769463,\n",
       " 9.024781027684973,\n",
       " 13.495769787896474,\n",
       " 13.468434310725776,\n",
       " 10.317699219163984,\n",
       " 11.023678699730382,\n",
       " 10.712456519415014,\n",
       " 11.686325149656412,\n",
       " 9.10619649791343,\n",
       " 9.535636655730292,\n",
       " 9.69335305192307,\n",
       " 13.663532472113847,\n",
       " 9.48789412010865,\n",
       " 9.373228009169088,\n",
       " 9.932175911520975,\n",
       " 11.283146344581487,\n",
       " 13.20902738106684,\n",
       " 11.657455273988543,\n",
       " 10.945612999060964,\n",
       " 13.750546313375924,\n",
       " 10.928432450950385,\n",
       " 10.624628724906772,\n",
       " 14.323978588305089,\n",
       " 14.36732462115451,\n",
       " 14.192093013691967,\n",
       " 12.913535935472535,\n",
       " 12.128027586813001,\n",
       " 10.383882510135114,\n",
       " 11.628534483119443,\n",
       " 13.13080220950298,\n",
       " 9.265479913589965,\n",
       " 10.949497696114863,\n",
       " 11.408523574385107,\n",
       " 10.263543479558678,\n",
       " 13.217286173806933,\n",
       " 9.1682998916514,\n",
       " 13.839968878850506,\n",
       " 11.111861770788128,\n",
       " 10.065431243161276,\n",
       " 9.889921098549227,\n",
       " 12.589828824724613,\n",
       " 10.395015391108,\n",
       " 10.162650115264773,\n",
       " 10.827334562592906,\n",
       " 13.466229265215611,\n",
       " 10.739454741480182,\n",
       " 13.346061877472529,\n",
       " 12.245435388893142,\n",
       " 12.51362352283429,\n",
       " 14.646709873540487,\n",
       " 12.13679299091003,\n",
       " 12.89419290505366,\n",
       " 10.522537229809995,\n",
       " 11.778246564296277,\n",
       " 14.865157380960838,\n",
       " 11.204062844844419,\n",
       " 13.798582152826803,\n",
       " 14.36434526123671,\n",
       " 14.227925832890534,\n",
       " 12.738307616329816,\n",
       " 14.327165174423872,\n",
       " 10.909832143527915,\n",
       " 14.171429110305947,\n",
       " 9.574545970412597,\n",
       " 14.929961077860327,\n",
       " 11.455064844497699,\n",
       " 12.405556930275193,\n",
       " 10.834847959444254,\n",
       " 11.331897006840194,\n",
       " 12.494513115650683,\n",
       " 11.59478206003901,\n",
       " 14.68526025981349,\n",
       " 11.992827135329541,\n",
       " 11.22189487590188,\n",
       " 10.36200989153704,\n",
       " 13.654026650471515,\n",
       " 9.265634994149574,\n",
       " 10.071503108626356,\n",
       " 14.04775384370651,\n",
       " 14.931045793030538,\n",
       " 9.764357355956529,\n",
       " 9.780608517296091,\n",
       " 9.692619038774769,\n",
       " 11.625751219298945,\n",
       " 13.401384844847334,\n",
       " 14.406886754373355,\n",
       " 10.654275596285688,\n",
       " 10.523109691336943,\n",
       " 13.227352286418935,\n",
       " 11.046121252411691,\n",
       " 11.906591534735021,\n",
       " 9.77163150082974,\n",
       " 11.563184963086979,\n",
       " 13.022820435067654,\n",
       " 10.760782163716447,\n",
       " 9.756989038462871,\n",
       " 9.62135375703572,\n",
       " 9.107227310774002,\n",
       " 12.081670626247819,\n",
       " 10.019852757320484,\n",
       " 14.912425276340507,\n",
       " 10.078100808201379,\n",
       " 10.721983740945332,\n",
       " 11.119721251373285,\n",
       " 12.228914033205804,\n",
       " 9.524646438720604,\n",
       " 14.867585128906542,\n",
       " 11.342381362528231,\n",
       " 10.254432587035904,\n",
       " 9.503901678469461,\n",
       " 12.677986368495109,\n",
       " 12.911737928873368,\n",
       " 13.211856200598241,\n",
       " 10.418598557219072,\n",
       " 12.427844970779379,\n",
       " 12.468073820311396,\n",
       " 13.635859885298526,\n",
       " 11.17116801539662,\n",
       " 10.545431028509144,\n",
       " 13.235056275149315,\n",
       " 9.61543079064501,\n",
       " 13.702427333070913,\n",
       " 12.279280706773802,\n",
       " 11.081822084110339,\n",
       " 10.457375425117073,\n",
       " 13.549595841988829,\n",
       " 12.155381023724555,\n",
       " 10.226086630450489,\n",
       " 14.92282734865855,\n",
       " 11.549477355370335,\n",
       " 10.835289152442712,\n",
       " 14.463672423490056,\n",
       " 12.691762687824284,\n",
       " 14.90796822658173,\n",
       " 14.595283723696802,\n",
       " 13.135257356714277,\n",
       " 9.765221514818663,\n",
       " 12.270726203042265,\n",
       " 14.868557648614802,\n",
       " 9.04813008330903,\n",
       " 10.818320616695553,\n",
       " 13.120253946220968,\n",
       " 11.592748335246746,\n",
       " 13.840181187419091,\n",
       " 9.373410952412753,\n",
       " 12.286237856096662,\n",
       " 11.760596277498426,\n",
       " 12.05050627200237,\n",
       " 13.129536999028018,\n",
       " 9.314399118625143,\n",
       " 12.377178207549564,\n",
       " 12.905980714964157,\n",
       " 14.166141047155879,\n",
       " 11.513926962642497,\n",
       " 10.330423319440532,\n",
       " 9.005327553933332,\n",
       " 10.50779798410758,\n",
       " 12.680705890183123,\n",
       " 9.492504049805666,\n",
       " 12.610292579010919,\n",
       " 12.307010077202854,\n",
       " 9.944990954121241,\n",
       " 11.872010201863972,\n",
       " 10.101397100467253,\n",
       " 12.489195083346235,\n",
       " 13.207026193076157,\n",
       " 13.706987871393167,\n",
       " 13.169001483595359,\n",
       " 9.202569094990016,\n",
       " 11.642375403748346,\n",
       " 10.030980902196939,\n",
       " 13.051577875825771,\n",
       " 10.52651004562049,\n",
       " 10.373759216789363,\n",
       " 10.488072350184087,\n",
       " 10.313604196986876,\n",
       " 12.51190424082133,\n",
       " 14.946484756959478,\n",
       " 12.156999094704965,\n",
       " 9.91061437158185,\n",
       " 11.19136844502934,\n",
       " 10.177012608155454,\n",
       " 9.917688417374713,\n",
       " 10.240269930500368,\n",
       " 14.401293405389099,\n",
       " 13.549582944892412,\n",
       " 9.424286603447726,\n",
       " 13.984898060406525,\n",
       " 13.919593465536632,\n",
       " 13.705009281606182,\n",
       " 10.035938984730993,\n",
       " 11.725519402336682,\n",
       " 12.15120161610126,\n",
       " 9.73807141977154,\n",
       " 11.031008945170463,\n",
       " 12.60801018093846,\n",
       " 10.527444498443844,\n",
       " 13.811658479523704,\n",
       " 14.90659227358737,\n",
       " 11.865836656915667,\n",
       " 14.559286866125396,\n",
       " 13.717889588716256,\n",
       " 11.235161945626167,\n",
       " 11.510539801443091,\n",
       " 9.610758273102322,\n",
       " 12.041501219274842,\n",
       " 12.81362169389298,\n",
       " 13.1381311933692,\n",
       " 14.400798894563579,\n",
       " 13.585382785970953,\n",
       " 10.028129012390082,\n",
       " 12.387475165805075,\n",
       " 14.79430263031438,\n",
       " 14.567465385193113,\n",
       " 14.31639208228665,\n",
       " 12.158395559248444,\n",
       " 13.998065710522571,\n",
       " 10.069344479011656,\n",
       " 9.292812193942048,\n",
       " 12.296641194052782,\n",
       " 11.358476297833283,\n",
       " 13.175337964523422,\n",
       " 11.312226245849345,\n",
       " 13.260384635470066,\n",
       " 14.727893773666832,\n",
       " 11.445640115511138,\n",
       " 11.720554961769032,\n",
       " 11.80141607155811,\n",
       " 13.463132859313376,\n",
       " 9.856352412525471,\n",
       " 12.012888842931805,\n",
       " 9.47247694987556,\n",
       " 13.140566102512643,\n",
       " 11.682365555919912,\n",
       " 9.960811660732178,\n",
       " 14.791291305874388,\n",
       " 11.462558834097955,\n",
       " 11.107097805823894,\n",
       " 11.26619607392311,\n",
       " 12.554597884892999,\n",
       " 14.432310685513649,\n",
       " 9.011748014535229,\n",
       " 14.533420023443828,\n",
       " 11.431308558786888,\n",
       " 12.69809593432198,\n",
       " 13.263413699771434,\n",
       " 10.423649144017636,\n",
       " 12.212673200081817,\n",
       " 10.354530429912991,\n",
       " 13.404929682301303,\n",
       " 12.892005363060054,\n",
       " 14.966397050533747,\n",
       " 13.606841785488895,\n",
       " 12.92529767401562,\n",
       " 10.584092373233757,\n",
       " 10.949063930247176,\n",
       " 12.614596069133597,\n",
       " 10.970710226293676,\n",
       " 11.712367308789581,\n",
       " 13.497107689956234,\n",
       " 12.67761174947826,\n",
       " 11.58180970303449,\n",
       " 14.711470336125538,\n",
       " 10.79951528317593,\n",
       " 12.718807518248846,\n",
       " 13.999503899411568,\n",
       " 13.466013906686086,\n",
       " 10.67040936842635,\n",
       " 10.718832357245365,\n",
       " 11.726532580409103,\n",
       " 12.600967038043994,\n",
       " 9.066863579452134,\n",
       " 11.251589853466632,\n",
       " 13.17580882730146,\n",
       " 11.976539799187695,\n",
       " 10.836120989106892,\n",
       " 14.413743068611417,\n",
       " 13.596351378155482,\n",
       " 13.16341407576996,\n",
       " 9.414610072347433,\n",
       " 13.585386898974898,\n",
       " 13.879320580025638,\n",
       " 14.16275923010263,\n",
       " 12.462508505627076,\n",
       " 10.53317483839977,\n",
       " 11.753962423592332,\n",
       " 14.738788354575433,\n",
       " 14.787630471877073,\n",
       " 9.305040909957519,\n",
       " 14.431835777579384,\n",
       " 13.360775664936572,\n",
       " 11.356299730667956,\n",
       " 12.103159081176287,\n",
       " 9.519209113316514,\n",
       " 9.178625420528146,\n",
       " 9.204888424132204,\n",
       " 13.964169661311312,\n",
       " 12.012253904745277,\n",
       " 12.77699920279701,\n",
       " 14.019204535933564,\n",
       " 12.925178305131617,\n",
       " 9.237533670166599,\n",
       " 11.373537501678104]"
      ]
     },
     "execution_count": 65,
     "metadata": {},
     "output_type": "execute_result"
    }
   ],
   "source": [
    "# Calculamos los valores aleatorios. Generaremos 1000 aleatorios.\n",
    "New_VA_MS = values_acep_rechazo(1000, f_uni_kde, t, 9, 15)\n",
    "New_VA_MS"
   ]
  },
  {
   "cell_type": "markdown",
   "metadata": {},
   "source": [
    "### `Simulación`."
   ]
  },
  {
   "cell_type": "code",
   "execution_count": null,
   "metadata": {},
   "outputs": [],
   "source": []
  },
  {
   "cell_type": "code",
   "execution_count": null,
   "metadata": {},
   "outputs": [],
   "source": []
  },
  {
   "cell_type": "markdown",
   "metadata": {},
   "source": [
    "### `Comprobación de hipótesis`.\n",
    "3. _El monto de crédito aprobado es independiente del canal de ventas por el cuál se haya tramitado el crédito._"
   ]
  },
  {
   "cell_type": "code",
   "execution_count": null,
   "metadata": {},
   "outputs": [],
   "source": []
  },
  {
   "cell_type": "code",
   "execution_count": null,
   "metadata": {},
   "outputs": [],
   "source": []
  },
  {
   "cell_type": "markdown",
   "metadata": {},
   "source": [
    "## `Nodo: Monto aprobado`."
   ]
  },
  {
   "cell_type": "markdown",
   "metadata": {},
   "source": [
    "### `Kernel Density Estimation`."
   ]
  },
  {
   "cell_type": "code",
   "execution_count": null,
   "metadata": {},
   "outputs": [],
   "source": []
  },
  {
   "cell_type": "code",
   "execution_count": null,
   "metadata": {},
   "outputs": [],
   "source": []
  },
  {
   "cell_type": "markdown",
   "metadata": {},
   "source": [
    "### `Aceptación y Rechazo`."
   ]
  },
  {
   "cell_type": "code",
   "execution_count": null,
   "metadata": {},
   "outputs": [],
   "source": []
  },
  {
   "cell_type": "code",
   "execution_count": null,
   "metadata": {},
   "outputs": [],
   "source": []
  },
  {
   "cell_type": "markdown",
   "metadata": {},
   "source": [
    "### `Simulación`."
   ]
  },
  {
   "cell_type": "code",
   "execution_count": null,
   "metadata": {},
   "outputs": [],
   "source": []
  },
  {
   "cell_type": "code",
   "execution_count": null,
   "metadata": {},
   "outputs": [],
   "source": []
  },
  {
   "cell_type": "markdown",
   "metadata": {},
   "source": [
    "## `Nodo: Bienes adquiridos`."
   ]
  },
  {
   "cell_type": "markdown",
   "metadata": {},
   "source": [
    "### `Kernel Density Estimation`."
   ]
  },
  {
   "cell_type": "code",
   "execution_count": null,
   "metadata": {},
   "outputs": [],
   "source": []
  },
  {
   "cell_type": "code",
   "execution_count": null,
   "metadata": {},
   "outputs": [],
   "source": []
  },
  {
   "cell_type": "markdown",
   "metadata": {},
   "source": [
    "### `Aceptación y Rechazo`."
   ]
  },
  {
   "cell_type": "code",
   "execution_count": null,
   "metadata": {},
   "outputs": [],
   "source": []
  },
  {
   "cell_type": "code",
   "execution_count": null,
   "metadata": {},
   "outputs": [],
   "source": []
  },
  {
   "cell_type": "markdown",
   "metadata": {},
   "source": [
    "### `Simulación`."
   ]
  },
  {
   "cell_type": "code",
   "execution_count": null,
   "metadata": {},
   "outputs": [],
   "source": []
  },
  {
   "cell_type": "code",
   "execution_count": null,
   "metadata": {},
   "outputs": [],
   "source": []
  },
  {
   "cell_type": "markdown",
   "metadata": {},
   "source": [
    "<script>\n",
    "  $(document).ready(function(){\n",
    "    $('div.prompt').hide();\n",
    "    $('div.back-to-top').hide();\n",
    "    $('nav#menubar').hide();\n",
    "    $('.breadcrumb').hide();\n",
    "    $('.hidden-print').hide();\n",
    "  });\n",
    "</script>\n",
    "\n",
    "<footer id=\"attribution\" style=\"float:right; color:#808080; background:#fff;\">\n",
    "Created with Jupyter by Esteban Jiménez Rodríguez.\n",
    "</footer>"
   ]
  }
 ],
 "metadata": {
  "kernelspec": {
   "display_name": "Python 3",
   "language": "python",
   "name": "python3"
  },
  "language_info": {
   "codemirror_mode": {
    "name": "ipython",
    "version": 3
   },
   "file_extension": ".py",
   "mimetype": "text/x-python",
   "name": "python",
   "nbconvert_exporter": "python",
   "pygments_lexer": "ipython3",
   "version": "3.8.5"
  }
 },
 "nbformat": 4,
 "nbformat_minor": 2
}
