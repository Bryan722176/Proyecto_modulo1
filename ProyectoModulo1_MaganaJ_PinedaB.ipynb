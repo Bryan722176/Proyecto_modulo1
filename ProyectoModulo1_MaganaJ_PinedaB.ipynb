{
 "cells": [
  {
   "cell_type": "markdown",
   "metadata": {},
   "source": [
    "<img style=\"float: left; margin: 30px 15px 15px 15px;\" src=\"https://pngimage.net/wp-content/uploads/2018/06/logo-iteso-png-5.png\" width=\"300\" height=\"500\" /> \n",
    "    \n",
    "    \n",
    "### <font color='navy'> Simulación de procesos financieros. \n",
    "\n",
    "**Nombres:** \n",
    "- Juan Pablo Ruíz Magaña.\n",
    "- Bryan Azahel Juárez Pineda.\n",
    "\n",
    "**Fecha:** 17 de marzo del 2021.\n",
    "\n",
    "**Expediente** :\n",
    "- 721093.\n",
    "- 722176.\n",
    "    \n",
    "**Profesor:** Oscar David Jaramillo Zuluaga.\n",
    "    \n",
    "**Link Github**: [Repositorio proyecto.](https://github.com/Bryan722176/Proyecto_modulo1)\n",
    "    \n",
    "**Link a la base de datos**: [Base de datos original.](https://www.kaggle.com/kapoorshivam/credit-analysis)\n",
    "\n",
    "# Proyecto TEMA-2"
   ]
  },
  {
   "cell_type": "markdown",
   "metadata": {},
   "source": [
    "### 1.1 Título del trabajo.\n",
    "**`Análisis de solicitud de productos bancarios de crédito.`**"
   ]
  },
  {
   "cell_type": "markdown",
   "metadata": {},
   "source": [
    "### 1.2 Objetivos.\n",
    "\n",
    "#### Objetivo general.\n",
    "* Determinar las características de los productos bancarios de crédito que solicitarán futuros clientes.\n",
    "\n",
    "#### Objetivo secundarios.\n",
    "* Simular una cantidad considerable de escenarios que nos permita conocer posibles valores a futuro de las variables de interés.\n",
    "* Evaluar las simulaciones con el método Montecarlo con la finalidad de encontrar el valor esperado de las variables de interés.\n",
    "* Obtener las probabilidades de ocurrencia de ciertos eventos relacionados a nuestras variables de interés.\n",
    "* Definir los parámetros que caracterizan a las solicitudes de crédito a partir de las variables de interés."
   ]
  },
  {
   "cell_type": "markdown",
   "metadata": {},
   "source": [
    "### 1.3 Definición del problema."
   ]
  },
  {
   "cell_type": "markdown",
   "metadata": {},
   "source": [
    "En las estructuras capitalistas que caracterizan al sistema económico mundial, el consumo forma parte elemental del día a día de las personas, la cuestión de interés surge en el momento en que la productividad / salario no corresponde a la capacidad adquisitiva que los individuos requieren para adquirir determinados bienes y servicios en el corto plazo. De ahí nace la necesidad y figura de los créditos.\n",
    "\n",
    "Situandonos en la posición de una institución bancaria, otorgar créditos conlleva un riesgo considerable en el modelo de negocios de la institución. Asumir el riesgo de impago en un crédito puede tener consecuencias graves si esto se llega a dar en escalas masivas, por ende quienes otorgan crédito deben realizar un análisis minucioso respecto a la capacidad crediticia de las personas o empresas que lo soliciten.\n",
    "\n",
    "Con el fin de cuidar los intereses del banco y maximizar las oportunidades de negocio de la institución, nos interesa analizar las características de las aplicaciones previas de diferentes productos bancarios de crédito, con la intención de que la institución bancaria pueda perfilar clientes pontenciales de manera más efectiva y a su vez gestione de manera más óptima sus recursos destinados a estas oportunidades de negocio.\n",
    "\n",
    "Para conocer lo antes descrito, y con nuestra base de datos, definimos los nodos que se deciden simular como los siguientes:\n",
    "\n",
    "* **Monto solicitado del crédito**: Esto para poder definir las expectativas crediticias de los potenciales clientes. Conocer el monto solicitado nos da una pauta para identificar y poder seccionar clientes a partir de su potencial capacidad adquisitiva y su necesidad.\n",
    "\n",
    "* **Monto aprobado del crédito**: Después de un análisis por parte de la institución, esta variable representa el monto designado a una solicitud en particular. Conocer el monto aprobado nos ayuda a determinar no solo la capacidad real de pago del cliente, sino también nos ayuda a saber si el banco cubre las necesidades de capitalización del cliente.  \n",
    "\n",
    "* **Canal de venta**: Conducto por el cual se establece la relación entre el cliente y la institución, y se inicializa el trámite. Conocer esta variable nos ayudará a entender como se distribuye la captación de clientes para el banco, esto generará que se pueda saber cuales son los canales a fortalecer y en cuales continuar con la inercia descrita.\n",
    "\n",
    "* **Categoría de productos que se adquieren con instrumentos de crédito**: Esta variable representa el destino del crédito solicitado. Conocer la categoría de destino nos ayuda a entender no solo las necesidades y el por qué se solicitan los créditos, también nos puede ayudar a evaluar que sectores de consumo requieren de mayor capacidad crediticia."
   ]
  },
  {
   "attachments": {
    "image.png": {
     "image/png": "[encoded data removed]"
    }
   },
   "cell_type": "markdown",
   "metadata": {},
   "source": [
    "#### Diagrama de proceso.\n",
    "![image.png](attachment:image.png)"
   ]
  },
  {
   "cell_type": "markdown",
   "metadata": {},
   "source": [
    "#### Descripción del diagrama:\n",
    "\n",
    "En el diagrama se describe el proceso a modelar:\n",
    "\n",
    "1. Comenzando por el canal de venta elegido por el cliente, por medio del cual se hace el primer contacto entre la institución y el cliente.\n",
    "\n",
    "2. Consecuentemente el cliente solicita un monto determinado a manera de crédito.\n",
    "\n",
    "3. Posteriormente, la institución realiza un analisís crediticio y opta por asignar un monto a dicho al cliente.\n",
    "\n",
    "4. Por último el cliente hace uso del crédito adquiriendo bienes y servicios.\n",
    "\n",
    "A manera de conclusión de este diagrama lo que obtenemos es la caracterización de las solicitudes de crédito de los clientes de la institución."
   ]
  },
  {
   "cell_type": "markdown",
   "metadata": {},
   "source": [
    "### 1.4 Nodos y variables que se decidieron simular y porqué."
   ]
  },
  {
   "cell_type": "markdown",
   "metadata": {},
   "source": [
    "Resumiendo lo antes descrito, los nodos a simular serán los siguientes:\n",
    "* **Monto solicitado del crédito**.\n",
    "\n",
    "* **Monto aprobado del crédito**.\n",
    "\n",
    "* **Canal de venta**.\n",
    "\n",
    "* **Categoría de productos adquirimos con instrumentos de crédito**.\n",
    "\n",
    "Y las posibles complicaciones que podriamos encontrar en su simulación, de manera generalizada son las siguientes:\n",
    "1. **Escalabilidad de los datos:** Es posible que se presenten valores extremos, por lo tanto debemos realizar un correcto análisis exploratorio de los datos y de ser necesario modificar su escala.\n",
    "\n",
    "2. **Ausencia de valores:** En datasets tan grandes es posibles que algunas variables reporten valores faltantes o simplemente se encuentren en una categoría desconocida, por lo tanto será conveniente observar su frecuencia en la muestra."
   ]
  },
  {
   "cell_type": "markdown",
   "metadata": {},
   "source": [
    "### 1.5 Definición de hipótesis y supuestos."
   ]
  },
  {
   "cell_type": "markdown",
   "metadata": {},
   "source": [
    "De manera generalizada podemos definir los siguientes supuestos constantes en el proceso para conocer los parámetros de los créditos solicitados:\n",
    "1. **Se asume la aprobación del crédito.**\n",
    "2. **El monto aprobado del crédito no necesariamente corresponde al solicitado.**\n",
    "3. **El destino del crédito es rastreable.**\n",
    "\n",
    "En cuanto al desarrollo de hipótesis respecto al desarrollo del proyecto podemos definir lo siguiente:\n",
    "1. **La causa que motiva en mayor proporción a los clientes a solicitar un crédito está dada por el consumo personal.**\n",
    "2. **Existe congruencia por parte de los clientes respecto al motivo por el cuál se solicita un crédito y el destino final de este.**"
   ]
  },
  {
   "cell_type": "markdown",
   "metadata": {},
   "source": [
    "### 1.6 Obtención de bases de datos"
   ]
  },
  {
   "cell_type": "markdown",
   "metadata": {},
   "source": [
    "La base que se obtuvo a través de la plataforma web [_Kaggle_](https://www.kaggle.com/) describe las aplicaciones créditicias de un una institución financiera, el problema se presenta al momento de que las aplicaciones se aprueban de manera que el corporativo llega a otorgar créditos a individuos que no necesariamente terminan pagando en tiempo y forma.\n",
    "\n",
    "La base de datos original está conformada por $1'670,214$ filas y $37$ columnas. La realidad es que para el análisis particular que se desea realizar, existen variables y valores que no aportan demasiado, y con la finalidad de eficientar costos computacionales y dejar exclusivamente la información relevante al objetivo descrito previamente, realizaremos un análisis exploratorio y una limpieza de datos, la cual se podrá observar el notebook llamado \"**`EDA_BD`**\" presente en este mismo repositorio."
   ]
  },
  {
   "cell_type": "markdown",
   "metadata": {},
   "source": [
    "### 1.7 Visualización de resultados de simulación."
   ]
  },
  {
   "cell_type": "markdown",
   "metadata": {},
   "source": [
    "Entonces, las variables a modelar serán"
   ]
  },
  {
   "cell_type": "markdown",
   "metadata": {},
   "source": [
    "Datos interesantes para ir observando:\n",
    "- ¿Qué sucede con los créditos con monto de aplicación 0, con que se encuentra correlacionada?\n",
    "- Nuevo supuesto, monto de aplicación mayor a 0.\n",
    "- Eliminar, montos aprobados iguales a 0, los manejaremos como \"errores de captura\"."
   ]
  },
  {
   "cell_type": "code",
   "execution_count": 1,
   "metadata": {},
   "outputs": [],
   "source": [
    "import numpy as np\n",
    "import pandas as pd\n",
    "from scipy.optimize import minimize\n",
    "import seaborn as sns\n",
    "from scipy.stats.distributions import norm\n",
    "import matplotlib.pyplot as plt"
   ]
  },
  {
   "cell_type": "code",
   "execution_count": 2,
   "metadata": {
    "scrolled": true
   },
   "outputs": [
    {
     "data": {
      "text/html": [
       "<div>\n",
       "<style scoped>\n",
       "    .dataframe tbody tr th:only-of-type {\n",
       "        vertical-align: middle;\n",
       "    }\n",
       "\n",
       "    .dataframe tbody tr th {\n",
       "        vertical-align: top;\n",
       "    }\n",
       "\n",
       "    .dataframe thead th {\n",
       "        text-align: right;\n",
       "    }\n",
       "</style>\n",
       "<table border=\"1\" class=\"dataframe\">\n",
       "  <thead>\n",
       "    <tr style=\"text-align: right;\">\n",
       "      <th></th>\n",
       "      <th>SK_ID_CURR</th>\n",
       "      <th>NAME_CONTRACT_TYPE</th>\n",
       "      <th>AMT_APPLICATION</th>\n",
       "      <th>AMT_CREDIT</th>\n",
       "      <th>WEEKDAY_APPR_PROCESS_START</th>\n",
       "      <th>NAME_CASH_LOAN_PURPOSE</th>\n",
       "      <th>NAME_CLIENT_TYPE</th>\n",
       "      <th>NAME_GOODS_CATEGORY</th>\n",
       "      <th>NAME_PORTFOLIO</th>\n",
       "      <th>CHANNEL_TYPE</th>\n",
       "    </tr>\n",
       "  </thead>\n",
       "  <tbody>\n",
       "    <tr>\n",
       "      <th>0</th>\n",
       "      <td>271877</td>\n",
       "      <td>Consumer loans</td>\n",
       "      <td>17145.0</td>\n",
       "      <td>17145.0</td>\n",
       "      <td>SATURDAY</td>\n",
       "      <td>XAP</td>\n",
       "      <td>Repeater</td>\n",
       "      <td>Mobile</td>\n",
       "      <td>POS</td>\n",
       "      <td>Country-wide</td>\n",
       "    </tr>\n",
       "    <tr>\n",
       "      <th>1</th>\n",
       "      <td>108129</td>\n",
       "      <td>Cash loans</td>\n",
       "      <td>607500.0</td>\n",
       "      <td>679671.0</td>\n",
       "      <td>THURSDAY</td>\n",
       "      <td>XNA</td>\n",
       "      <td>Repeater</td>\n",
       "      <td>XNA</td>\n",
       "      <td>Cash</td>\n",
       "      <td>Contact center</td>\n",
       "    </tr>\n",
       "    <tr>\n",
       "      <th>2</th>\n",
       "      <td>122040</td>\n",
       "      <td>Cash loans</td>\n",
       "      <td>112500.0</td>\n",
       "      <td>136444.5</td>\n",
       "      <td>TUESDAY</td>\n",
       "      <td>XNA</td>\n",
       "      <td>Repeater</td>\n",
       "      <td>XNA</td>\n",
       "      <td>Cash</td>\n",
       "      <td>Credit and cash offices</td>\n",
       "    </tr>\n",
       "    <tr>\n",
       "      <th>3</th>\n",
       "      <td>176158</td>\n",
       "      <td>Cash loans</td>\n",
       "      <td>450000.0</td>\n",
       "      <td>470790.0</td>\n",
       "      <td>MONDAY</td>\n",
       "      <td>XNA</td>\n",
       "      <td>Repeater</td>\n",
       "      <td>XNA</td>\n",
       "      <td>Cash</td>\n",
       "      <td>Credit and cash offices</td>\n",
       "    </tr>\n",
       "    <tr>\n",
       "      <th>4</th>\n",
       "      <td>199383</td>\n",
       "      <td>Cash loans</td>\n",
       "      <td>315000.0</td>\n",
       "      <td>340573.5</td>\n",
       "      <td>SATURDAY</td>\n",
       "      <td>Everyday expenses</td>\n",
       "      <td>Repeater</td>\n",
       "      <td>XNA</td>\n",
       "      <td>Cash</td>\n",
       "      <td>Credit and cash offices</td>\n",
       "    </tr>\n",
       "    <tr>\n",
       "      <th>...</th>\n",
       "      <td>...</td>\n",
       "      <td>...</td>\n",
       "      <td>...</td>\n",
       "      <td>...</td>\n",
       "      <td>...</td>\n",
       "      <td>...</td>\n",
       "      <td>...</td>\n",
       "      <td>...</td>\n",
       "      <td>...</td>\n",
       "      <td>...</td>\n",
       "    </tr>\n",
       "    <tr>\n",
       "      <th>1036776</th>\n",
       "      <td>352015</td>\n",
       "      <td>Consumer loans</td>\n",
       "      <td>267295.5</td>\n",
       "      <td>311400.0</td>\n",
       "      <td>WEDNESDAY</td>\n",
       "      <td>XAP</td>\n",
       "      <td>Refreshed</td>\n",
       "      <td>Furniture</td>\n",
       "      <td>POS</td>\n",
       "      <td>Stone</td>\n",
       "    </tr>\n",
       "    <tr>\n",
       "      <th>1036777</th>\n",
       "      <td>334635</td>\n",
       "      <td>Consumer loans</td>\n",
       "      <td>87750.0</td>\n",
       "      <td>64291.5</td>\n",
       "      <td>TUESDAY</td>\n",
       "      <td>XAP</td>\n",
       "      <td>New</td>\n",
       "      <td>Furniture</td>\n",
       "      <td>POS</td>\n",
       "      <td>Stone</td>\n",
       "    </tr>\n",
       "    <tr>\n",
       "      <th>1036778</th>\n",
       "      <td>249544</td>\n",
       "      <td>Consumer loans</td>\n",
       "      <td>105237.0</td>\n",
       "      <td>102523.5</td>\n",
       "      <td>MONDAY</td>\n",
       "      <td>XAP</td>\n",
       "      <td>Repeater</td>\n",
       "      <td>Consumer Electronics</td>\n",
       "      <td>POS</td>\n",
       "      <td>Country-wide</td>\n",
       "    </tr>\n",
       "    <tr>\n",
       "      <th>1036779</th>\n",
       "      <td>400317</td>\n",
       "      <td>Cash loans</td>\n",
       "      <td>180000.0</td>\n",
       "      <td>191880.0</td>\n",
       "      <td>WEDNESDAY</td>\n",
       "      <td>XNA</td>\n",
       "      <td>Repeater</td>\n",
       "      <td>XNA</td>\n",
       "      <td>Cash</td>\n",
       "      <td>AP+ (Cash loan)</td>\n",
       "    </tr>\n",
       "    <tr>\n",
       "      <th>1036780</th>\n",
       "      <td>261212</td>\n",
       "      <td>Cash loans</td>\n",
       "      <td>360000.0</td>\n",
       "      <td>360000.0</td>\n",
       "      <td>SUNDAY</td>\n",
       "      <td>XNA</td>\n",
       "      <td>Repeater</td>\n",
       "      <td>XNA</td>\n",
       "      <td>Cash</td>\n",
       "      <td>AP+ (Cash loan)</td>\n",
       "    </tr>\n",
       "  </tbody>\n",
       "</table>\n",
       "<p>1036781 rows × 10 columns</p>\n",
       "</div>"
      ],
      "text/plain": [
       "         SK_ID_CURR NAME_CONTRACT_TYPE  AMT_APPLICATION  AMT_CREDIT  \\\n",
       "0            271877     Consumer loans          17145.0     17145.0   \n",
       "1            108129         Cash loans         607500.0    679671.0   \n",
       "2            122040         Cash loans         112500.0    136444.5   \n",
       "3            176158         Cash loans         450000.0    470790.0   \n",
       "4            199383         Cash loans         315000.0    340573.5   \n",
       "...             ...                ...              ...         ...   \n",
       "1036776      352015     Consumer loans         267295.5    311400.0   \n",
       "1036777      334635     Consumer loans          87750.0     64291.5   \n",
       "1036778      249544     Consumer loans         105237.0    102523.5   \n",
       "1036779      400317         Cash loans         180000.0    191880.0   \n",
       "1036780      261212         Cash loans         360000.0    360000.0   \n",
       "\n",
       "        WEEKDAY_APPR_PROCESS_START NAME_CASH_LOAN_PURPOSE NAME_CLIENT_TYPE  \\\n",
       "0                         SATURDAY                    XAP         Repeater   \n",
       "1                         THURSDAY                    XNA         Repeater   \n",
       "2                          TUESDAY                    XNA         Repeater   \n",
       "3                           MONDAY                    XNA         Repeater   \n",
       "4                         SATURDAY      Everyday expenses         Repeater   \n",
       "...                            ...                    ...              ...   \n",
       "1036776                  WEDNESDAY                    XAP        Refreshed   \n",
       "1036777                    TUESDAY                    XAP              New   \n",
       "1036778                     MONDAY                    XAP         Repeater   \n",
       "1036779                  WEDNESDAY                    XNA         Repeater   \n",
       "1036780                     SUNDAY                    XNA         Repeater   \n",
       "\n",
       "          NAME_GOODS_CATEGORY NAME_PORTFOLIO             CHANNEL_TYPE  \n",
       "0                      Mobile            POS             Country-wide  \n",
       "1                         XNA           Cash           Contact center  \n",
       "2                         XNA           Cash  Credit and cash offices  \n",
       "3                         XNA           Cash  Credit and cash offices  \n",
       "4                         XNA           Cash  Credit and cash offices  \n",
       "...                       ...            ...                      ...  \n",
       "1036776             Furniture            POS                    Stone  \n",
       "1036777             Furniture            POS                    Stone  \n",
       "1036778  Consumer Electronics            POS             Country-wide  \n",
       "1036779                   XNA           Cash          AP+ (Cash loan)  \n",
       "1036780                   XNA           Cash          AP+ (Cash loan)  \n",
       "\n",
       "[1036781 rows x 10 columns]"
      ]
     },
     "execution_count": 2,
     "metadata": {},
     "output_type": "execute_result"
    }
   ],
   "source": [
    "data = pd.read_csv('approval_clean.csv')\n",
    "data"
   ]
  },
  {
   "cell_type": "code",
   "execution_count": 3,
   "metadata": {},
   "outputs": [],
   "source": [
    "# Eliminar, montos de crédito aprobados iguales a 0. Es un error de captura.\n",
    "data = data[data.AMT_CREDIT != 0]"
   ]
  },
  {
   "cell_type": "code",
   "execution_count": 4,
   "metadata": {
    "scrolled": true
   },
   "outputs": [
    {
     "data": {
      "text/html": [
       "<div>\n",
       "<style scoped>\n",
       "    .dataframe tbody tr th:only-of-type {\n",
       "        vertical-align: middle;\n",
       "    }\n",
       "\n",
       "    .dataframe tbody tr th {\n",
       "        vertical-align: top;\n",
       "    }\n",
       "\n",
       "    .dataframe thead th {\n",
       "        text-align: right;\n",
       "    }\n",
       "</style>\n",
       "<table border=\"1\" class=\"dataframe\">\n",
       "  <thead>\n",
       "    <tr style=\"text-align: right;\">\n",
       "      <th></th>\n",
       "      <th>SK_ID_CURR</th>\n",
       "      <th>NAME_CONTRACT_TYPE</th>\n",
       "      <th>AMT_APPLICATION</th>\n",
       "      <th>AMT_CREDIT</th>\n",
       "      <th>WEEKDAY_APPR_PROCESS_START</th>\n",
       "      <th>NAME_CASH_LOAN_PURPOSE</th>\n",
       "      <th>NAME_CLIENT_TYPE</th>\n",
       "      <th>NAME_GOODS_CATEGORY</th>\n",
       "      <th>NAME_PORTFOLIO</th>\n",
       "      <th>CHANNEL_TYPE</th>\n",
       "    </tr>\n",
       "  </thead>\n",
       "  <tbody>\n",
       "    <tr>\n",
       "      <th>54</th>\n",
       "      <td>120854</td>\n",
       "      <td>Revolving loans</td>\n",
       "      <td>0.0</td>\n",
       "      <td>675000.0</td>\n",
       "      <td>THURSDAY</td>\n",
       "      <td>XAP</td>\n",
       "      <td>Repeater</td>\n",
       "      <td>XNA</td>\n",
       "      <td>Cards</td>\n",
       "      <td>Credit and cash offices</td>\n",
       "    </tr>\n",
       "    <tr>\n",
       "      <th>75</th>\n",
       "      <td>276237</td>\n",
       "      <td>Revolving loans</td>\n",
       "      <td>0.0</td>\n",
       "      <td>450000.0</td>\n",
       "      <td>TUESDAY</td>\n",
       "      <td>XAP</td>\n",
       "      <td>Repeater</td>\n",
       "      <td>XNA</td>\n",
       "      <td>Cards</td>\n",
       "      <td>Country-wide</td>\n",
       "    </tr>\n",
       "    <tr>\n",
       "      <th>215</th>\n",
       "      <td>449030</td>\n",
       "      <td>Revolving loans</td>\n",
       "      <td>0.0</td>\n",
       "      <td>180000.0</td>\n",
       "      <td>SUNDAY</td>\n",
       "      <td>XAP</td>\n",
       "      <td>Repeater</td>\n",
       "      <td>XNA</td>\n",
       "      <td>Cards</td>\n",
       "      <td>Country-wide</td>\n",
       "    </tr>\n",
       "    <tr>\n",
       "      <th>222</th>\n",
       "      <td>323651</td>\n",
       "      <td>Revolving loans</td>\n",
       "      <td>0.0</td>\n",
       "      <td>270000.0</td>\n",
       "      <td>TUESDAY</td>\n",
       "      <td>XAP</td>\n",
       "      <td>Repeater</td>\n",
       "      <td>XNA</td>\n",
       "      <td>Cards</td>\n",
       "      <td>AP+ (Cash loan)</td>\n",
       "    </tr>\n",
       "    <tr>\n",
       "      <th>256</th>\n",
       "      <td>263634</td>\n",
       "      <td>Revolving loans</td>\n",
       "      <td>0.0</td>\n",
       "      <td>765000.0</td>\n",
       "      <td>MONDAY</td>\n",
       "      <td>XAP</td>\n",
       "      <td>Repeater</td>\n",
       "      <td>XNA</td>\n",
       "      <td>Cards</td>\n",
       "      <td>Credit and cash offices</td>\n",
       "    </tr>\n",
       "    <tr>\n",
       "      <th>...</th>\n",
       "      <td>...</td>\n",
       "      <td>...</td>\n",
       "      <td>...</td>\n",
       "      <td>...</td>\n",
       "      <td>...</td>\n",
       "      <td>...</td>\n",
       "      <td>...</td>\n",
       "      <td>...</td>\n",
       "      <td>...</td>\n",
       "      <td>...</td>\n",
       "    </tr>\n",
       "    <tr>\n",
       "      <th>1036612</th>\n",
       "      <td>166786</td>\n",
       "      <td>Revolving loans</td>\n",
       "      <td>0.0</td>\n",
       "      <td>67500.0</td>\n",
       "      <td>WEDNESDAY</td>\n",
       "      <td>XAP</td>\n",
       "      <td>Repeater</td>\n",
       "      <td>XNA</td>\n",
       "      <td>Cards</td>\n",
       "      <td>Credit and cash offices</td>\n",
       "    </tr>\n",
       "    <tr>\n",
       "      <th>1036638</th>\n",
       "      <td>440945</td>\n",
       "      <td>Revolving loans</td>\n",
       "      <td>0.0</td>\n",
       "      <td>225000.0</td>\n",
       "      <td>FRIDAY</td>\n",
       "      <td>XAP</td>\n",
       "      <td>Refreshed</td>\n",
       "      <td>XNA</td>\n",
       "      <td>Cards</td>\n",
       "      <td>Credit and cash offices</td>\n",
       "    </tr>\n",
       "    <tr>\n",
       "      <th>1036676</th>\n",
       "      <td>319374</td>\n",
       "      <td>Revolving loans</td>\n",
       "      <td>0.0</td>\n",
       "      <td>900000.0</td>\n",
       "      <td>TUESDAY</td>\n",
       "      <td>XAP</td>\n",
       "      <td>Repeater</td>\n",
       "      <td>XNA</td>\n",
       "      <td>Cards</td>\n",
       "      <td>Credit and cash offices</td>\n",
       "    </tr>\n",
       "    <tr>\n",
       "      <th>1036745</th>\n",
       "      <td>180860</td>\n",
       "      <td>Revolving loans</td>\n",
       "      <td>0.0</td>\n",
       "      <td>225000.0</td>\n",
       "      <td>TUESDAY</td>\n",
       "      <td>XAP</td>\n",
       "      <td>Repeater</td>\n",
       "      <td>XNA</td>\n",
       "      <td>Cards</td>\n",
       "      <td>Credit and cash offices</td>\n",
       "    </tr>\n",
       "    <tr>\n",
       "      <th>1036766</th>\n",
       "      <td>339383</td>\n",
       "      <td>Revolving loans</td>\n",
       "      <td>0.0</td>\n",
       "      <td>67500.0</td>\n",
       "      <td>FRIDAY</td>\n",
       "      <td>XAP</td>\n",
       "      <td>Refreshed</td>\n",
       "      <td>XNA</td>\n",
       "      <td>Cards</td>\n",
       "      <td>AP+ (Cash loan)</td>\n",
       "    </tr>\n",
       "  </tbody>\n",
       "</table>\n",
       "<p>43753 rows × 10 columns</p>\n",
       "</div>"
      ],
      "text/plain": [
       "         SK_ID_CURR NAME_CONTRACT_TYPE  AMT_APPLICATION  AMT_CREDIT  \\\n",
       "54           120854    Revolving loans              0.0    675000.0   \n",
       "75           276237    Revolving loans              0.0    450000.0   \n",
       "215          449030    Revolving loans              0.0    180000.0   \n",
       "222          323651    Revolving loans              0.0    270000.0   \n",
       "256          263634    Revolving loans              0.0    765000.0   \n",
       "...             ...                ...              ...         ...   \n",
       "1036612      166786    Revolving loans              0.0     67500.0   \n",
       "1036638      440945    Revolving loans              0.0    225000.0   \n",
       "1036676      319374    Revolving loans              0.0    900000.0   \n",
       "1036745      180860    Revolving loans              0.0    225000.0   \n",
       "1036766      339383    Revolving loans              0.0     67500.0   \n",
       "\n",
       "        WEEKDAY_APPR_PROCESS_START NAME_CASH_LOAN_PURPOSE NAME_CLIENT_TYPE  \\\n",
       "54                        THURSDAY                    XAP         Repeater   \n",
       "75                         TUESDAY                    XAP         Repeater   \n",
       "215                         SUNDAY                    XAP         Repeater   \n",
       "222                        TUESDAY                    XAP         Repeater   \n",
       "256                         MONDAY                    XAP         Repeater   \n",
       "...                            ...                    ...              ...   \n",
       "1036612                  WEDNESDAY                    XAP         Repeater   \n",
       "1036638                     FRIDAY                    XAP        Refreshed   \n",
       "1036676                    TUESDAY                    XAP         Repeater   \n",
       "1036745                    TUESDAY                    XAP         Repeater   \n",
       "1036766                     FRIDAY                    XAP        Refreshed   \n",
       "\n",
       "        NAME_GOODS_CATEGORY NAME_PORTFOLIO             CHANNEL_TYPE  \n",
       "54                      XNA          Cards  Credit and cash offices  \n",
       "75                      XNA          Cards             Country-wide  \n",
       "215                     XNA          Cards             Country-wide  \n",
       "222                     XNA          Cards          AP+ (Cash loan)  \n",
       "256                     XNA          Cards  Credit and cash offices  \n",
       "...                     ...            ...                      ...  \n",
       "1036612                 XNA          Cards  Credit and cash offices  \n",
       "1036638                 XNA          Cards  Credit and cash offices  \n",
       "1036676                 XNA          Cards  Credit and cash offices  \n",
       "1036745                 XNA          Cards  Credit and cash offices  \n",
       "1036766                 XNA          Cards          AP+ (Cash loan)  \n",
       "\n",
       "[43753 rows x 10 columns]"
      ]
     },
     "execution_count": 4,
     "metadata": {},
     "output_type": "execute_result"
    }
   ],
   "source": [
    "# Definimos caso particular. Monto de aplicación igual a 0.\n",
    "data_particular = data[data['AMT_APPLICATION']==0]\n",
    "data_particular"
   ]
  },
  {
   "cell_type": "code",
   "execution_count": 5,
   "metadata": {},
   "outputs": [
    {
     "data": {
      "text/plain": [
       "array(['Cards'], dtype=object)"
      ]
     },
     "execution_count": 5,
     "metadata": {},
     "output_type": "execute_result"
    }
   ],
   "source": [
    "data_particular.NAME_CONTRACT_TYPE.unique()\n",
    "# Todos los créditos en este caso particular de estudio son revolventes\n",
    "# Investigar a detalle características de crédito revolvente.\n",
    "\n",
    "data_particular.NAME_CASH_LOAN_PURPOSE.unique()\n",
    "# De aquí podemos observar que en el caso del monto de aplicación igual a 0 solo aplica para créditos revolventes.\n",
    "\n",
    "max(data_particular.AMT_CREDIT)\n",
    "\n",
    "data_particular.NAME_PORTFOLIO.unique()"
   ]
  },
  {
   "cell_type": "code",
   "execution_count": 6,
   "metadata": {},
   "outputs": [],
   "source": [
    "# Sobre estas variables concluir sobre las características del caso particular."
   ]
  },
  {
   "cell_type": "code",
   "execution_count": 7,
   "metadata": {},
   "outputs": [
    {
     "data": {
      "text/plain": [
       "Repeater     39912\n",
       "Refreshed     3627\n",
       "New            214\n",
       "Name: NAME_CLIENT_TYPE, dtype: int64"
      ]
     },
     "execution_count": 7,
     "metadata": {},
     "output_type": "execute_result"
    }
   ],
   "source": [
    "(data[data['AMT_APPLICATION']==0]).NAME_CLIENT_TYPE.value_counts()"
   ]
  },
  {
   "cell_type": "code",
   "execution_count": 8,
   "metadata": {},
   "outputs": [
    {
     "data": {
      "text/plain": [
       "Series([], Name: NAME_CLIENT_TYPE, dtype: int64)"
      ]
     },
     "execution_count": 8,
     "metadata": {},
     "output_type": "execute_result"
    }
   ],
   "source": [
    "(data[data['AMT_CREDIT']==0]).NAME_CLIENT_TYPE.value_counts()"
   ]
  },
  {
   "cell_type": "code",
   "execution_count": 9,
   "metadata": {},
   "outputs": [
    {
     "data": {
      "text/plain": [
       "0.1498217787351603"
      ]
     },
     "execution_count": 9,
     "metadata": {},
     "output_type": "execute_result"
    }
   ],
   "source": [
    "(1551 / len(data))*100"
   ]
  },
  {
   "cell_type": "code",
   "execution_count": 10,
   "metadata": {},
   "outputs": [
    {
     "data": {
      "text/plain": [
       "4.226403794325899"
      ]
     },
     "execution_count": 10,
     "metadata": {},
     "output_type": "execute_result"
    }
   ],
   "source": [
    "(43753 / len(data))*100"
   ]
  },
  {
   "cell_type": "code",
   "execution_count": 11,
   "metadata": {},
   "outputs": [
    {
     "data": {
      "text/plain": [
       "1035230"
      ]
     },
     "execution_count": 11,
     "metadata": {},
     "output_type": "execute_result"
    }
   ],
   "source": [
    "len(data['AMT_CREDIT'])"
   ]
  },
  {
   "cell_type": "code",
   "execution_count": 12,
   "metadata": {},
   "outputs": [
    {
     "data": {
      "text/html": [
       "<div>\n",
       "<style scoped>\n",
       "    .dataframe tbody tr th:only-of-type {\n",
       "        vertical-align: middle;\n",
       "    }\n",
       "\n",
       "    .dataframe tbody tr th {\n",
       "        vertical-align: top;\n",
       "    }\n",
       "\n",
       "    .dataframe thead th {\n",
       "        text-align: right;\n",
       "    }\n",
       "</style>\n",
       "<table border=\"1\" class=\"dataframe\">\n",
       "  <thead>\n",
       "    <tr style=\"text-align: right;\">\n",
       "      <th></th>\n",
       "      <th>SK_ID_CURR</th>\n",
       "      <th>NAME_CONTRACT_TYPE</th>\n",
       "      <th>AMT_APPLICATION</th>\n",
       "      <th>AMT_CREDIT</th>\n",
       "      <th>WEEKDAY_APPR_PROCESS_START</th>\n",
       "      <th>NAME_CASH_LOAN_PURPOSE</th>\n",
       "      <th>NAME_CLIENT_TYPE</th>\n",
       "      <th>NAME_GOODS_CATEGORY</th>\n",
       "      <th>NAME_PORTFOLIO</th>\n",
       "      <th>CHANNEL_TYPE</th>\n",
       "    </tr>\n",
       "  </thead>\n",
       "  <tbody>\n",
       "    <tr>\n",
       "      <th>0</th>\n",
       "      <td>271877</td>\n",
       "      <td>Consumer loans</td>\n",
       "      <td>17145.0</td>\n",
       "      <td>17145.0</td>\n",
       "      <td>SATURDAY</td>\n",
       "      <td>XAP</td>\n",
       "      <td>Repeater</td>\n",
       "      <td>Mobile</td>\n",
       "      <td>POS</td>\n",
       "      <td>Country-wide</td>\n",
       "    </tr>\n",
       "    <tr>\n",
       "      <th>1</th>\n",
       "      <td>108129</td>\n",
       "      <td>Cash loans</td>\n",
       "      <td>607500.0</td>\n",
       "      <td>679671.0</td>\n",
       "      <td>THURSDAY</td>\n",
       "      <td>XNA</td>\n",
       "      <td>Repeater</td>\n",
       "      <td>XNA</td>\n",
       "      <td>Cash</td>\n",
       "      <td>Contact center</td>\n",
       "    </tr>\n",
       "    <tr>\n",
       "      <th>2</th>\n",
       "      <td>122040</td>\n",
       "      <td>Cash loans</td>\n",
       "      <td>112500.0</td>\n",
       "      <td>136444.5</td>\n",
       "      <td>TUESDAY</td>\n",
       "      <td>XNA</td>\n",
       "      <td>Repeater</td>\n",
       "      <td>XNA</td>\n",
       "      <td>Cash</td>\n",
       "      <td>Credit and cash offices</td>\n",
       "    </tr>\n",
       "    <tr>\n",
       "      <th>3</th>\n",
       "      <td>176158</td>\n",
       "      <td>Cash loans</td>\n",
       "      <td>450000.0</td>\n",
       "      <td>470790.0</td>\n",
       "      <td>MONDAY</td>\n",
       "      <td>XNA</td>\n",
       "      <td>Repeater</td>\n",
       "      <td>XNA</td>\n",
       "      <td>Cash</td>\n",
       "      <td>Credit and cash offices</td>\n",
       "    </tr>\n",
       "    <tr>\n",
       "      <th>4</th>\n",
       "      <td>199383</td>\n",
       "      <td>Cash loans</td>\n",
       "      <td>315000.0</td>\n",
       "      <td>340573.5</td>\n",
       "      <td>SATURDAY</td>\n",
       "      <td>Everyday expenses</td>\n",
       "      <td>Repeater</td>\n",
       "      <td>XNA</td>\n",
       "      <td>Cash</td>\n",
       "      <td>Credit and cash offices</td>\n",
       "    </tr>\n",
       "  </tbody>\n",
       "</table>\n",
       "</div>"
      ],
      "text/plain": [
       "   SK_ID_CURR NAME_CONTRACT_TYPE  AMT_APPLICATION  AMT_CREDIT  \\\n",
       "0      271877     Consumer loans          17145.0     17145.0   \n",
       "1      108129         Cash loans         607500.0    679671.0   \n",
       "2      122040         Cash loans         112500.0    136444.5   \n",
       "3      176158         Cash loans         450000.0    470790.0   \n",
       "4      199383         Cash loans         315000.0    340573.5   \n",
       "\n",
       "  WEEKDAY_APPR_PROCESS_START NAME_CASH_LOAN_PURPOSE NAME_CLIENT_TYPE  \\\n",
       "0                   SATURDAY                    XAP         Repeater   \n",
       "1                   THURSDAY                    XNA         Repeater   \n",
       "2                    TUESDAY                    XNA         Repeater   \n",
       "3                     MONDAY                    XNA         Repeater   \n",
       "4                   SATURDAY      Everyday expenses         Repeater   \n",
       "\n",
       "  NAME_GOODS_CATEGORY NAME_PORTFOLIO             CHANNEL_TYPE  \n",
       "0              Mobile            POS             Country-wide  \n",
       "1                 XNA           Cash           Contact center  \n",
       "2                 XNA           Cash  Credit and cash offices  \n",
       "3                 XNA           Cash  Credit and cash offices  \n",
       "4                 XNA           Cash  Credit and cash offices  "
      ]
     },
     "execution_count": 12,
     "metadata": {},
     "output_type": "execute_result"
    }
   ],
   "source": [
    "data = data[data['AMT_APPLICATION'] !=0]\n",
    "data.head()"
   ]
  },
  {
   "cell_type": "markdown",
   "metadata": {},
   "source": [
    "## `Nodo : Monto solicitado`"
   ]
  },
  {
   "cell_type": "markdown",
   "metadata": {},
   "source": [
    "### `Kernel Density Estimation`"
   ]
  },
  {
   "cell_type": "code",
   "execution_count": 13,
   "metadata": {},
   "outputs": [
    {
     "data": {
      "text/plain": [
       "<AxesSubplot:xlabel='AMT_APPLICATION'>"
      ]
     },
     "execution_count": 13,
     "metadata": {},
     "output_type": "execute_result"
    },
    {
     "data": {
      "image/png": "[encoded data removed]",
      "text/plain": [
       "<Figure size 432x288 with 1 Axes>"
      ]
     },
     "metadata": {
      "needs_background": "light"
     },
     "output_type": "display_data"
    }
   ],
   "source": [
    "# Visualizando nuestros datos\n",
    "sns.boxplot(x=data['AMT_APPLICATION'], saturation=.5, color='r')"
   ]
  },
  {
   "cell_type": "markdown",
   "metadata": {},
   "source": [
    "> Observamos que existen valores atipicos que excenden el rango intercuartilico por lo tanto obtaremos por utilizar una escala logaritmica."
   ]
  },
  {
   "cell_type": "code",
   "execution_count": 14,
   "metadata": {},
   "outputs": [
    {
     "data": {
      "text/plain": [
       "<AxesSubplot:xlabel='AMT_APPLICATION'>"
      ]
     },
     "execution_count": 14,
     "metadata": {},
     "output_type": "execute_result"
    },
    {
     "data": {
      "image/png": "[encoded data removed]",
      "text/plain": [
       "<Figure size 432x288 with 1 Axes>"
      ]
     },
     "metadata": {
      "needs_background": "light"
     },
     "output_type": "display_data"
    }
   ],
   "source": [
    "data_log = np.log(data['AMT_APPLICATION'])\n",
    "sns.boxplot(x=data_log, saturation=.5, color='r')"
   ]
  },
  {
   "cell_type": "code",
   "execution_count": 15,
   "metadata": {},
   "outputs": [
    {
     "data": {
      "text/plain": [
       "count    991477.000000\n",
       "mean         11.577048\n",
       "std           1.023470\n",
       "min           8.594154\n",
       "25%          10.763208\n",
       "50%          11.483692\n",
       "75%          12.240474\n",
       "max          15.581952\n",
       "Name: AMT_APPLICATION, dtype: float64"
      ]
     },
     "execution_count": 15,
     "metadata": {},
     "output_type": "execute_result"
    }
   ],
   "source": [
    "data_log.describe()"
   ]
  },
  {
   "cell_type": "code",
   "execution_count": 16,
   "metadata": {},
   "outputs": [
    {
     "data": {
      "text/plain": [
       "<AxesSubplot:xlabel='AMT_APPLICATION', ylabel='Count'>"
      ]
     },
     "execution_count": 16,
     "metadata": {},
     "output_type": "execute_result"
    },
    {
     "data": {
      "image/png": "[encoded data removed]",
      "text/plain": [
       "<Figure size 432x288 with 1 Axes>"
      ]
     },
     "metadata": {
      "needs_background": "light"
     },
     "output_type": "display_data"
    }
   ],
   "source": [
    "sns.histplot(data_log, bins=10)"
   ]
  },
  {
   "cell_type": "markdown",
   "metadata": {},
   "source": [
    ">Podemos observar que los datos en escala logaritmica ahora lucen como una normal."
   ]
  },
  {
   "cell_type": "code",
   "execution_count": 17,
   "metadata": {},
   "outputs": [],
   "source": [
    "x_grid = np.linspace(8.5,15.5,1000) #donde nosotros queremos graficar nuestra distribución\n",
    "\n",
    "# datos de prueba\n",
    "x = data_log.sample(n=5000,random_state=1)\n",
    "\n",
    "\n",
    "#mis datos reales\n",
    "pdf_true = data_log"
   ]
  },
  {
   "cell_type": "code",
   "execution_count": 18,
   "metadata": {},
   "outputs": [],
   "source": [
    "from scipy.stats import gaussian_kde\n",
    "from statsmodels.nonparametric.kernel_density import KDEMultivariate\n",
    "from sklearn.neighbors import KernelDensity"
   ]
  },
  {
   "cell_type": "code",
   "execution_count": 19,
   "metadata": {},
   "outputs": [
    {
     "name": "stderr",
     "output_type": "stream",
     "text": [
      "<ipython-input-19-520e71354433>:2: FutureWarning: Support for multi-dimensional indexing (e.g. `obj[:, None]`) is deprecated and will be removed in a future version.  Convert to a numpy array before indexing instead.\n",
      "  kde_multivariate = KDEMultivariate(data=x[:,np.newaxis], var_type='c',bw='normal_reference')\n"
     ]
    },
    {
     "data": {
      "image/png": "[encoded data removed]",
      "text/plain": [
       "<Figure size 432x288 with 1 Axes>"
      ]
     },
     "metadata": {
      "needs_background": "light"
     },
     "output_type": "display_data"
    }
   ],
   "source": [
    "# How to obtain a function instead of an array of values from KDEMultivariate?\n",
    "kde_multivariate = KDEMultivariate(data=x[:,np.newaxis], var_type='c',bw='normal_reference')\n",
    "f_multi_kde = lambda x: kde_multivariate.pdf(x) # mi f(x)\n",
    "# con esto podemos encontrar el método de aceptación y rechazo\n",
    "plt.plot(x_grid,f_multi_kde(x_grid))\n",
    "plt.hist(x,bins=20,density=True)\n",
    "plt.title('KDE multivariate')\n",
    "plt.show()"
   ]
  },
  {
   "cell_type": "code",
   "execution_count": 20,
   "metadata": {},
   "outputs": [
    {
     "data": {
      "text/plain": [
       "array([0.19881961])"
      ]
     },
     "execution_count": 20,
     "metadata": {},
     "output_type": "execute_result"
    }
   ],
   "source": [
    "kde_multivariate.bw"
   ]
  },
  {
   "cell_type": "markdown",
   "metadata": {},
   "source": [
    "## `Aceptación y rechazo`"
   ]
  },
  {
   "cell_type": "code",
   "execution_count": 21,
   "metadata": {},
   "outputs": [],
   "source": [
    "# Función de aceptación y rechazo usando compresión de listas\n",
    "def Acep_rechazo(R2:'Variables distruidas U~U(0,1)',\n",
    "                 R1:'Variables distribuidas como g(x)',\n",
    "                 f:'función objetivo a generar',\n",
    "                 t:'función que mayora a f'):\n",
    "#     R1 = np.random.rand(N)\n",
    "    f_x = f(R1)\n",
    "    t_x = t(R1)\n",
    "    condition = R2*t_x <=f_x\n",
    "    [plt.plot(R1[i],R2[i]*t_x[i],'ob') if condition[i] else plt.plot(R1[i],R2[i]*t_x[i],'o') \\\n",
    "        for i in range(len(R1))]\n",
    "                \n",
    "    plt.show()\n",
    "    x = [R1[i] for i in range(len(R1)) if condition[i]]\n",
    "    return x"
   ]
  },
  {
   "cell_type": "code",
   "execution_count": 22,
   "metadata": {},
   "outputs": [],
   "source": [
    "c = f_multi_kde(x) \n",
    "max_f=c.max()\n"
   ]
  },
  {
   "cell_type": "code",
   "execution_count": 23,
   "metadata": {},
   "outputs": [
    {
     "name": "stdout",
     "output_type": "stream",
     "text": [
      "El máximo de f es: 0.3886187592731793\n"
     ]
    },
    {
     "data": {
      "text/plain": [
       "<matplotlib.legend.Legend at 0x1ec8704c0d0>"
      ]
     },
     "execution_count": 23,
     "metadata": {},
     "output_type": "execute_result"
    },
    {
     "data": {
      "image/png": "[encoded data removed]",
      "text/plain": [
       "<Figure size 432x288 with 1 Axes>"
      ]
     },
     "metadata": {
      "needs_background": "light"
     },
     "output_type": "display_data"
    }
   ],
   "source": [
    "t = lambda x: max_f * np.ones([len(x)]) \n",
    "\n",
    "# Rango donde se graficará las funciones\n",
    "x = np.arange(8.5,15.5) \n",
    "print('El máximo de f es:',max_f)\n",
    "\n",
    "# Gráficas de las funciones\n",
    "plt.plot(x,f_multi_kde(x),label='f(x)')\n",
    "plt.plot(x,t(x),label='t(x)')\n",
    "plt.legend()"
   ]
  },
  {
   "cell_type": "markdown",
   "metadata": {},
   "source": [
    "## `Pruebas de hipótesis`"
   ]
  },
  {
   "cell_type": "markdown",
   "metadata": {},
   "source": [
    "1. **La causa que motiva en mayor proporción a los clientes a solicitar un crédito está dada por el consumo personal.**\n",
    "2. **Existe congruencia por parte de los clientes respecto al motivo por el cuál se solicita un crédito y el destino final de este.**\n",
    "3. **El monto de crédito aprobado es independiente del canal de ventas por el cuál se haya tramitado el crédito.**"
   ]
  },
  {
   "cell_type": "markdown",
   "metadata": {},
   "source": [
    "<script>\n",
    "  $(document).ready(function(){\n",
    "    $('div.prompt').hide();\n",
    "    $('div.back-to-top').hide();\n",
    "    $('nav#menubar').hide();\n",
    "    $('.breadcrumb').hide();\n",
    "    $('.hidden-print').hide();\n",
    "  });\n",
    "</script>\n",
    "\n",
    "<footer id=\"attribution\" style=\"float:right; color:#808080; background:#fff;\">\n",
    "Created with Jupyter by Esteban Jiménez Rodríguez.\n",
    "</footer>"
   ]
  }
 ],
 "metadata": {
  "kernelspec": {
   "display_name": "Python 3",
   "language": "python",
   "name": "python3"
  },
  "language_info": {
   "codemirror_mode": {
    "name": "ipython",
    "version": 3
   },
   "file_extension": ".py",
   "mimetype": "text/x-python",
   "name": "python",
   "nbconvert_exporter": "python",
   "pygments_lexer": "ipython3",
   "version": "3.8.5"
  }
 },
 "nbformat": 4,
 "nbformat_minor": 2
}
