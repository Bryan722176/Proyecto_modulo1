{
 "cells": [
  {
   "cell_type": "markdown",
   "metadata": {},
   "source": [
    "<img style=\"float: left; margin: 30px 15px 15px 15px;\" src=\"https://pngimage.net/wp-content/uploads/2018/06/logo-iteso-png-5.png\" width=\"300\" height=\"500\" /> \n",
    "    \n",
    "    \n",
    "### <font color='navy'> Simulación de procesos financieros. \n",
    "\n",
    "**Nombres:** \n",
    "- Juan Pablo Ruíz Magaña.\n",
    "- Bryan Azahel Juárez Pineda.\n",
    "\n",
    "**Fecha:** 17 de marzo del 2021.\n",
    "\n",
    "**Expediente** :\n",
    "- 721093.\n",
    "- 722176.\n",
    "    \n",
    "**Profesor:** Oscar David Jaramillo Zuluaga.\n",
    "    \n",
    "**Link Github**: [Repositorio proyecto.](https://github.com/Bryan722176/Proyecto_modulo1)\n",
    "    \n",
    "**Link a la base de datos**: [Base de datos original.](https://www.kaggle.com/kapoorshivam/credit-analysis)\n",
    "\n",
    "# Proyecto TEMA-2"
   ]
  },
  {
   "cell_type": "markdown",
   "metadata": {},
   "source": [
    "### 1.1 Título del trabajo.\n",
    "**`Análisis de solicitud de productos bancarios de crédito.`**"
   ]
  },
  {
   "cell_type": "markdown",
   "metadata": {},
   "source": [
    "### 1.2 Objetivos.\n",
    "\n",
    "#### Objetivo general.\n",
    "* Determinar las características de los productos bancarios de crédito que solicitarán futuros clientes.\n",
    "\n",
    "#### Objetivo secundarios.\n",
    "* Simular una cantidad considerable de escenarios que nos permita conocer posibles valores a futuro de las variables de interés.\n",
    "* Evaluar las simulaciones con el método Montecarlo con la finalidad de encontrar el valor esperado de las variables de interés.\n",
    "* Obtener las probabilidades de ocurrencia de ciertos eventos relacionados a nuestras variables de interés.\n",
    "* Definir los parámetros que caracterizan a las solicitudes de crédito a partir de las variables de interés."
   ]
  },
  {
   "cell_type": "markdown",
   "metadata": {},
   "source": [
    "### 1.3 Definición del problema."
   ]
  },
  {
   "cell_type": "markdown",
   "metadata": {},
   "source": [
    "En las estructuras capitalistas que caracterizan al sistema económico mundial, el consumo forma parte elemental del día a día de las personas, la cuestión de interés surge en el momento en que la productividad / salario no corresponde a la capacidad adquisitiva que los individuos requieren para adquirir determinados bienes y servicios en el corto plazo. De ahí nace la necesidad y figura de los créditos.\n",
    "\n",
    "Situandonos en la posición de una institución bancaria, otorgar créditos conlleva un riesgo considerable en el modelo de negocios de la institución. Asumir el riesgo de impago en un crédito puede tener consecuencias graves si esto se llega a dar en escalas masivas, por ende quienes otorgan crédito deben realizar un análisis minucioso respecto a la capacidad crediticia de las personas o empresas que lo soliciten.\n",
    "\n",
    "Con el fin de cuidar los intereses del banco y maximizar las oportunidades de negocio de la institución, nos interesa analizar las características de las aplicaciones previas de diferentes productos bancarios de crédito, con la intención de que la institución bancaria pueda perfilar clientes pontenciales de manera más efectiva y a su vez gestione de manera más óptima sus recursos destinados a estas oportunidades de negocio.\n",
    "\n",
    "Para conocer lo antes descrito, y con nuestra base de datos, definimos los nodos que se deciden simular como los siguientes:\n",
    "\n",
    "* **Monto solicitado del crédito**: Esto para poder definir las expectativas crediticias de los potenciales clientes. Conocer el monto solicitado nos da una pauta para identificar y poder seccionar clientes a partir de su potencial capacidad adquisitiva y su necesidad.\n",
    "\n",
    "* **Monto aprobado del crédito**: Después de un análisis por parte de la institución, esta variable representa el monto designado a una solicitud en particular. Conocer el monto aprobado nos ayuda a determinar no solo la capacidad real de pago del cliente, sino también nos ayuda a saber si el banco cubre las necesidades de capitalización del cliente.  \n",
    "\n",
    "* **Canal de venta**: Conducto por el cual se establece la relación entre el cliente y la institución, y se inicializa el trámite. Conocer esta variable nos ayudará a entender como se distribuye la captación de clientes para el banco, esto generará que se pueda saber cuales son los canales a fortalecer y en cuales continuar con la inercia descrita.\n",
    "\n",
    "* **Categoría de productos que se adquieren con instrumentos de crédito**: Esta variable representa el destino del crédito solicitado. Conocer la categoría de destino nos ayuda a entender no solo las necesidades y el por qué se solicitan los créditos, también nos puede ayudar a evaluar que sectores de consumo requieren de mayor capacidad crediticia."
   ]
  },
  {
   "attachments": {
    "image.png": {
     "image/png": "[encoded data removed]"
    }
   },
   "cell_type": "markdown",
   "metadata": {},
   "source": [
    "#### Diagrama de proceso.\n",
    "![image.png](attachment:image.png)"
   ]
  },
  {
   "cell_type": "markdown",
   "metadata": {},
   "source": [
    "#### Descripción del diagrama:\n",
    "\n",
    "En el diagrama se describe el proceso a modelar:\n",
    "\n",
    "1. Comenzando por el canal de venta elegido por el cliente, por medio del cual se hace el primer contacto entre la institución y el cliente.\n",
    "\n",
    "2. Consecuentemente el cliente solicita un monto determinado a manera de crédito.\n",
    "\n",
    "3. Posteriormente, la institución realiza un analisís crediticio y opta por asignar un monto a dicho al cliente.\n",
    "\n",
    "4. Por último el cliente hace uso del crédito adquiriendo bienes y servicios.\n",
    "\n",
    "A manera de conclusión de este diagrama lo que obtenemos es la caracterización de las solicitudes de crédito de los clientes de la institución."
   ]
  },
  {
   "cell_type": "markdown",
   "metadata": {},
   "source": [
    "### 1.4 Nodos y variables que se decidieron simular y porqué."
   ]
  },
  {
   "cell_type": "markdown",
   "metadata": {},
   "source": [
    "Resumiendo lo antes descrito, los nodos a simular serán los siguientes:\n",
    "* **Monto solicitado del crédito**.\n",
    "\n",
    "* **Monto aprobado del crédito**.\n",
    "\n",
    "* **Canal de venta**.\n",
    "\n",
    "* **Categoría de productos adquirimos con instrumentos de crédito**.\n",
    "\n",
    "Y las posibles complicaciones que podriamos encontrar en su simulación, de manera generalizada son las siguientes:\n",
    "1. **Escalabilidad de los datos:** Es posible que se presenten valores extremos, por lo tanto debemos realizar un correcto análisis exploratorio de los datos y de ser necesario modificar su escala.\n",
    "\n",
    "2. **Ausencia de valores:** En datasets tan grandes es posibles que algunas variables reporten valores faltantes o simplemente se encuentren en una categoría desconocida, por lo tanto será conveniente observar su frecuencia en la muestra."
   ]
  },
  {
   "cell_type": "markdown",
   "metadata": {},
   "source": [
    "### 1.5 Definición de hipótesis y supuestos."
   ]
  },
  {
   "cell_type": "markdown",
   "metadata": {},
   "source": [
    "De manera generalizada podemos definir los siguientes supuestos constantes en el proceso para conocer los parámetros de los créditos solicitados:\n",
    "1. **Se asume la aprobación del crédito.**\n",
    "2. **El monto aprobado del crédito no necesariamente corresponde al solicitado.**\n",
    "3. **El destino del crédito es rastreable.**\n",
    "4. **El monto de aplicación es mayor a 0.**\n",
    "\n",
    "En cuanto al desarrollo de hipótesis respecto al desarrollo del proyecto podemos definir lo siguiente:\n",
    "1. **La causa que motiva en mayor proporción a los clientes a solicitar un crédito está dada por el consumo personal.**\n",
    "2. **Existe congruencia por parte de los clientes respecto al motivo por el cuál se solicita un crédito y el destino final de este.**\n",
    "3. **El monto de crédito aprobado es independiente del canal de ventas por el cuál se haya tramitado el crédito.**"
   ]
  },
  {
   "cell_type": "markdown",
   "metadata": {},
   "source": [
    "### 1.6 Obtención de bases de datos"
   ]
  },
  {
   "cell_type": "markdown",
   "metadata": {},
   "source": [
    "La base que se obtuvo a través de la plataforma web [_Kaggle_](https://www.kaggle.com/) describe las aplicaciones créditicias de un una institución financiera, el problema se presenta al momento de que las aplicaciones se aprueban de manera que el corporativo llega a otorgar créditos a individuos que no necesariamente terminan pagando en tiempo y forma.\n",
    "\n",
    "La base de datos original está conformada por $1'670,214$ filas y $37$ columnas. La realidad es que para el análisis particular que se desea realizar, existen variables y valores que no aportan demasiado, y con la finalidad de eficientar costos computacionales y dejar exclusivamente la información relevante al objetivo descrito previamente, realizaremos un análisis exploratorio y una limpieza de datos, la cual se podrá observar el notebook llamado \"**`EDA_BD`**\" presente en este mismo repositorio."
   ]
  },
  {
   "cell_type": "markdown",
   "metadata": {},
   "source": [
    "### 1.7 Visualización de resultados de simulación."
   ]
  },
  {
   "cell_type": "markdown",
   "metadata": {},
   "source": [
    "Entonces, las variables a modelar serán las siguientes:\n",
    "- Canal de venta.\n",
    "- Monto solicitado.\n",
    "- Monto aprobado.\n",
    "- Bienes adquiridos."
   ]
  },
  {
   "cell_type": "code",
   "execution_count": 238,
   "metadata": {},
   "outputs": [],
   "source": [
    "# Librerías a utilizar.\n",
    "import numpy as np\n",
    "import pandas as pd\n",
    "from scipy.optimize import minimize\n",
    "import seaborn as sns\n",
    "from scipy.stats.distributions import norm\n",
    "from statsmodels.nonparametric.kde import KDEUnivariate\n",
    "import matplotlib.pyplot as plt\n",
    "import scipy.stats as st     # Librería estadística\n",
    "import statsmodels.api as sm \n",
    "%matplotlib inline"
   ]
  },
  {
   "cell_type": "code",
   "execution_count": 239,
   "metadata": {
    "scrolled": true
   },
   "outputs": [
    {
     "data": {
      "text/html": [
       "<div>\n",
       "<style scoped>\n",
       "    .dataframe tbody tr th:only-of-type {\n",
       "        vertical-align: middle;\n",
       "    }\n",
       "\n",
       "    .dataframe tbody tr th {\n",
       "        vertical-align: top;\n",
       "    }\n",
       "\n",
       "    .dataframe thead th {\n",
       "        text-align: right;\n",
       "    }\n",
       "</style>\n",
       "<table border=\"1\" class=\"dataframe\">\n",
       "  <thead>\n",
       "    <tr style=\"text-align: right;\">\n",
       "      <th></th>\n",
       "      <th>SK_ID_CURR</th>\n",
       "      <th>NAME_CONTRACT_TYPE</th>\n",
       "      <th>AMT_APPLICATION</th>\n",
       "      <th>AMT_CREDIT</th>\n",
       "      <th>WEEKDAY_APPR_PROCESS_START</th>\n",
       "      <th>NAME_CASH_LOAN_PURPOSE</th>\n",
       "      <th>NAME_CLIENT_TYPE</th>\n",
       "      <th>NAME_GOODS_CATEGORY</th>\n",
       "      <th>NAME_PORTFOLIO</th>\n",
       "      <th>CHANNEL_TYPE</th>\n",
       "    </tr>\n",
       "  </thead>\n",
       "  <tbody>\n",
       "    <tr>\n",
       "      <th>0</th>\n",
       "      <td>271877</td>\n",
       "      <td>Consumer loans</td>\n",
       "      <td>17145.0</td>\n",
       "      <td>17145.0</td>\n",
       "      <td>SATURDAY</td>\n",
       "      <td>XAP</td>\n",
       "      <td>Repeater</td>\n",
       "      <td>Mobile</td>\n",
       "      <td>POS</td>\n",
       "      <td>Country-wide</td>\n",
       "    </tr>\n",
       "    <tr>\n",
       "      <th>1</th>\n",
       "      <td>108129</td>\n",
       "      <td>Cash loans</td>\n",
       "      <td>607500.0</td>\n",
       "      <td>679671.0</td>\n",
       "      <td>THURSDAY</td>\n",
       "      <td>XNA</td>\n",
       "      <td>Repeater</td>\n",
       "      <td>XNA</td>\n",
       "      <td>Cash</td>\n",
       "      <td>Contact center</td>\n",
       "    </tr>\n",
       "    <tr>\n",
       "      <th>2</th>\n",
       "      <td>122040</td>\n",
       "      <td>Cash loans</td>\n",
       "      <td>112500.0</td>\n",
       "      <td>136444.5</td>\n",
       "      <td>TUESDAY</td>\n",
       "      <td>XNA</td>\n",
       "      <td>Repeater</td>\n",
       "      <td>XNA</td>\n",
       "      <td>Cash</td>\n",
       "      <td>Credit and cash offices</td>\n",
       "    </tr>\n",
       "    <tr>\n",
       "      <th>3</th>\n",
       "      <td>176158</td>\n",
       "      <td>Cash loans</td>\n",
       "      <td>450000.0</td>\n",
       "      <td>470790.0</td>\n",
       "      <td>MONDAY</td>\n",
       "      <td>XNA</td>\n",
       "      <td>Repeater</td>\n",
       "      <td>XNA</td>\n",
       "      <td>Cash</td>\n",
       "      <td>Credit and cash offices</td>\n",
       "    </tr>\n",
       "    <tr>\n",
       "      <th>4</th>\n",
       "      <td>199383</td>\n",
       "      <td>Cash loans</td>\n",
       "      <td>315000.0</td>\n",
       "      <td>340573.5</td>\n",
       "      <td>SATURDAY</td>\n",
       "      <td>Everyday expenses</td>\n",
       "      <td>Repeater</td>\n",
       "      <td>XNA</td>\n",
       "      <td>Cash</td>\n",
       "      <td>Credit and cash offices</td>\n",
       "    </tr>\n",
       "  </tbody>\n",
       "</table>\n",
       "</div>"
      ],
      "text/plain": [
       "   SK_ID_CURR NAME_CONTRACT_TYPE  AMT_APPLICATION  AMT_CREDIT  \\\n",
       "0      271877     Consumer loans          17145.0     17145.0   \n",
       "1      108129         Cash loans         607500.0    679671.0   \n",
       "2      122040         Cash loans         112500.0    136444.5   \n",
       "3      176158         Cash loans         450000.0    470790.0   \n",
       "4      199383         Cash loans         315000.0    340573.5   \n",
       "\n",
       "  WEEKDAY_APPR_PROCESS_START NAME_CASH_LOAN_PURPOSE NAME_CLIENT_TYPE  \\\n",
       "0                   SATURDAY                    XAP         Repeater   \n",
       "1                   THURSDAY                    XNA         Repeater   \n",
       "2                    TUESDAY                    XNA         Repeater   \n",
       "3                     MONDAY                    XNA         Repeater   \n",
       "4                   SATURDAY      Everyday expenses         Repeater   \n",
       "\n",
       "  NAME_GOODS_CATEGORY NAME_PORTFOLIO             CHANNEL_TYPE  \n",
       "0              Mobile            POS             Country-wide  \n",
       "1                 XNA           Cash           Contact center  \n",
       "2                 XNA           Cash  Credit and cash offices  \n",
       "3                 XNA           Cash  Credit and cash offices  \n",
       "4                 XNA           Cash  Credit and cash offices  "
      ]
     },
     "execution_count": 239,
     "metadata": {},
     "output_type": "execute_result"
    }
   ],
   "source": [
    "data = pd.read_csv('approval_clean.csv')\n",
    "data.head()"
   ]
  },
  {
   "cell_type": "markdown",
   "metadata": {},
   "source": [
    "Al observar nuestro dataset, nos encontramos con una gran incongruencia. El hecho de que un crédito se autorice implica que el **monto aprobado** de la línea de crédito debe ser mayor a 0, sin embargo existen valores que cuentan con está situación. Con la finalidad de ser congruentes a nuestro supuesto de aprobación, eliminaremos todas las filas que contengan estos valores. Los manejaremos como un _error de captura_."
   ]
  },
  {
   "cell_type": "code",
   "execution_count": 240,
   "metadata": {},
   "outputs": [],
   "source": [
    "# Eliminar montos de crédito aprobados iguales a 0. Es un error de captura.\n",
    "data = data[data.AMT_CREDIT != 0]"
   ]
  },
  {
   "cell_type": "markdown",
   "metadata": {},
   "source": [
    "Comenzamos a explorar nuestras variables de interés. Primero observaremos los valores únicos y la cuenta de los mismos en el **canal de venta**."
   ]
  },
  {
   "cell_type": "code",
   "execution_count": 241,
   "metadata": {},
   "outputs": [
    {
     "data": {
      "text/plain": [
       "Country-wide                  401875\n",
       "Credit and cash offices       288947\n",
       "Stone                         188924\n",
       "Regional / Local               96170\n",
       "AP+ (Cash loan)                31195\n",
       "Contact center                 25217\n",
       "Channel of corporate sales      2616\n",
       "Car dealer                       286\n",
       "Name: CHANNEL_TYPE, dtype: int64"
      ]
     },
     "execution_count": 241,
     "metadata": {},
     "output_type": "execute_result"
    }
   ],
   "source": [
    "# Cuenta de valores únicos del canal de venta.\n",
    "data.CHANNEL_TYPE.value_counts()"
   ]
  },
  {
   "cell_type": "markdown",
   "metadata": {},
   "source": [
    "En el caso particular del **canal de venta** nos podemos percatar que existen 8 valores únicos, los cuales categorizamos como los distintos canales de venta sobre los cuales los clientes llegan a nosotros. A simple vista, observamos que el más popular es la categoria _Country-wide_.\n",
    "\n",
    "Ahora, visualizaremos un poco sobre nuestros **montos solicitados**. Para una visualización rápida lo observamos a partir de un histograma."
   ]
  },
  {
   "cell_type": "code",
   "execution_count": 242,
   "metadata": {},
   "outputs": [
    {
     "name": "stdout",
     "output_type": "stream",
     "text": [
      "El valor mínimo del monto de aplicación es de: $0\n",
      "El valor máximo del monto de aplicación es de: $5850000\n"
     ]
    },
    {
     "data": {
      "image/png": "[encoded data removed]",
      "text/plain": [
       "<Figure size 432x288 with 1 Axes>"
      ]
     },
     "metadata": {
      "needs_background": "light"
     },
     "output_type": "display_data"
    }
   ],
   "source": [
    "# Visualizamos el monto solicitado.\n",
    "sns.histplot(data.AMT_APPLICATION, color='y', bins=10);\n",
    "print(f'El valor mínimo del monto de aplicación es de: ${int(min(data.AMT_APPLICATION))}')\n",
    "print(f'El valor máximo del monto de aplicación es de: ${int(max(data.AMT_APPLICATION))}')"
   ]
  },
  {
   "cell_type": "markdown",
   "metadata": {},
   "source": [
    "En el caso de los **montos solicitados**, graficamente se observa que la escala sobre la cual se está trabajando no resulta del todo óptima en la visualización, esto porque la mayoría de las cantidades están abajo de un millón de dólares, sin embargo, existen algunos montos que superan los cinco millones, como lo es el máximo, el cual es de $5,850,00$. De está situación observamos otra cuestión que resulta interesante y que contrasta con uno de los supuestos planteados, y es que existen **montos solicitados** iguales a 0. A pesar de que no nos interesan para nuestra análisis, si se puede derivar un análisis particular del mismo."
   ]
  },
  {
   "cell_type": "code",
   "execution_count": 243,
   "metadata": {
    "scrolled": true
   },
   "outputs": [
    {
     "name": "stdout",
     "output_type": "stream",
     "text": [
      "El caso particular, representa un: 4.226403794325899% del total de la muestra.\n"
     ]
    },
    {
     "data": {
      "text/html": [
       "<div>\n",
       "<style scoped>\n",
       "    .dataframe tbody tr th:only-of-type {\n",
       "        vertical-align: middle;\n",
       "    }\n",
       "\n",
       "    .dataframe tbody tr th {\n",
       "        vertical-align: top;\n",
       "    }\n",
       "\n",
       "    .dataframe thead th {\n",
       "        text-align: right;\n",
       "    }\n",
       "</style>\n",
       "<table border=\"1\" class=\"dataframe\">\n",
       "  <thead>\n",
       "    <tr style=\"text-align: right;\">\n",
       "      <th></th>\n",
       "      <th>SK_ID_CURR</th>\n",
       "      <th>NAME_CONTRACT_TYPE</th>\n",
       "      <th>AMT_APPLICATION</th>\n",
       "      <th>AMT_CREDIT</th>\n",
       "      <th>WEEKDAY_APPR_PROCESS_START</th>\n",
       "      <th>NAME_CASH_LOAN_PURPOSE</th>\n",
       "      <th>NAME_CLIENT_TYPE</th>\n",
       "      <th>NAME_GOODS_CATEGORY</th>\n",
       "      <th>NAME_PORTFOLIO</th>\n",
       "      <th>CHANNEL_TYPE</th>\n",
       "    </tr>\n",
       "  </thead>\n",
       "  <tbody>\n",
       "    <tr>\n",
       "      <th>54</th>\n",
       "      <td>120854</td>\n",
       "      <td>Revolving loans</td>\n",
       "      <td>0.0</td>\n",
       "      <td>675000.0</td>\n",
       "      <td>THURSDAY</td>\n",
       "      <td>XAP</td>\n",
       "      <td>Repeater</td>\n",
       "      <td>XNA</td>\n",
       "      <td>Cards</td>\n",
       "      <td>Credit and cash offices</td>\n",
       "    </tr>\n",
       "    <tr>\n",
       "      <th>75</th>\n",
       "      <td>276237</td>\n",
       "      <td>Revolving loans</td>\n",
       "      <td>0.0</td>\n",
       "      <td>450000.0</td>\n",
       "      <td>TUESDAY</td>\n",
       "      <td>XAP</td>\n",
       "      <td>Repeater</td>\n",
       "      <td>XNA</td>\n",
       "      <td>Cards</td>\n",
       "      <td>Country-wide</td>\n",
       "    </tr>\n",
       "    <tr>\n",
       "      <th>215</th>\n",
       "      <td>449030</td>\n",
       "      <td>Revolving loans</td>\n",
       "      <td>0.0</td>\n",
       "      <td>180000.0</td>\n",
       "      <td>SUNDAY</td>\n",
       "      <td>XAP</td>\n",
       "      <td>Repeater</td>\n",
       "      <td>XNA</td>\n",
       "      <td>Cards</td>\n",
       "      <td>Country-wide</td>\n",
       "    </tr>\n",
       "    <tr>\n",
       "      <th>222</th>\n",
       "      <td>323651</td>\n",
       "      <td>Revolving loans</td>\n",
       "      <td>0.0</td>\n",
       "      <td>270000.0</td>\n",
       "      <td>TUESDAY</td>\n",
       "      <td>XAP</td>\n",
       "      <td>Repeater</td>\n",
       "      <td>XNA</td>\n",
       "      <td>Cards</td>\n",
       "      <td>AP+ (Cash loan)</td>\n",
       "    </tr>\n",
       "    <tr>\n",
       "      <th>256</th>\n",
       "      <td>263634</td>\n",
       "      <td>Revolving loans</td>\n",
       "      <td>0.0</td>\n",
       "      <td>765000.0</td>\n",
       "      <td>MONDAY</td>\n",
       "      <td>XAP</td>\n",
       "      <td>Repeater</td>\n",
       "      <td>XNA</td>\n",
       "      <td>Cards</td>\n",
       "      <td>Credit and cash offices</td>\n",
       "    </tr>\n",
       "  </tbody>\n",
       "</table>\n",
       "</div>"
      ],
      "text/plain": [
       "     SK_ID_CURR NAME_CONTRACT_TYPE  AMT_APPLICATION  AMT_CREDIT  \\\n",
       "54       120854    Revolving loans              0.0    675000.0   \n",
       "75       276237    Revolving loans              0.0    450000.0   \n",
       "215      449030    Revolving loans              0.0    180000.0   \n",
       "222      323651    Revolving loans              0.0    270000.0   \n",
       "256      263634    Revolving loans              0.0    765000.0   \n",
       "\n",
       "    WEEKDAY_APPR_PROCESS_START NAME_CASH_LOAN_PURPOSE NAME_CLIENT_TYPE  \\\n",
       "54                    THURSDAY                    XAP         Repeater   \n",
       "75                     TUESDAY                    XAP         Repeater   \n",
       "215                     SUNDAY                    XAP         Repeater   \n",
       "222                    TUESDAY                    XAP         Repeater   \n",
       "256                     MONDAY                    XAP         Repeater   \n",
       "\n",
       "    NAME_GOODS_CATEGORY NAME_PORTFOLIO             CHANNEL_TYPE  \n",
       "54                  XNA          Cards  Credit and cash offices  \n",
       "75                  XNA          Cards             Country-wide  \n",
       "215                 XNA          Cards             Country-wide  \n",
       "222                 XNA          Cards          AP+ (Cash loan)  \n",
       "256                 XNA          Cards  Credit and cash offices  "
      ]
     },
     "execution_count": 243,
     "metadata": {},
     "output_type": "execute_result"
    }
   ],
   "source": [
    "# Definimos caso particular. Monto de aplicación igual a 0.\n",
    "data_particular = data[data['AMT_APPLICATION']==0]\n",
    "print(f'El caso particular, representa un: {(len(data_particular) / len(data))*100}% del total de la muestra.')\n",
    "data_particular.head()"
   ]
  },
  {
   "cell_type": "markdown",
   "metadata": {},
   "source": [
    "Como podemos observar, este conjunto de datos representan aproximadamente un $4.23\\%$ de la muestra. Por lo tanto su eliminación del análisis principal no afectará a los objetivos inicialmente planteados. Ahora, para analizar este caso particular, las variables que nos interesa observar a partir del nuevo subconjunto de datos serán el **tipo de contrato**, **tipo de instrumento**, **categoria de gasto**, **tipo de cliente** y **monto aprobado**."
   ]
  },
  {
   "cell_type": "code",
   "execution_count": 244,
   "metadata": {},
   "outputs": [
    {
     "data": {
      "text/plain": [
       "Revolving loans    43753\n",
       "Name: NAME_CONTRACT_TYPE, dtype: int64"
      ]
     },
     "execution_count": 244,
     "metadata": {},
     "output_type": "execute_result"
    }
   ],
   "source": [
    "# Observamos el tipo de contrato.\n",
    "data_particular.NAME_CONTRACT_TYPE.value_counts()"
   ]
  },
  {
   "cell_type": "markdown",
   "metadata": {},
   "source": [
    "Se observa que el tipo de contrato que se da en estos casos, solo corresponde a un **préstamo revolvente**, siendo que este abarca la totalidad de la muestra."
   ]
  },
  {
   "cell_type": "code",
   "execution_count": 245,
   "metadata": {},
   "outputs": [
    {
     "data": {
      "text/plain": [
       "Cards    43753\n",
       "Name: NAME_PORTFOLIO, dtype: int64"
      ]
     },
     "execution_count": 245,
     "metadata": {},
     "output_type": "execute_result"
    }
   ],
   "source": [
    "# Observamos el tipo de instrumento utilizado.\n",
    "data_particular.NAME_PORTFOLIO.value_counts()"
   ]
  },
  {
   "cell_type": "markdown",
   "metadata": {},
   "source": [
    "Para el caso del instrumento otorgado, vemos nuevamente que existe solo uno, las **tarjetas de crédito**."
   ]
  },
  {
   "cell_type": "code",
   "execution_count": 246,
   "metadata": {},
   "outputs": [
    {
     "data": {
      "text/plain": [
       "XNA    43753\n",
       "Name: NAME_GOODS_CATEGORY, dtype: int64"
      ]
     },
     "execution_count": 246,
     "metadata": {},
     "output_type": "execute_result"
    }
   ],
   "source": [
    "# Observamos la categoria de gasto de la línea.\n",
    "data_particular.NAME_GOODS_CATEGORY.value_counts()"
   ]
  },
  {
   "cell_type": "markdown",
   "metadata": {},
   "source": [
    "En el caso de la categoría de gasto observamos que solo existe una, **XNA** la cual representa una ausencia de valor. Con esto podemos deducir que estas líneas de crédito no informan la categoria de bienes adquiridos, o al menos esta información pareciera no resultar determinante para la institución."
   ]
  },
  {
   "cell_type": "code",
   "execution_count": 247,
   "metadata": {},
   "outputs": [
    {
     "data": {
      "text/plain": [
       "Repeater     39912\n",
       "Refreshed     3627\n",
       "New            214\n",
       "Name: NAME_CLIENT_TYPE, dtype: int64"
      ]
     },
     "execution_count": 247,
     "metadata": {},
     "output_type": "execute_result"
    }
   ],
   "source": [
    "# Observamos el tipo de cliente.\n",
    "data_particular.NAME_CLIENT_TYPE.value_counts()"
   ]
  },
  {
   "cell_type": "markdown",
   "metadata": {},
   "source": [
    "En esta variable encontramos otra cuestión interesante, y es que la mayoría de personas con este tipo particular de crédito o son clientes, o lo llegaron a ser en algun momento. Esto se representa en casi todos los casos, donde solo $214$ clientes fueron nuevos para la institución. Esto nos da pauta a pensar que este tipo de líneas no se otorgan a cualquier cliente, probablemente sea una línea preferencial."
   ]
  },
  {
   "cell_type": "code",
   "execution_count": 248,
   "metadata": {},
   "outputs": [
    {
     "name": "stdout",
     "output_type": "stream",
     "text": [
      "El valor mínimo del monto de aprobación es de: $22500\n",
      "El valor máximo del monto de aprobación es de: $1350000\n"
     ]
    },
    {
     "data": {
      "image/png": "[encoded data removed]",
      "text/plain": [
       "<Figure size 432x288 with 1 Axes>"
      ]
     },
     "metadata": {
      "needs_background": "light"
     },
     "output_type": "display_data"
    }
   ],
   "source": [
    "# Visualizamos rápidamente, con un histograma el monto aprobado.\n",
    "sns.histplot(data_particular.AMT_CREDIT, color='r', bins=10);\n",
    "print(f'El valor mínimo del monto de aprobación es de: ${int(min(data_particular.AMT_CREDIT))}')\n",
    "print(f'El valor máximo del monto de aprobación es de: ${int(max(data_particular.AMT_CREDIT))}')"
   ]
  },
  {
   "cell_type": "markdown",
   "metadata": {},
   "source": [
    "En el caso del **monto aprobado** observamos que las cantidades oscilan entre $\\$22,500$ y $\\$1,350,000$. Tomando en cuenta que el máximo monto registrado en el dataset ronda los seis millones, podemos decir que este tipo de líneas de crédito no se caracterizan por ser altas.\n",
    "\n",
    "Entonces con todo lo antes mencionado podemos definir las carácteristicas de este caso particular, donde el **monto solicitado** del crédito es igual a 0, es decir, la institución otorga estas líneas sin que exista una prevía solicitud por parte de un cliente:\n",
    "\n",
    "- Es específico a una línea de crédito conocidad como **crédito revolvente**.\n",
    "- El instrumento que se otorga para ejercer la línea es exclusivamente la **tarjeta de crédito**.\n",
    "- Los bienes adquiridos, no representan o al menos no son del interés de la institución financiera.\n",
    "- El tipo de cliente al cual están dirigidas estas líneas es en su mayoría para aquellos que ya tienen un historial con la institución.\n",
    "- Los montos de estas líneas de crédito son más bajos, respecto a otro tipo de solicitudes."
   ]
  },
  {
   "cell_type": "code",
   "execution_count": 249,
   "metadata": {},
   "outputs": [
    {
     "data": {
      "text/html": [
       "<div>\n",
       "<style scoped>\n",
       "    .dataframe tbody tr th:only-of-type {\n",
       "        vertical-align: middle;\n",
       "    }\n",
       "\n",
       "    .dataframe tbody tr th {\n",
       "        vertical-align: top;\n",
       "    }\n",
       "\n",
       "    .dataframe thead th {\n",
       "        text-align: right;\n",
       "    }\n",
       "</style>\n",
       "<table border=\"1\" class=\"dataframe\">\n",
       "  <thead>\n",
       "    <tr style=\"text-align: right;\">\n",
       "      <th></th>\n",
       "      <th>SK_ID_CURR</th>\n",
       "      <th>NAME_CONTRACT_TYPE</th>\n",
       "      <th>AMT_APPLICATION</th>\n",
       "      <th>AMT_CREDIT</th>\n",
       "      <th>WEEKDAY_APPR_PROCESS_START</th>\n",
       "      <th>NAME_CASH_LOAN_PURPOSE</th>\n",
       "      <th>NAME_CLIENT_TYPE</th>\n",
       "      <th>NAME_GOODS_CATEGORY</th>\n",
       "      <th>NAME_PORTFOLIO</th>\n",
       "      <th>CHANNEL_TYPE</th>\n",
       "    </tr>\n",
       "  </thead>\n",
       "  <tbody>\n",
       "    <tr>\n",
       "      <th>0</th>\n",
       "      <td>271877</td>\n",
       "      <td>Consumer loans</td>\n",
       "      <td>17145.0</td>\n",
       "      <td>17145.0</td>\n",
       "      <td>SATURDAY</td>\n",
       "      <td>XAP</td>\n",
       "      <td>Repeater</td>\n",
       "      <td>Mobile</td>\n",
       "      <td>POS</td>\n",
       "      <td>Country-wide</td>\n",
       "    </tr>\n",
       "    <tr>\n",
       "      <th>1</th>\n",
       "      <td>108129</td>\n",
       "      <td>Cash loans</td>\n",
       "      <td>607500.0</td>\n",
       "      <td>679671.0</td>\n",
       "      <td>THURSDAY</td>\n",
       "      <td>XNA</td>\n",
       "      <td>Repeater</td>\n",
       "      <td>XNA</td>\n",
       "      <td>Cash</td>\n",
       "      <td>Contact center</td>\n",
       "    </tr>\n",
       "    <tr>\n",
       "      <th>2</th>\n",
       "      <td>122040</td>\n",
       "      <td>Cash loans</td>\n",
       "      <td>112500.0</td>\n",
       "      <td>136444.5</td>\n",
       "      <td>TUESDAY</td>\n",
       "      <td>XNA</td>\n",
       "      <td>Repeater</td>\n",
       "      <td>XNA</td>\n",
       "      <td>Cash</td>\n",
       "      <td>Credit and cash offices</td>\n",
       "    </tr>\n",
       "    <tr>\n",
       "      <th>3</th>\n",
       "      <td>176158</td>\n",
       "      <td>Cash loans</td>\n",
       "      <td>450000.0</td>\n",
       "      <td>470790.0</td>\n",
       "      <td>MONDAY</td>\n",
       "      <td>XNA</td>\n",
       "      <td>Repeater</td>\n",
       "      <td>XNA</td>\n",
       "      <td>Cash</td>\n",
       "      <td>Credit and cash offices</td>\n",
       "    </tr>\n",
       "    <tr>\n",
       "      <th>4</th>\n",
       "      <td>199383</td>\n",
       "      <td>Cash loans</td>\n",
       "      <td>315000.0</td>\n",
       "      <td>340573.5</td>\n",
       "      <td>SATURDAY</td>\n",
       "      <td>Everyday expenses</td>\n",
       "      <td>Repeater</td>\n",
       "      <td>XNA</td>\n",
       "      <td>Cash</td>\n",
       "      <td>Credit and cash offices</td>\n",
       "    </tr>\n",
       "  </tbody>\n",
       "</table>\n",
       "</div>"
      ],
      "text/plain": [
       "   SK_ID_CURR NAME_CONTRACT_TYPE  AMT_APPLICATION  AMT_CREDIT  \\\n",
       "0      271877     Consumer loans          17145.0     17145.0   \n",
       "1      108129         Cash loans         607500.0    679671.0   \n",
       "2      122040         Cash loans         112500.0    136444.5   \n",
       "3      176158         Cash loans         450000.0    470790.0   \n",
       "4      199383         Cash loans         315000.0    340573.5   \n",
       "\n",
       "  WEEKDAY_APPR_PROCESS_START NAME_CASH_LOAN_PURPOSE NAME_CLIENT_TYPE  \\\n",
       "0                   SATURDAY                    XAP         Repeater   \n",
       "1                   THURSDAY                    XNA         Repeater   \n",
       "2                    TUESDAY                    XNA         Repeater   \n",
       "3                     MONDAY                    XNA         Repeater   \n",
       "4                   SATURDAY      Everyday expenses         Repeater   \n",
       "\n",
       "  NAME_GOODS_CATEGORY NAME_PORTFOLIO             CHANNEL_TYPE  \n",
       "0              Mobile            POS             Country-wide  \n",
       "1                 XNA           Cash           Contact center  \n",
       "2                 XNA           Cash  Credit and cash offices  \n",
       "3                 XNA           Cash  Credit and cash offices  \n",
       "4                 XNA           Cash  Credit and cash offices  "
      ]
     },
     "execution_count": 249,
     "metadata": {},
     "output_type": "execute_result"
    }
   ],
   "source": [
    "# Ya con el caso particular descrito, nos quedamos exclusivamente con los montos solicitados mayores a 0.\n",
    "data = data[data['AMT_APPLICATION'] !=0]\n",
    "data.head()"
   ]
  },
  {
   "cell_type": "code",
   "execution_count": 250,
   "metadata": {},
   "outputs": [
    {
     "data": {
      "text/plain": [
       "Index(['SK_ID_CURR', 'NAME_CONTRACT_TYPE', 'AMT_APPLICATION', 'AMT_CREDIT',\n",
       "       'WEEKDAY_APPR_PROCESS_START', 'NAME_CASH_LOAN_PURPOSE',\n",
       "       'NAME_CLIENT_TYPE', 'NAME_GOODS_CATEGORY', 'NAME_PORTFOLIO',\n",
       "       'CHANNEL_TYPE'],\n",
       "      dtype='object')"
      ]
     },
     "execution_count": 250,
     "metadata": {},
     "output_type": "execute_result"
    }
   ],
   "source": [
    "data.columns"
   ]
  },
  {
   "cell_type": "markdown",
   "metadata": {},
   "source": [
    "Ahora ya con un exploratorio de datos más completo, comenzamos con la simulación correspondiente a los nodos descritos en el objetivo principal."
   ]
  },
  {
   "cell_type": "markdown",
   "metadata": {},
   "source": [
    "## `Nodo: Canal de venta`."
   ]
  },
  {
   "cell_type": "markdown",
   "metadata": {},
   "source": [
    "### `Kernel Density Estimation`."
   ]
  },
  {
   "cell_type": "code",
   "execution_count": 251,
   "metadata": {},
   "outputs": [
    {
     "data": {
      "text/plain": [
       "array(['Country-wide', 'Contact center', 'Credit and cash offices',\n",
       "       'Stone', 'Regional / Local', 'AP+ (Cash loan)', 'Car dealer',\n",
       "       'Channel of corporate sales'], dtype=object)"
      ]
     },
     "execution_count": 251,
     "metadata": {},
     "output_type": "execute_result"
    }
   ],
   "source": [
    "data['CHANNEL_TYPE'].unique()"
   ]
  },
  {
   "cell_type": "markdown",
   "metadata": {},
   "source": [
    "Al ser una variable discreta optamos por indexar nuestros datos del 1 al 8.\n",
    "\n",
    "1. Country-wide\n",
    "2. Contact center \n",
    "3. Credit and cash offices\n",
    "4. Stone\n",
    "5. Regional/Local\n",
    "6. AP+ (Cash loan) \n",
    "7. Car dealer\n",
    "8. Channel of corporate sales"
   ]
  },
  {
   "cell_type": "markdown",
   "metadata": {},
   "source": [
    "# Almacenamos los canales de venta en una variable.\n",
    "canal_venta = data['CHANNEL_TYPE']\n",
    " \n",
    "# Lista de valores.\n",
    "lista_canales = list(canal_venta.unique())\n",
    " \n",
    "# Lista de los números.\n",
    "lista_numeros = list(np.arange(1, len(lista_canales)+1, 1))\n",
    " \n",
    "# Diccionario con la equivalencia de cadena de texto a número.\n",
    "diccionario_c = {can:num for can, num in zip(lista_canales, lista_numeros)}\n",
    " \n",
    "# Reemplazamos valores. Lista con los nuevos valores.\n",
    "[canal_venta.replace(canal_venta[i], diccionario_c[canal_venta[i]]) for i in list(canal_venta.index)]"
   ]
  },
  {
   "cell_type": "code",
   "execution_count": 252,
   "metadata": {},
   "outputs": [
    {
     "data": {
      "text/plain": [
       "0    1\n",
       "1    2\n",
       "2    3\n",
       "3    3\n",
       "4    3\n",
       "Name: CHANNEL_TYPE, dtype: int64"
      ]
     },
     "execution_count": 252,
     "metadata": {},
     "output_type": "execute_result"
    }
   ],
   "source": [
    "data['CHANNEL_TYPE']=data['CHANNEL_TYPE'].replace('Country-wide',1)\n",
    "data['CHANNEL_TYPE']=data['CHANNEL_TYPE'].replace('Contact center',2)\n",
    "data['CHANNEL_TYPE']=data['CHANNEL_TYPE'].replace('Credit and cash offices',3)\n",
    "data['CHANNEL_TYPE']=data['CHANNEL_TYPE'].replace('Stone',4)\n",
    "data['CHANNEL_TYPE']=data['CHANNEL_TYPE'].replace('Regional / Local',5)\n",
    "data['CHANNEL_TYPE']=data['CHANNEL_TYPE'].replace('AP+ (Cash loan)',6)\n",
    "data['CHANNEL_TYPE']=data['CHANNEL_TYPE'].replace('Car dealer',7)\n",
    "data['CHANNEL_TYPE']=data['CHANNEL_TYPE'].replace('Channel of corporate sales',8)\n",
    "data['CHANNEL_TYPE'].head()"
   ]
  },
  {
   "cell_type": "code",
   "execution_count": 253,
   "metadata": {},
   "outputs": [
    {
     "data": {
      "text/plain": [
       "<AxesSubplot:xlabel='CHANNEL_TYPE'>"
      ]
     },
     "execution_count": 253,
     "metadata": {},
     "output_type": "execute_result"
    },
    {
     "data": {
      "image/png": "[encoded data removed]",
      "text/plain": [
       "<Figure size 432x288 with 1 Axes>"
      ]
     },
     "metadata": {
      "needs_background": "light"
     },
     "output_type": "display_data"
    }
   ],
   "source": [
    "# Visualizando nuestros datos.\n",
    "sns.boxplot(x=data['CHANNEL_TYPE'], saturation=.5, color='r')"
   ]
  },
  {
   "cell_type": "code",
   "execution_count": 254,
   "metadata": {},
   "outputs": [
    {
     "data": {
      "image/png": "[encoded data removed]",
      "text/plain": [
       "<Figure size 432x288 with 1 Axes>"
      ]
     },
     "metadata": {
      "needs_background": "light"
     },
     "output_type": "display_data"
    }
   ],
   "source": [
    "sns.histplot(data['CHANNEL_TYPE'], color='y', bins=8);"
   ]
  },
  {
   "cell_type": "markdown",
   "metadata": {},
   "source": [
    "### `Buscando la función de densidad que mejor se ajuste`."
   ]
  },
  {
   "cell_type": "code",
   "execution_count": 255,
   "metadata": {},
   "outputs": [],
   "source": [
    "from scipy.stats import nbinom, poisson, geom\n",
    "\n",
    "x = pd.Series(data['CHANNEL_TYPE'])\n",
    "mean = x.mean()\n",
    "var = x.var()\n",
    "likelihoods = {}  # we'll use it later"
   ]
  },
  {
   "cell_type": "code",
   "execution_count": 256,
   "metadata": {},
   "outputs": [
    {
     "name": "stdout",
     "output_type": "stream",
     "text": [
      "Best fit: nbinom\n",
      "Likelihood: 1.0\n"
     ]
    }
   ],
   "source": [
    "# binom params\n",
    "p = mean / var\n",
    "r = p * mean / (1-p)\n",
    "\n",
    "\n",
    "#Calculate likelihood:\n",
    "\n",
    "likelihoods['nbinom'] = x.map(lambda val: nbinom.pmf(val, r, p)).prod()\n",
    "#Same for Poisson, there is only one parameter:\n",
    "\n",
    "\n",
    "# mean = variance = lambda. Nothing to solve here\n",
    "lambda_ = mean\n",
    "likelihoods['poisson'] = x.map(lambda val: poisson.pmf(val, lambda_)).prod()\n",
    "#Same for Geometric distribution:\n",
    "\n",
    "# mean = 1 / p  # this form fits the scipy definition\n",
    "p = 1 / mean\n",
    "\n",
    "likelihoods['geometric'] = x.map(lambda val: geom.pmf(val, p)).prod()\n",
    "#Finally, let's get the best fit:\n",
    "\n",
    "best_fit = max(likelihoods, key=lambda x: likelihoods[x])\n",
    "print(\"Best fit:\", best_fit)\n",
    "print(\"Likelihood:\", likelihoods[best_fit])"
   ]
  },
  {
   "cell_type": "code",
   "execution_count": 258,
   "metadata": {},
   "outputs": [],
   "source": [
    "from distfit import distfit"
   ]
  },
  {
   "cell_type": "code",
   "execution_count": 263,
   "metadata": {},
   "outputs": [
    {
     "name": "stdout",
     "output_type": "stream",
     "text": [
      "[distfit] >fit..\n",
      "[distfit] >transform..\n",
      "[distfit] >Fit using binomial distribution..\n",
      "[distfit] >[binomial] [RSS=7.1e+07] [n=16] [p=0.317377] [chi^2=1.01e+07]\n",
      "[distfit] >Compute confidence interval [discrete]\n",
      "[distfit] >plot..\n"
     ]
    },
    {
     "data": {
      "text/plain": [
       "(<Figure size 720x576 with 2 Axes>,\n",
       " array([<AxesSubplot:title={'center':'\\nbinom\\nn=16, p=0.32'}, xlabel='k', ylabel='Counts'>,\n",
       "        <AxesSubplot:xlabel='n', ylabel='RSS'>], dtype=object))"
      ]
     },
     "execution_count": 263,
     "metadata": {},
     "output_type": "execute_result"
    },
    {
     "data": {
      "image/png": "[encoded data removed]",
      "text/plain": [
       "<Figure size 720x576 with 2 Axes>"
      ]
     },
     "metadata": {
      "needs_background": "light"
     },
     "output_type": "display_data"
    }
   ],
   "source": [
    "\n",
    "from scipy.stats.distributions import poisson\n",
    "# Initialize distfit for discrete distribution for which the binomial distribution is used. \n",
    "dist = distfit(method='discrete')\n",
    "\n",
    "# Run distfit to and determine whether we can find the parameters from the data.\n",
    "dist.fit_transform(data['CHANNEL_TYPE'])\n",
    "\n",
    "# [distfit] >fit..\n",
    "# [distfit] >transform..\n",
    "# [distfit] >Fit using binomial distribution..\n",
    "# [distfit] >[binomial] [SSE: 7.79] [n: 8] [p: 0.499959] [chi^2: 1.11]\n",
    "# [distfit] >Compute confidence interval [discrete]\n",
    "\n",
    "# Get the model and best fitted parameters.\n",
    "\n",
    "\n",
    "# {'distr': <scipy.stats._distn_infrastructure.rv_frozen at 0x1ff23e3beb0>,\n",
    "#  'params': (8, 0.4999585504197037),\n",
    "#  'name': 'binom',\n",
    "#  'SSE': 7.786589839641551,\n",
    "#  'chi2r': 1.1123699770916502,\n",
    "#  'n': 8,\n",
    "#  'p': 0.4999585504197037,\n",
    "#  'CII_min_alpha': 2.0,\n",
    "#  'CII_max_alpha': 6.0}\n",
    "\n",
    "# Best fitted n=8 and p=0.4999 which is great because the input was n=8 and p=0.5\n",
    "dist.model['n']\n",
    "dist.model['p']\n",
    "\n",
    "# Make plot\n",
    "dist.plot()"
   ]
  },
  {
   "cell_type": "code",
   "execution_count": 281,
   "metadata": {},
   "outputs": [
    {
     "ename": "TypeError",
     "evalue": "_parse_args() missing 2 required positional arguments: 'lambda_' and 'N'",
     "output_type": "error",
     "traceback": [
      "\u001b[1;31m---------------------------------------------------------------------------\u001b[0m",
      "\u001b[1;31mTypeError\u001b[0m                                 Traceback (most recent call last)",
      "\u001b[1;32m<ipython-input-281-c6b5598f13ed>\u001b[0m in \u001b[0;36m<module>\u001b[1;34m\u001b[0m\n\u001b[0;32m      8\u001b[0m \u001b[1;33m\u001b[0m\u001b[0m\n\u001b[0;32m      9\u001b[0m \u001b[1;32mfor\u001b[0m \u001b[0md\u001b[0m \u001b[1;32min\u001b[0m \u001b[0mdist\u001b[0m\u001b[1;33m:\u001b[0m\u001b[1;33m\u001b[0m\u001b[1;33m\u001b[0m\u001b[0m\n\u001b[1;32m---> 10\u001b[1;33m     \u001b[0mparams\u001b[0m \u001b[1;33m=\u001b[0m \u001b[0mgetattr\u001b[0m\u001b[1;33m(\u001b[0m\u001b[0mst\u001b[0m\u001b[1;33m,\u001b[0m\u001b[0md\u001b[0m\u001b[1;33m)\u001b[0m\u001b[1;33m.\u001b[0m\u001b[0mpmf\u001b[0m\u001b[1;33m(\u001b[0m\u001b[0mdata\u001b[0m\u001b[1;33m[\u001b[0m\u001b[1;34m'CHANNEL_TYPE'\u001b[0m\u001b[1;33m]\u001b[0m\u001b[1;33m)\u001b[0m\u001b[1;33m\u001b[0m\u001b[1;33m\u001b[0m\u001b[0m\n\u001b[0m\u001b[0;32m     11\u001b[0m     \u001b[0my_hat\u001b[0m \u001b[1;33m=\u001b[0m\u001b[0mgetattr\u001b[0m\u001b[1;33m(\u001b[0m\u001b[0mst\u001b[0m\u001b[1;33m,\u001b[0m\u001b[0md\u001b[0m\u001b[1;33m)\u001b[0m\u001b[1;33m(\u001b[0m\u001b[1;33m*\u001b[0m\u001b[0mparams\u001b[0m\u001b[1;33m)\u001b[0m\u001b[1;33m.\u001b[0m\u001b[0mpdf\u001b[0m\u001b[1;33m(\u001b[0m\u001b[0mdata\u001b[0m\u001b[1;33m[\u001b[0m\u001b[1;34m'CHANNEL_TYPE'\u001b[0m\u001b[1;33m]\u001b[0m\u001b[1;33m)\u001b[0m \u001b[1;31m#y estimada\u001b[0m\u001b[1;33m\u001b[0m\u001b[1;33m\u001b[0m\u001b[0m\n\u001b[0;32m     12\u001b[0m     \u001b[0merror\u001b[0m\u001b[1;33m.\u001b[0m\u001b[0mloc\u001b[0m\u001b[1;33m[\u001b[0m\u001b[0md\u001b[0m\u001b[1;33m]\u001b[0m \u001b[1;33m=\u001b[0m \u001b[1;33m(\u001b[0m\u001b[1;33m(\u001b[0m\u001b[0my\u001b[0m\u001b[1;33m-\u001b[0m\u001b[0my_hat\u001b[0m\u001b[1;33m)\u001b[0m\u001b[1;33m**\u001b[0m\u001b[1;36m2\u001b[0m\u001b[1;33m)\u001b[0m\u001b[1;33m.\u001b[0m\u001b[0mmean\u001b[0m\u001b[1;33m(\u001b[0m\u001b[1;33m)\u001b[0m \u001b[1;31m#error cuadrático medio\u001b[0m\u001b[1;33m\u001b[0m\u001b[1;33m\u001b[0m\u001b[0m\n",
      "\u001b[1;32m~\\anaconda3\\lib\\site-packages\\scipy\\stats\\_distn_infrastructure.py\u001b[0m in \u001b[0;36mpmf\u001b[1;34m(self, k, *args, **kwds)\u001b[0m\n\u001b[0;32m   3017\u001b[0m \u001b[1;33m\u001b[0m\u001b[0m\n\u001b[0;32m   3018\u001b[0m         \"\"\"\n\u001b[1;32m-> 3019\u001b[1;33m         \u001b[0margs\u001b[0m\u001b[1;33m,\u001b[0m \u001b[0mloc\u001b[0m\u001b[1;33m,\u001b[0m \u001b[0m_\u001b[0m \u001b[1;33m=\u001b[0m \u001b[0mself\u001b[0m\u001b[1;33m.\u001b[0m\u001b[0m_parse_args\u001b[0m\u001b[1;33m(\u001b[0m\u001b[1;33m*\u001b[0m\u001b[0margs\u001b[0m\u001b[1;33m,\u001b[0m \u001b[1;33m**\u001b[0m\u001b[0mkwds\u001b[0m\u001b[1;33m)\u001b[0m\u001b[1;33m\u001b[0m\u001b[1;33m\u001b[0m\u001b[0m\n\u001b[0m\u001b[0;32m   3020\u001b[0m         \u001b[0mk\u001b[0m\u001b[1;33m,\u001b[0m \u001b[0mloc\u001b[0m \u001b[1;33m=\u001b[0m \u001b[0mmap\u001b[0m\u001b[1;33m(\u001b[0m\u001b[0masarray\u001b[0m\u001b[1;33m,\u001b[0m \u001b[1;33m(\u001b[0m\u001b[0mk\u001b[0m\u001b[1;33m,\u001b[0m \u001b[0mloc\u001b[0m\u001b[1;33m)\u001b[0m\u001b[1;33m)\u001b[0m\u001b[1;33m\u001b[0m\u001b[1;33m\u001b[0m\u001b[0m\n\u001b[0;32m   3021\u001b[0m         \u001b[0margs\u001b[0m \u001b[1;33m=\u001b[0m \u001b[0mtuple\u001b[0m\u001b[1;33m(\u001b[0m\u001b[0mmap\u001b[0m\u001b[1;33m(\u001b[0m\u001b[0masarray\u001b[0m\u001b[1;33m,\u001b[0m \u001b[0margs\u001b[0m\u001b[1;33m)\u001b[0m\u001b[1;33m)\u001b[0m\u001b[1;33m\u001b[0m\u001b[1;33m\u001b[0m\u001b[0m\n",
      "\u001b[1;31mTypeError\u001b[0m: _parse_args() missing 2 required positional arguments: 'lambda_' and 'N'"
     ]
    }
   ],
   "source": [
    "dist = [d for d in dir(st) if isinstance(getattr(st,d),getattr(st,'rv_discrete'))]\n",
    "#dist #tenemos todas las distribuciones de probabilidad para va continua\n",
    "\n",
    "dist = dist[3:5] \n",
    "error = pd.DataFrame(index=dist, columns=['error'])\n",
    "\n",
    "#iterar en las distribuciones\n",
    "\n",
    "for d in dist:\n",
    "    params = getattr(st,d).pmf(data['CHANNEL_TYPE'])\n",
    "    y_hat =getattr(st,d)(*params).pdf(data['CHANNEL_TYPE']) #y estimada\n",
    "    error.loc[d] = ((y-y_hat)**2).mean() #error cuadrático medio\n",
    "   \n",
    "    \n"
   ]
  },
  {
   "cell_type": "code",
   "execution_count": 278,
   "metadata": {},
   "outputs": [
    {
     "name": "stdout",
     "output_type": "stream",
     "text": [
      "Help on betabinom_gen in module scipy.stats._discrete_distns object:\n",
      "\n",
      "class betabinom_gen(scipy.stats._distn_infrastructure.rv_discrete)\n",
      " |  betabinom_gen(a=0, b=inf, name=None, badvalue=None, moment_tol=1e-08, values=None, inc=1, longname=None, shapes=None, extradoc=None, seed=None)\n",
      " |  \n",
      " |  A beta-binomial discrete random variable.\n",
      " |  \n",
      " |  %(before_notes)s\n",
      " |  \n",
      " |  Notes\n",
      " |  -----\n",
      " |  The beta-binomial distribution is a binomial distribution with a\n",
      " |  probability of success `p` that follows a beta distribution.\n",
      " |  \n",
      " |  The probability mass function for `betabinom` is:\n",
      " |  \n",
      " |  .. math::\n",
      " |  \n",
      " |     f(k) = \\binom{n}{k} \\frac{B(k + a, n - k + b)}{B(a, b)}\n",
      " |  \n",
      " |  for ``k`` in ``{0, 1,..., n}``, :math:`n \\geq 0`, :math:`a > 0`,\n",
      " |  :math:`b > 0`, where :math:`B(a, b)` is the beta function.\n",
      " |  \n",
      " |  `betabinom` takes :math:`n`, :math:`a`, and :math:`b` as shape parameters.\n",
      " |  \n",
      " |  References\n",
      " |  ----------\n",
      " |  .. [1] https://en.wikipedia.org/wiki/Beta-binomial_distribution\n",
      " |  \n",
      " |  %(after_notes)s\n",
      " |  \n",
      " |  .. versionadded:: 1.4.0\n",
      " |  \n",
      " |  See Also\n",
      " |  --------\n",
      " |  beta, binom\n",
      " |  \n",
      " |  %(example)s\n",
      " |  \n",
      " |  Method resolution order:\n",
      " |      betabinom_gen\n",
      " |      scipy.stats._distn_infrastructure.rv_discrete\n",
      " |      scipy.stats._distn_infrastructure.rv_generic\n",
      " |      builtins.object\n",
      " |  \n",
      " |  Methods inherited from scipy.stats._distn_infrastructure.rv_discrete:\n",
      " |  \n",
      " |  __init__(self, a=0, b=inf, name=None, badvalue=None, moment_tol=1e-08, values=None, inc=1, longname=None, shapes=None, extradoc=None, seed=None)\n",
      " |      Initialize self.  See help(type(self)) for accurate signature.\n",
      " |  \n",
      " |  cdf(self, k, *args, **kwds)\n",
      " |      Cumulative distribution function of the given RV.\n",
      " |      \n",
      " |      Parameters\n",
      " |      ----------\n",
      " |      k : array_like, int\n",
      " |          Quantiles.\n",
      " |      arg1, arg2, arg3,... : array_like\n",
      " |          The shape parameter(s) for the distribution (see docstring of the\n",
      " |          instance object for more information).\n",
      " |      loc : array_like, optional\n",
      " |          Location parameter (default=0).\n",
      " |      \n",
      " |      Returns\n",
      " |      -------\n",
      " |      cdf : ndarray\n",
      " |          Cumulative distribution function evaluated at `k`.\n",
      " |  \n",
      " |  expect(self, func=None, args=(), loc=0, lb=None, ub=None, conditional=False, maxcount=1000, tolerance=1e-10, chunksize=32)\n",
      " |      Calculate expected value of a function with respect to the distribution\n",
      " |      for discrete distribution by numerical summation.\n",
      " |      \n",
      " |      Parameters\n",
      " |      ----------\n",
      " |      func : callable, optional\n",
      " |          Function for which the expectation value is calculated.\n",
      " |          Takes only one argument.\n",
      " |          The default is the identity mapping f(k) = k.\n",
      " |      args : tuple, optional\n",
      " |          Shape parameters of the distribution.\n",
      " |      loc : float, optional\n",
      " |          Location parameter.\n",
      " |          Default is 0.\n",
      " |      lb, ub : int, optional\n",
      " |          Lower and upper bound for the summation, default is set to the\n",
      " |          support of the distribution, inclusive (``ul <= k <= ub``).\n",
      " |      conditional : bool, optional\n",
      " |          If true then the expectation is corrected by the conditional\n",
      " |          probability of the summation interval. The return value is the\n",
      " |          expectation of the function, `func`, conditional on being in\n",
      " |          the given interval (k such that ``ul <= k <= ub``).\n",
      " |          Default is False.\n",
      " |      maxcount : int, optional\n",
      " |          Maximal number of terms to evaluate (to avoid an endless loop for\n",
      " |          an infinite sum). Default is 1000.\n",
      " |      tolerance : float, optional\n",
      " |          Absolute tolerance for the summation. Default is 1e-10.\n",
      " |      chunksize : int, optional\n",
      " |          Iterate over the support of a distributions in chunks of this size.\n",
      " |          Default is 32.\n",
      " |      \n",
      " |      Returns\n",
      " |      -------\n",
      " |      expect : float\n",
      " |          Expected value.\n",
      " |      \n",
      " |      Notes\n",
      " |      -----\n",
      " |      For heavy-tailed distributions, the expected value may or may not exist,\n",
      " |      depending on the function, `func`. If it does exist, but the sum converges\n",
      " |      slowly, the accuracy of the result may be rather low. For instance, for\n",
      " |      ``zipf(4)``, accuracy for mean, variance in example is only 1e-5.\n",
      " |      increasing `maxcount` and/or `chunksize` may improve the result, but may\n",
      " |      also make zipf very slow.\n",
      " |      \n",
      " |      The function is not vectorized.\n",
      " |  \n",
      " |  isf(self, q, *args, **kwds)\n",
      " |      Inverse survival function (inverse of `sf`) at q of the given RV.\n",
      " |      \n",
      " |      Parameters\n",
      " |      ----------\n",
      " |      q : array_like\n",
      " |          Upper tail probability.\n",
      " |      arg1, arg2, arg3,... : array_like\n",
      " |          The shape parameter(s) for the distribution (see docstring of the\n",
      " |          instance object for more information).\n",
      " |      loc : array_like, optional\n",
      " |          Location parameter (default=0).\n",
      " |      \n",
      " |      Returns\n",
      " |      -------\n",
      " |      k : ndarray or scalar\n",
      " |          Quantile corresponding to the upper tail probability, q.\n",
      " |  \n",
      " |  logcdf(self, k, *args, **kwds)\n",
      " |      Log of the cumulative distribution function at k of the given RV.\n",
      " |      \n",
      " |      Parameters\n",
      " |      ----------\n",
      " |      k : array_like, int\n",
      " |          Quantiles.\n",
      " |      arg1, arg2, arg3,... : array_like\n",
      " |          The shape parameter(s) for the distribution (see docstring of the\n",
      " |          instance object for more information).\n",
      " |      loc : array_like, optional\n",
      " |          Location parameter (default=0).\n",
      " |      \n",
      " |      Returns\n",
      " |      -------\n",
      " |      logcdf : array_like\n",
      " |          Log of the cumulative distribution function evaluated at k.\n",
      " |  \n",
      " |  logpmf(self, k, *args, **kwds)\n",
      " |      Log of the probability mass function at k of the given RV.\n",
      " |      \n",
      " |      Parameters\n",
      " |      ----------\n",
      " |      k : array_like\n",
      " |          Quantiles.\n",
      " |      arg1, arg2, arg3,... : array_like\n",
      " |          The shape parameter(s) for the distribution (see docstring of the\n",
      " |          instance object for more information).\n",
      " |      loc : array_like, optional\n",
      " |          Location parameter. Default is 0.\n",
      " |      \n",
      " |      Returns\n",
      " |      -------\n",
      " |      logpmf : array_like\n",
      " |          Log of the probability mass function evaluated at k.\n",
      " |  \n",
      " |  logsf(self, k, *args, **kwds)\n",
      " |      Log of the survival function of the given RV.\n",
      " |      \n",
      " |      Returns the log of the \"survival function,\" defined as 1 - `cdf`,\n",
      " |      evaluated at `k`.\n",
      " |      \n",
      " |      Parameters\n",
      " |      ----------\n",
      " |      k : array_like\n",
      " |          Quantiles.\n",
      " |      arg1, arg2, arg3,... : array_like\n",
      " |          The shape parameter(s) for the distribution (see docstring of the\n",
      " |          instance object for more information).\n",
      " |      loc : array_like, optional\n",
      " |          Location parameter (default=0).\n",
      " |      \n",
      " |      Returns\n",
      " |      -------\n",
      " |      logsf : ndarray\n",
      " |          Log of the survival function evaluated at `k`.\n",
      " |  \n",
      " |  pmf(self, k, *args, **kwds)\n",
      " |      Probability mass function at k of the given RV.\n",
      " |      \n",
      " |      Parameters\n",
      " |      ----------\n",
      " |      k : array_like\n",
      " |          Quantiles.\n",
      " |      arg1, arg2, arg3,... : array_like\n",
      " |          The shape parameter(s) for the distribution (see docstring of the\n",
      " |          instance object for more information)\n",
      " |      loc : array_like, optional\n",
      " |          Location parameter (default=0).\n",
      " |      \n",
      " |      Returns\n",
      " |      -------\n",
      " |      pmf : array_like\n",
      " |          Probability mass function evaluated at k\n",
      " |  \n",
      " |  ppf(self, q, *args, **kwds)\n",
      " |      Percent point function (inverse of `cdf`) at q of the given RV.\n",
      " |      \n",
      " |      Parameters\n",
      " |      ----------\n",
      " |      q : array_like\n",
      " |          Lower tail probability.\n",
      " |      arg1, arg2, arg3,... : array_like\n",
      " |          The shape parameter(s) for the distribution (see docstring of the\n",
      " |          instance object for more information).\n",
      " |      loc : array_like, optional\n",
      " |          Location parameter (default=0).\n",
      " |      \n",
      " |      Returns\n",
      " |      -------\n",
      " |      k : array_like\n",
      " |          Quantile corresponding to the lower tail probability, q.\n",
      " |  \n",
      " |  rvs(self, *args, **kwargs)\n",
      " |      Random variates of given type.\n",
      " |      \n",
      " |      Parameters\n",
      " |      ----------\n",
      " |      arg1, arg2, arg3,... : array_like\n",
      " |          The shape parameter(s) for the distribution (see docstring of the\n",
      " |          instance object for more information).\n",
      " |      loc : array_like, optional\n",
      " |          Location parameter (default=0).\n",
      " |      size : int or tuple of ints, optional\n",
      " |          Defining number of random variates (Default is 1).  Note that `size`\n",
      " |          has to be given as keyword, not as positional argument.\n",
      " |      random_state : {None, int, `~np.random.RandomState`, `~np.random.Generator`}, optional\n",
      " |          This parameter defines the object to use for drawing random\n",
      " |          variates.\n",
      " |          If `random_state` is `None` the `~np.random.RandomState` singleton\n",
      " |          is used.\n",
      " |          If `random_state` is an int, a new ``RandomState`` instance is used,\n",
      " |          seeded with random_state.\n",
      " |          If `random_state` is already a ``RandomState`` or ``Generator``\n",
      " |          instance, then that object is used.\n",
      " |          Default is None.\n",
      " |      \n",
      " |      Returns\n",
      " |      -------\n",
      " |      rvs : ndarray or scalar\n",
      " |          Random variates of given `size`.\n",
      " |  \n",
      " |  sf(self, k, *args, **kwds)\n",
      " |      Survival function (1 - `cdf`) at k of the given RV.\n",
      " |      \n",
      " |      Parameters\n",
      " |      ----------\n",
      " |      k : array_like\n",
      " |          Quantiles.\n",
      " |      arg1, arg2, arg3,... : array_like\n",
      " |          The shape parameter(s) for the distribution (see docstring of the\n",
      " |          instance object for more information).\n",
      " |      loc : array_like, optional\n",
      " |          Location parameter (default=0).\n",
      " |      \n",
      " |      Returns\n",
      " |      -------\n",
      " |      sf : array_like\n",
      " |          Survival function evaluated at k.\n",
      " |  \n",
      " |  ----------------------------------------------------------------------\n",
      " |  Static methods inherited from scipy.stats._distn_infrastructure.rv_discrete:\n",
      " |  \n",
      " |  __new__(cls, a=0, b=inf, name=None, badvalue=None, moment_tol=1e-08, values=None, inc=1, longname=None, shapes=None, extradoc=None, seed=None)\n",
      " |      Create and return a new object.  See help(type) for accurate signature.\n",
      " |  \n",
      " |  ----------------------------------------------------------------------\n",
      " |  Methods inherited from scipy.stats._distn_infrastructure.rv_generic:\n",
      " |  \n",
      " |  __call__(self, *args, **kwds)\n",
      " |      Freeze the distribution for the given arguments.\n",
      " |      \n",
      " |      Parameters\n",
      " |      ----------\n",
      " |      arg1, arg2, arg3,... : array_like\n",
      " |          The shape parameter(s) for the distribution.  Should include all\n",
      " |          the non-optional arguments, may include ``loc`` and ``scale``.\n",
      " |      \n",
      " |      Returns\n",
      " |      -------\n",
      " |      rv_frozen : rv_frozen instance\n",
      " |          The frozen distribution.\n",
      " |  \n",
      " |  __getstate__(self)\n",
      " |  \n",
      " |  __setstate__(self, state)\n",
      " |  \n",
      " |  entropy(self, *args, **kwds)\n",
      " |      Differential entropy of the RV.\n",
      " |      \n",
      " |      Parameters\n",
      " |      ----------\n",
      " |      arg1, arg2, arg3,... : array_like\n",
      " |          The shape parameter(s) for the distribution (see docstring of the\n",
      " |          instance object for more information).\n",
      " |      loc : array_like, optional\n",
      " |          Location parameter (default=0).\n",
      " |      scale : array_like, optional  (continuous distributions only).\n",
      " |          Scale parameter (default=1).\n",
      " |      \n",
      " |      Notes\n",
      " |      -----\n",
      " |      Entropy is defined base `e`:\n",
      " |      \n",
      " |      >>> drv = rv_discrete(values=((0, 1), (0.5, 0.5)))\n",
      " |      >>> np.allclose(drv.entropy(), np.log(2.0))\n",
      " |      True\n",
      " |  \n",
      " |  freeze(self, *args, **kwds)\n",
      " |      Freeze the distribution for the given arguments.\n",
      " |      \n",
      " |      Parameters\n",
      " |      ----------\n",
      " |      arg1, arg2, arg3,... : array_like\n",
      " |          The shape parameter(s) for the distribution.  Should include all\n",
      " |          the non-optional arguments, may include ``loc`` and ``scale``.\n",
      " |      \n",
      " |      Returns\n",
      " |      -------\n",
      " |      rv_frozen : rv_frozen instance\n",
      " |          The frozen distribution.\n",
      " |  \n",
      " |  interval(self, alpha, *args, **kwds)\n",
      " |      Confidence interval with equal areas around the median.\n",
      " |      \n",
      " |      Parameters\n",
      " |      ----------\n",
      " |      alpha : array_like of float\n",
      " |          Probability that an rv will be drawn from the returned range.\n",
      " |          Each value should be in the range [0, 1].\n",
      " |      arg1, arg2, ... : array_like\n",
      " |          The shape parameter(s) for the distribution (see docstring of the\n",
      " |          instance object for more information).\n",
      " |      loc : array_like, optional\n",
      " |          location parameter, Default is 0.\n",
      " |      scale : array_like, optional\n",
      " |          scale parameter, Default is 1.\n",
      " |      \n",
      " |      Returns\n",
      " |      -------\n",
      " |      a, b : ndarray of float\n",
      " |          end-points of range that contain ``100 * alpha %`` of the rv's\n",
      " |          possible values.\n",
      " |  \n",
      " |  mean(self, *args, **kwds)\n",
      " |      Mean of the distribution.\n",
      " |      \n",
      " |      Parameters\n",
      " |      ----------\n",
      " |      arg1, arg2, arg3,... : array_like\n",
      " |          The shape parameter(s) for the distribution (see docstring of the\n",
      " |          instance object for more information)\n",
      " |      loc : array_like, optional\n",
      " |          location parameter (default=0)\n",
      " |      scale : array_like, optional\n",
      " |          scale parameter (default=1)\n",
      " |      \n",
      " |      Returns\n",
      " |      -------\n",
      " |      mean : float\n",
      " |          the mean of the distribution\n",
      " |  \n",
      " |  median(self, *args, **kwds)\n",
      " |      Median of the distribution.\n",
      " |      \n",
      " |      Parameters\n",
      " |      ----------\n",
      " |      arg1, arg2, arg3,... : array_like\n",
      " |          The shape parameter(s) for the distribution (see docstring of the\n",
      " |          instance object for more information)\n",
      " |      loc : array_like, optional\n",
      " |          Location parameter, Default is 0.\n",
      " |      scale : array_like, optional\n",
      " |          Scale parameter, Default is 1.\n",
      " |      \n",
      " |      Returns\n",
      " |      -------\n",
      " |      median : float\n",
      " |          The median of the distribution.\n",
      " |      \n",
      " |      See Also\n",
      " |      --------\n",
      " |      rv_discrete.ppf\n",
      " |          Inverse of the CDF\n",
      " |  \n",
      " |  moment(self, n, *args, **kwds)\n",
      " |      n-th order non-central moment of distribution.\n",
      " |      \n",
      " |      Parameters\n",
      " |      ----------\n",
      " |      n : int, n >= 1\n",
      " |          Order of moment.\n",
      " |      arg1, arg2, arg3,... : float\n",
      " |          The shape parameter(s) for the distribution (see docstring of the\n",
      " |          instance object for more information).\n",
      " |      loc : array_like, optional\n",
      " |          location parameter (default=0)\n",
      " |      scale : array_like, optional\n",
      " |          scale parameter (default=1)\n",
      " |  \n",
      " |  stats(self, *args, **kwds)\n",
      " |      Some statistics of the given RV.\n",
      " |      \n",
      " |      Parameters\n",
      " |      ----------\n",
      " |      arg1, arg2, arg3,... : array_like\n",
      " |          The shape parameter(s) for the distribution (see docstring of the\n",
      " |          instance object for more information)\n",
      " |      loc : array_like, optional\n",
      " |          location parameter (default=0)\n",
      " |      scale : array_like, optional (continuous RVs only)\n",
      " |          scale parameter (default=1)\n",
      " |      moments : str, optional\n",
      " |          composed of letters ['mvsk'] defining which moments to compute:\n",
      " |          'm' = mean,\n",
      " |          'v' = variance,\n",
      " |          's' = (Fisher's) skew,\n",
      " |          'k' = (Fisher's) kurtosis.\n",
      " |          (default is 'mv')\n",
      " |      \n",
      " |      Returns\n",
      " |      -------\n",
      " |      stats : sequence\n",
      " |          of requested moments.\n",
      " |  \n",
      " |  std(self, *args, **kwds)\n",
      " |      Standard deviation of the distribution.\n",
      " |      \n",
      " |      Parameters\n",
      " |      ----------\n",
      " |      arg1, arg2, arg3,... : array_like\n",
      " |          The shape parameter(s) for the distribution (see docstring of the\n",
      " |          instance object for more information)\n",
      " |      loc : array_like, optional\n",
      " |          location parameter (default=0)\n",
      " |      scale : array_like, optional\n",
      " |          scale parameter (default=1)\n",
      " |      \n",
      " |      Returns\n",
      " |      -------\n",
      " |      std : float\n",
      " |          standard deviation of the distribution\n",
      " |  \n",
      " |  support(self, *args, **kwargs)\n",
      " |      Return the support of the distribution.\n",
      " |      \n",
      " |      Parameters\n",
      " |      ----------\n",
      " |      arg1, arg2, ... : array_like\n",
      " |          The shape parameter(s) for the distribution (see docstring of the\n",
      " |          instance object for more information).\n",
      " |      loc : array_like, optional\n",
      " |          location parameter, Default is 0.\n",
      " |      scale : array_like, optional\n",
      " |          scale parameter, Default is 1.\n",
      " |      Returns\n",
      " |      -------\n",
      " |      a, b : float\n",
      " |          end-points of the distribution's support.\n",
      " |  \n",
      " |  var(self, *args, **kwds)\n",
      " |      Variance of the distribution.\n",
      " |      \n",
      " |      Parameters\n",
      " |      ----------\n",
      " |      arg1, arg2, arg3,... : array_like\n",
      " |          The shape parameter(s) for the distribution (see docstring of the\n",
      " |          instance object for more information)\n",
      " |      loc : array_like, optional\n",
      " |          location parameter (default=0)\n",
      " |      scale : array_like, optional\n",
      " |          scale parameter (default=1)\n",
      " |      \n",
      " |      Returns\n",
      " |      -------\n",
      " |      var : float\n",
      " |          the variance of the distribution\n",
      " |  \n",
      " |  ----------------------------------------------------------------------\n",
      " |  Data descriptors inherited from scipy.stats._distn_infrastructure.rv_generic:\n",
      " |  \n",
      " |  __dict__\n",
      " |      dictionary for instance variables (if defined)\n",
      " |  \n",
      " |  __weakref__\n",
      " |      list of weak references to the object (if defined)\n",
      " |  \n",
      " |  random_state\n",
      " |      Get or set the RandomState object for generating random variates.\n",
      " |      \n",
      " |      This can be either None, int, a RandomState instance, or a\n",
      " |      np.random.Generator instance.\n",
      " |      \n",
      " |      If None (or np.random), use the RandomState singleton used by np.random.\n",
      " |      If already a RandomState or Generator instance, use it.\n",
      " |      If an int, use a new RandomState instance seeded with seed.\n",
      "\n"
     ]
    }
   ],
   "source": [
    "help(st.betabinom)"
   ]
  },
  {
   "cell_type": "code",
   "execution_count": 266,
   "metadata": {},
   "outputs": [
    {
     "data": {
      "text/plain": [
       "array([], dtype=object)"
      ]
     },
     "execution_count": 266,
     "metadata": {},
     "output_type": "execute_result"
    }
   ],
   "source": [
    "best=error.sort_values(by='error').head(3).index.values\n",
    "best"
   ]
  },
  {
   "cell_type": "markdown",
   "metadata": {},
   "source": [
    "### `Aceptación y Rechazo`."
   ]
  },
  {
   "cell_type": "code",
   "execution_count": null,
   "metadata": {},
   "outputs": [],
   "source": []
  },
  {
   "cell_type": "code",
   "execution_count": null,
   "metadata": {},
   "outputs": [],
   "source": []
  },
  {
   "cell_type": "markdown",
   "metadata": {},
   "source": [
    "### `Simulación`."
   ]
  },
  {
   "cell_type": "code",
   "execution_count": null,
   "metadata": {},
   "outputs": [],
   "source": []
  },
  {
   "cell_type": "code",
   "execution_count": null,
   "metadata": {},
   "outputs": [],
   "source": []
  },
  {
   "cell_type": "markdown",
   "metadata": {},
   "source": [
    "## `Nodo: Monto solicitado`."
   ]
  },
  {
   "cell_type": "markdown",
   "metadata": {},
   "source": [
    "### `Kernel Density Estimation`."
   ]
  },
  {
   "cell_type": "code",
   "execution_count": null,
   "metadata": {},
   "outputs": [],
   "source": [
    "# Visualizando nuestros datos.\n",
    "sns.boxplot(x=data['AMT_APPLICATION'], saturation=.5, color='r')"
   ]
  },
  {
   "cell_type": "markdown",
   "metadata": {},
   "source": [
    "Observamos que existen valores atipicos que excenden el rango intercuartilico en el boxplot, por lo tanto optaremos por utilizar una escala logaritmica que nos permita trabajar escalar los datos que pueden ser extremos."
   ]
  },
  {
   "cell_type": "code",
   "execution_count": null,
   "metadata": {},
   "outputs": [],
   "source": [
    "# Transformamos el monto de aplicación a una escala logaritmica.\n",
    "data_log = np.log(data['AMT_APPLICATION'])\n",
    "sns.boxplot(x=data_log, saturation=.5, color='r')"
   ]
  },
  {
   "cell_type": "markdown",
   "metadata": {},
   "source": [
    "Con la escala logaritmica, si bien aún existen valores que exceden el rango intercuartilico, ya son menos. Además de manera visual podemos observar de mejor manera la distribución de nuestros datos."
   ]
  },
  {
   "cell_type": "code",
   "execution_count": null,
   "metadata": {},
   "outputs": [],
   "source": [
    "# Propiedades estadísticas de los datos en escala logarítmica.\n",
    "data_log.describe()"
   ]
  },
  {
   "cell_type": "code",
   "execution_count": null,
   "metadata": {},
   "outputs": [],
   "source": [
    "# Visualizamos los datos en un histograma\n",
    "sns.histplot(data_log, color='y', bins=10);"
   ]
  },
  {
   "cell_type": "markdown",
   "metadata": {},
   "source": [
    "Ahora, podemos observar que los datos en escala logaritmica parecen seguir una distribución más pareja, de hecho pareciera aproximarse al comportamiento de una normal."
   ]
  },
  {
   "cell_type": "markdown",
   "metadata": {},
   "source": [
    "Ya con nuestros datos preparados, proseguimos a buscar un **KDE**."
   ]
  },
  {
   "cell_type": "code",
   "execution_count": null,
   "metadata": {},
   "outputs": [],
   "source": [
    "# Trabajaremos con un kernel univariado.\n",
    "# Límites donde nosotros queremos graficar nuestra distribución.\n",
    "x_grid = np.linspace(9,15,1000) \n",
    "\n",
    "# Datos de prueba, tomaremos 10,000.\n",
    "x = data_log.sample(n=10000, random_state=1)\n",
    "\n",
    "# Datos reales. Muestra completa\n",
    "pdf_true = data_log"
   ]
  },
  {
   "cell_type": "code",
   "execution_count": null,
   "metadata": {},
   "outputs": [],
   "source": [
    "# Definimos función. Regresa la evaluación de la pdf.\n",
    "def kde_statsmodels_u(x, x_grid, **kwargs):\n",
    "    \"\"\"Univariate Kernel Density Estimation with Statsmodels\"\"\"\n",
    "    kde = KDEUnivariate(x)\n",
    "    kde.fit(bw='normal_reference', **kwargs)\n",
    "    return kde.evaluate(x_grid)"
   ]
  },
  {
   "cell_type": "code",
   "execution_count": null,
   "metadata": {},
   "outputs": [],
   "source": [
    "# Graficamos la distribución junto con la estimación.\n",
    "plt.plot(x_grid,kde_statsmodels_u(x, x_grid))\n",
    "plt.hist(x,bins=20,density=True)\n",
    "plt.title('KDE univariate')\n",
    "plt.show()"
   ]
  },
  {
   "cell_type": "markdown",
   "metadata": {},
   "source": [
    "De la anterior gráfica podemos observar que nuestro **KDE** parece definir de una buena manera la función de distribución de probabilidad real de nuestros datos, por lo tanto, tomaremos el _Kernel Univariado_ como el estimador para nuestra función a simular."
   ]
  },
  {
   "cell_type": "code",
   "execution_count": null,
   "metadata": {},
   "outputs": [],
   "source": [
    "# Definimos la función de distribución de probabilidad a partir del KDEUnivariate.\n",
    "kde_univariate = KDEUnivariate(x)\n",
    "kde_univariate.fit(bw='normal_reference')\n",
    "f_uni_kde = lambda x: kde_univariate.evaluate(x)\n",
    "\n",
    "# Graficamos la función.\n",
    "plt.plot(x_grid, f_uni_kde(x_grid))\n",
    "plt.title('PDF data');"
   ]
  },
  {
   "cell_type": "markdown",
   "metadata": {},
   "source": [
    "Ya con nuestra función de distribución de probabilidad definida (**PDF**), ahora lo que haremos será generar variables aleatorias que distribuyan como nuestra **PDF**. Para lograr esto, lo haremos a partir del **método de aceptación y rechazo**."
   ]
  },
  {
   "cell_type": "markdown",
   "metadata": {},
   "source": [
    "### `Aceptación y Rechazo`."
   ]
  },
  {
   "cell_type": "code",
   "execution_count": null,
   "metadata": {},
   "outputs": [],
   "source": [
    "# Cargamos las funciones del método de aceptación y rechazo.\n",
    "# Esta función gráfica la situación en el método.\n",
    "def plot_acep_rechazo(R2:'Variables distruidas U~U(0,1)',\n",
    "                      R1:'Variables distribuidas como g(x)',\n",
    "                      f:'función objetivo a generar',\n",
    "                      t:'función que mayora a f'):\n",
    "    \n",
    "    # Definimos f y t evaluadas en nuestra variables aleatorias con distribución g(x)\n",
    "    f_x = f(R1)\n",
    "    t_x = t(R1)\n",
    "    condition = R2 * t_x <= f_x\n",
    "    \n",
    "    # Gráfica de los puntos aceptados y los puntos rechazados.\n",
    "    [plt.plot(R1[i],R2[i]*t_x[i],'ob') if condition[i] else plt.plot(R1[i],R2[i]*t_x[i],'o') \\\n",
    "         for i in range(len(R1))] \n",
    "    plt.show()\n",
    "\n",
    "# Esta función regresa los valores aceptados.\n",
    "def values_acep_rechazo(R2:'Variables distruidas U~U(0,1)',\n",
    "                        R1:'Variables distribuidas como g(x)',\n",
    "                        f:'función objetivo a generar',\n",
    "                        t:'función que mayora a f'):\n",
    "    \n",
    "    # Definimos f y t evaluadas en nuestra variables aleatorias con distribución g(x)\n",
    "    f_x = f(R1)\n",
    "    t_x = t(R1)\n",
    "    condition = R2 * t_x <= f_x\n",
    "    \n",
    "    # Almacenamos en un vector los valores aceptados\n",
    "    values = [R1[i] for i in range(len(R1)) if condition[i]]\n",
    "    return values"
   ]
  },
  {
   "cell_type": "markdown",
   "metadata": {},
   "source": [
    "Para trabajar con el **método de aceptación y rechazo** en está ocasión como función $t(x)$ que mayora a nuestra $f(x)$ definiremos una constante, la cuál estará representada por el valor máximo de nuestra **PDF**."
   ]
  },
  {
   "cell_type": "code",
   "execution_count": null,
   "metadata": {},
   "outputs": [],
   "source": [
    "# Definimos el máximo de la función de distribución de probabilidad.\n",
    "max_f = max(f_uni_kde(x_grid))\n",
    "print('El máximo de nuestra f(x) es:',max_f)\n",
    "\n",
    "# Transformamos el máximo en una función constante definida en el dominio de nuestra PDF.\n",
    "t = lambda x: max_f * np.ones([len(x)])\n",
    "\n",
    "# Gráficamos nuestra PDF junto con la función que la mayora.\n",
    "plt.plot(x_grid, f_uni_kde(x_grid), label='f(x)')\n",
    "plt.plot(x_grid, t(x_grid), label='t(x)')\n",
    "plt.title('$t(x) \\geq f(x)$')\n",
    "plt.legend();"
   ]
  },
  {
   "cell_type": "markdown",
   "metadata": {},
   "source": [
    "Ya con $t(x)$ definida podemos comenzar a generar variables aleatorias que distribuyan como nuestra **PDF**."
   ]
  },
  {
   "cell_type": "code",
   "execution_count": null,
   "metadata": {},
   "outputs": [],
   "source": [
    "# Definimos parámetros. Utilizaremos una muestra de 5,000.\n",
    "N = 5000 \n",
    "R1 = np.random.rand(N)\n",
    "R2 = np.random.uniform(9,15,size=N)\n",
    "\n",
    "# Gráfica de puntos aceptados y rechazados.\n",
    "plt.figure(figsize=[14,8])\n",
    "plt.plot(x_grid, f_uni_kde(x_grid), c='k')\n",
    "plt.plot(x_grid, t(x_grid), c='y')\n",
    "plt.title('Puntos generados')\n",
    "plot_acep_rechazo(R1, R2, f_uni_kde, t)"
   ]
  },
  {
   "cell_type": "markdown",
   "metadata": {},
   "source": [
    "Ahora con la visualización gráfica de lo sucedido, ahora definiremos el porcentaje de puntos que son aceptados con los parámetros descritos."
   ]
  },
  {
   "cell_type": "code",
   "execution_count": null,
   "metadata": {},
   "outputs": [],
   "source": [
    "# Definimos los valores aceptados.\n",
    "valores_aceptados = values_acep_rechazo(R1, R2, f_uni_kde, t)\n",
    "p_valores = len(valores_aceptados) / N\n",
    "\n",
    "# Este valor lo tenemos que dar en un intervalo de confianza.\n",
    "print(f'Al definir una función constante como el máximo de la función de densidad encontrada aceptamos el: {p_valores*100}% de los puntos')"
   ]
  },
  {
   "cell_type": "code",
   "execution_count": null,
   "metadata": {
    "scrolled": true
   },
   "outputs": [],
   "source": [
    "media = np.mean(data_log)\n",
    "sd = np.std(data_log)\n",
    "normal = lambda x: (-1/20) * (x-12)**2 + 0.45\n",
    "plt.plot(x_grid, normal(x_grid))\n",
    "plt.plot(x_grid, f_uni_kde(x_grid))"
   ]
  },
  {
   "cell_type": "code",
   "execution_count": null,
   "metadata": {},
   "outputs": [],
   "source": [
    "N = 1000\n",
    "R1 = np.random.rand(N)\n",
    "R2 = np.random.uniform(9,15,size=N)\n",
    "plt.plot(x_grid, f_uni_kde(x_grid))\n",
    "plot_acep_rechazo(R1, R2, f_uni_kde, t)"
   ]
  },
  {
   "cell_type": "code",
   "execution_count": null,
   "metadata": {
    "scrolled": true
   },
   "outputs": [],
   "source": [
    "def aleatorias(N):\n",
    "    return (np.random.uniform(9,22,N) + 9 + (1/6)) / 2.1296\n",
    "\n",
    "t2 = lambda x: -(1/20) * (x-12)**2 + 0.45\n",
    "\n",
    "R22 = aleatorias(N)\n",
    "plt.plot(x_grid, f_uni_kde(x_grid))\n",
    "plt.plot(x_grid, normal(x_grid))\n",
    "plot_acep_rechazo(R1, R22, f_uni_kde, t2)"
   ]
  },
  {
   "cell_type": "code",
   "execution_count": null,
   "metadata": {},
   "outputs": [],
   "source": [
    "max((np.random.uniform(9,15,100000) + 9 + (1/6)) / 2.1296)"
   ]
  },
  {
   "cell_type": "markdown",
   "metadata": {},
   "source": [
    "### `Simulación`."
   ]
  },
  {
   "cell_type": "code",
   "execution_count": null,
   "metadata": {},
   "outputs": [],
   "source": [
    "sim = (values_acep_rechazo(R1,R2,f_uni_kde,t))"
   ]
  },
  {
   "cell_type": "code",
   "execution_count": null,
   "metadata": {},
   "outputs": [],
   "source": [
    "plt.hist(sim);"
   ]
  },
  {
   "cell_type": "code",
   "execution_count": null,
   "metadata": {},
   "outputs": [],
   "source": [
    "print(f'Al definir una función constante como el máximo de la función de densidad encontrada aceptamos del: {len(sim)/N * 100}%')"
   ]
  },
  {
   "cell_type": "markdown",
   "metadata": {},
   "source": [
    "## Media real"
   ]
  },
  {
   "cell_type": "code",
   "execution_count": null,
   "metadata": {},
   "outputs": [],
   "source": [
    "print('La media real de nuestros datos es:',data_log.mean())"
   ]
  },
  {
   "cell_type": "markdown",
   "metadata": {},
   "source": [
    "### Aproximación a la media real por medio de montecarlo"
   ]
  },
  {
   "cell_type": "code",
   "execution_count": null,
   "metadata": {},
   "outputs": [],
   "source": [
    "print('La media utilizando montecarlo con 10,000 datos simulados es de:',np.mean(sim))"
   ]
  },
  {
   "cell_type": "markdown",
   "metadata": {},
   "source": [
    "## Utilizando un método de reducción de Varianza"
   ]
  },
  {
   "cell_type": "markdown",
   "metadata": {},
   "source": [
    "### Aproximación utilizando Muestreo Estratificado"
   ]
  },
  {
   "cell_type": "code",
   "execution_count": null,
   "metadata": {},
   "outputs": [],
   "source": [
    "# Método muestreo estratificado (B estratos)\n",
    "import statsmodels.api as sm\n",
    "inv = lambda x: kde_univariate.icdf(x)\n",
    "\n",
    "N= 10000\n",
    "B = N #estratos\n",
    "u2 = np.random.rand(N) #otros aleatoreos\n",
    "i = np.arange(0,B)\n",
    "m_estratificado = inv((u2+i)/B)\n"
   ]
  },
  {
   "cell_type": "code",
   "execution_count": null,
   "metadata": {},
   "outputs": [],
   "source": [
    "plt.hist(sim)\n",
    "plt.title('Monte carlo std')\n",
    "plt.show()\n",
    "\n",
    "plt.hist(m_estratificado)\n",
    "plt.title('Muestreo Estratificado')\n",
    "plt.show()"
   ]
  },
  {
   "cell_type": "code",
   "execution_count": null,
   "metadata": {},
   "outputs": [],
   "source": []
  },
  {
   "cell_type": "code",
   "execution_count": null,
   "metadata": {},
   "outputs": [],
   "source": [
    "X = 1\n",
    "def sim_app(X,R1,R2,f_uni_kde,t):\n",
    "    \n",
    "  \n",
    "    vec = np.zeros(X)\n",
    "    sim = values_acep_rechazo(R1,R2,f_uni_kde,t)\n",
    "\n",
    "    new= [f_uni_kde(i) for i in  sim]\n",
    "    new_2 = \n",
    "    return new\n",
    "    "
   ]
  },
  {
   "cell_type": "markdown",
   "metadata": {},
   "source": [
    "## `Nodo: Monto aprobado`."
   ]
  },
  {
   "cell_type": "code",
   "execution_count": null,
   "metadata": {},
   "outputs": [],
   "source": []
  },
  {
   "cell_type": "markdown",
   "metadata": {},
   "source": [
    "### `Kernel Density Estimation`."
   ]
  },
  {
   "cell_type": "code",
   "execution_count": null,
   "metadata": {},
   "outputs": [],
   "source": []
  },
  {
   "cell_type": "code",
   "execution_count": null,
   "metadata": {},
   "outputs": [],
   "source": []
  },
  {
   "cell_type": "markdown",
   "metadata": {},
   "source": [
    "### `Aceptación y Rechazo`."
   ]
  },
  {
   "cell_type": "code",
   "execution_count": null,
   "metadata": {},
   "outputs": [],
   "source": []
  },
  {
   "cell_type": "code",
   "execution_count": null,
   "metadata": {},
   "outputs": [],
   "source": []
  },
  {
   "cell_type": "markdown",
   "metadata": {},
   "source": [
    "### `Simulación`."
   ]
  },
  {
   "cell_type": "code",
   "execution_count": null,
   "metadata": {},
   "outputs": [],
   "source": []
  },
  {
   "cell_type": "code",
   "execution_count": null,
   "metadata": {},
   "outputs": [],
   "source": []
  },
  {
   "cell_type": "markdown",
   "metadata": {},
   "source": [
    "## `Nodo: Bienes adquiridos`."
   ]
  },
  {
   "cell_type": "markdown",
   "metadata": {},
   "source": [
    "### `Kernel Density Estimation`."
   ]
  },
  {
   "cell_type": "code",
   "execution_count": null,
   "metadata": {},
   "outputs": [],
   "source": []
  },
  {
   "cell_type": "code",
   "execution_count": null,
   "metadata": {},
   "outputs": [],
   "source": []
  },
  {
   "cell_type": "markdown",
   "metadata": {},
   "source": [
    "### `Aceptación y Rechazo`."
   ]
  },
  {
   "cell_type": "code",
   "execution_count": null,
   "metadata": {},
   "outputs": [],
   "source": []
  },
  {
   "cell_type": "code",
   "execution_count": null,
   "metadata": {},
   "outputs": [],
   "source": []
  },
  {
   "cell_type": "markdown",
   "metadata": {},
   "source": [
    "### `Simulación`."
   ]
  },
  {
   "cell_type": "code",
   "execution_count": null,
   "metadata": {},
   "outputs": [],
   "source": []
  },
  {
   "cell_type": "code",
   "execution_count": null,
   "metadata": {},
   "outputs": [],
   "source": []
  },
  {
   "cell_type": "markdown",
   "metadata": {},
   "source": [
    "<script>\n",
    "  $(document).ready(function(){\n",
    "    $('div.prompt').hide();\n",
    "    $('div.back-to-top').hide();\n",
    "    $('nav#menubar').hide();\n",
    "    $('.breadcrumb').hide();\n",
    "    $('.hidden-print').hide();\n",
    "  });\n",
    "</script>\n",
    "\n",
    "<footer id=\"attribution\" style=\"float:right; color:#808080; background:#fff;\">\n",
    "Created with Jupyter by Esteban Jiménez Rodríguez.\n",
    "</footer>"
   ]
  }
 ],
 "metadata": {
  "kernelspec": {
   "display_name": "Python 3",
   "language": "python",
   "name": "python3"
  },
  "language_info": {
   "codemirror_mode": {
    "name": "ipython",
    "version": 3
   },
   "file_extension": ".py",
   "mimetype": "text/x-python",
   "name": "python",
   "nbconvert_exporter": "python",
   "pygments_lexer": "ipython3",
   "version": "3.8.5"
  }
 },
 "nbformat": 4,
 "nbformat_minor": 2
}
