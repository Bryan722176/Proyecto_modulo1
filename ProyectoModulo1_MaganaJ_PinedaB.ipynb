{
 "cells": [
  {
   "cell_type": "markdown",
   "metadata": {},
   "source": [
    "<img style=\"float: left; margin: 30px 15px 15px 15px;\" src=\"https://pngimage.net/wp-content/uploads/2018/06/logo-iteso-png-5.png\" width=\"300\" height=\"500\" /> \n",
    "    \n",
    "    \n",
    "### <font color='navy'> Simulación de procesos financieros. \n",
    "\n",
    "**Nombres:** \n",
    "- Juan Pablo Ruíz Magaña.\n",
    "- Bryan Azahel Juárez Pineda.\n",
    "\n",
    "**Fecha:** 17 de marzo del 2021.\n",
    "\n",
    "**Expediente** :\n",
    "- 721093.\n",
    "- 722176.\n",
    "    \n",
    "**Profesor:** Oscar David Jaramillo Zuluaga.\n",
    "    \n",
    "**Link Github**: [Repositorio proyecto.](https://github.com/Bryan722176/Proyecto_modulo1)\n",
    "    \n",
    "**Link a la base de datos**: [Base de datos original.](https://www.kaggle.com/kapoorshivam/credit-analysis)\n",
    "\n",
    "# Proyecto TEMA-2"
   ]
  },
  {
   "cell_type": "markdown",
   "metadata": {},
   "source": [
    "### 1.1 Título del trabajo.\n",
    "**`Análisis de solicitud de productos bancarios de crédito.`**"
   ]
  },
  {
   "cell_type": "markdown",
   "metadata": {},
   "source": [
    "### 1.2 Objetivos.\n",
    "\n",
    "#### Objetivo general.\n",
    "* Determinar las características de los productos bancarios de crédito que solicitarán futuros clientes.\n",
    "\n",
    "#### Objetivo secundarios.\n",
    "* Simular una cantidad considerable de escenarios que nos permita conocer posibles valores a futuro de las variables de interés.\n",
    "* Evaluar las simulaciones con el método Montecarlo con la finalidad de encontrar el valor esperado de las variables de interés.\n",
    "* Obtener las probabilidades de ocurrencia de ciertos eventos relacionados a nuestras variables de interés.\n",
    "* Definir los parámetros que caracterizan a las solicitudes de crédito a partir de las variables de interés."
   ]
  },
  {
   "cell_type": "markdown",
   "metadata": {},
   "source": [
    "### 1.3 Definición del problema."
   ]
  },
  {
   "cell_type": "markdown",
   "metadata": {},
   "source": [
    "En las estructuras capitalistas que caracterizan al sistema económico mundial, el consumo forma parte elemental del día a día de las personas, la cuestión de interés surge en el momento en que la productividad / salario no corresponde a la capacidad adquisitiva que los individuos requieren para adquirir determinados bienes y servicios en el corto plazo. De ahí nace la necesidad y figura de los créditos.\n",
    "\n",
    "Situandonos en la posición de una institución bancaria, otorgar créditos conlleva un riesgo considerable en el modelo de negocios de la institución. Asumir el riesgo de impago en un crédito puede tener consecuencias graves si esto se llega a dar en escalas masivas, por ende quienes otorgan crédito deben realizar un análisis minucioso respecto a la capacidad crediticia de las personas o empresas que lo soliciten.\n",
    "\n",
    "Con el fin de cuidar los intereses del banco y maximizar las oportunidades de negocio de la institución, nos interesa analizar las características de las aplicaciones previas de diferentes productos bancarios de crédito, con la intención de que la institución bancaria pueda perfilar clientes pontenciales de manera más efectiva y a su vez gestione de manera más óptima sus recursos destinados a estas oportunidades de negocio.\n",
    "\n",
    "Para conocer lo antes descrito, y con nuestra base de datos, definimos los nodos que se deciden simular como los siguientes:\n",
    "\n",
    "* **Monto solicitado del crédito**: Esto para poder definir las expectativas crediticias de los potenciales clientes. Conocer el monto solicitado nos da una pauta para identificar y poder seccionar clientes a partir de su potencial capacidad adquisitiva y su necesidad.\n",
    "\n",
    "* **Monto aprobado del crédito**: Después de un análisis por parte de la institución, esta variable representa el monto designado a una solicitud en particular. Conocer el monto aprobado nos ayuda a determinar no solo la capacidad real de pago del cliente, sino también nos ayuda a saber si el banco cubre las necesidades de capitalización del cliente.  \n",
    "\n",
    "* **Canal de venta**: Conducto por el cual se establece la relación entre el cliente y la institución, y se inicializa el trámite. Conocer esta variable nos ayudará a entender como se distribuye la captación de clientes para el banco, esto generará que se pueda saber cuales son los canales a fortalecer y en cuales continuar con la inercia descrita.\n",
    "\n",
    "* **Categoría de productos que se adquieren con instrumentos de crédito**: Esta variable representa el destino del crédito solicitado. Conocer la categoría de destino nos ayuda a entender no solo las necesidades y el por qué se solicitan los créditos, también nos puede ayudar a evaluar que sectores de consumo requieren de mayor capacidad crediticia."
   ]
  },
  {
   "attachments": {
    "image.png": {
     "image/png": "[encoded data removed]"
    }
   },
   "cell_type": "markdown",
   "metadata": {},
   "source": [
    "#### Diagrama de proceso.\n",
    "![image.png](attachment:image.png)"
   ]
  },
  {
   "cell_type": "markdown",
   "metadata": {},
   "source": [
    "#### Descripción del diagrama:\n",
    "\n",
    "En el diagrama se describe el proceso a modelar:\n",
    "\n",
    "1. Comenzando por el canal de venta elegido por el cliente, por medio del cual se hace el primer contacto entre la institución y el cliente.\n",
    "\n",
    "2. Consecuentemente el cliente solicita un monto determinado a manera de crédito.\n",
    "\n",
    "3. Posteriormente, la institución realiza un analisís crediticio y opta por asignar un monto a dicho al cliente.\n",
    "\n",
    "4. Por último el cliente hace uso del crédito adquiriendo bienes y servicios.\n",
    "\n",
    "A manera de conclusión de este diagrama lo que obtenemos es la caracterización de las solicitudes de crédito de los clientes de la institución."
   ]
  },
  {
   "cell_type": "markdown",
   "metadata": {},
   "source": [
    "### 1.4 Nodos y variables que se decidieron simular y porqué."
   ]
  },
  {
   "cell_type": "markdown",
   "metadata": {},
   "source": [
    "Resumiendo lo antes descrito, los nodos a simular serán los siguientes:\n",
    "* **Monto solicitado del crédito**.\n",
    "\n",
    "* **Monto aprobado del crédito**.\n",
    "\n",
    "* **Canal de venta**.\n",
    "\n",
    "* **Categoría de productos adquirimos con instrumentos de crédito**.\n",
    "\n",
    "Y las posibles complicaciones que podriamos encontrar en su simulación, de manera generalizada son las siguientes:\n",
    "1. **Escalabilidad de los datos:** Es posible que se presenten valores extremos, por lo tanto debemos realizar un correcto análisis exploratorio de los datos y de ser necesario modificar su escala.\n",
    "\n",
    "2. **Ausencia de valores:** En datasets tan grandes es posibles que algunas variables reporten valores faltantes o simplemente se encuentren en una categoría desconocida, por lo tanto será conveniente observar su frecuencia en la muestra."
   ]
  },
  {
   "cell_type": "markdown",
   "metadata": {},
   "source": [
    "### 1.5 Definición de hipótesis y supuestos."
   ]
  },
  {
   "cell_type": "markdown",
   "metadata": {},
   "source": [
    "De manera generalizada podemos definir los siguientes supuestos constantes en el proceso para conocer los parámetros de los créditos solicitados:\n",
    "1. **Se asume la aprobación del crédito.**\n",
    "2. **El monto aprobado del crédito no necesariamente corresponde al solicitado.**\n",
    "3. **El destino del crédito es rastreable.**\n",
    "4. **El monto de aplicación es mayor a 0.**\n",
    "\n",
    "En cuanto al desarrollo de hipótesis respecto al desarrollo del proyecto podemos definir lo siguiente:\n",
    "1. **La causa que motiva en mayor proporción a los clientes a solicitar un crédito está dada por el consumo personal.**\n",
    "2. **Existe congruencia por parte de los clientes respecto al motivo por el cuál se solicita un crédito y el destino final de este.**\n",
    "3. **El monto de crédito aprobado es independiente del canal de ventas por el cuál se haya tramitado el crédito.**"
   ]
  },
  {
   "cell_type": "markdown",
   "metadata": {},
   "source": [
    "### 1.6 Obtención de bases de datos"
   ]
  },
  {
   "cell_type": "markdown",
   "metadata": {},
   "source": [
    "La base que se obtuvo a través de la plataforma web [_Kaggle_](https://www.kaggle.com/) describe las aplicaciones créditicias de un una institución financiera, el problema se presenta al momento de que las aplicaciones se aprueban de manera que el corporativo llega a otorgar créditos a individuos que no necesariamente terminan pagando en tiempo y forma.\n",
    "\n",
    "La base de datos original está conformada por $1'670,214$ filas y $37$ columnas. La realidad es que para el análisis particular que se desea realizar, existen variables y valores que no aportan demasiado, y con la finalidad de eficientar costos computacionales y dejar exclusivamente la información relevante al objetivo descrito previamente, realizaremos un análisis exploratorio y una limpieza de datos, la cual se podrá observar el notebook llamado \"**`EDA_BD`**\" presente en este mismo repositorio."
   ]
  },
  {
   "cell_type": "markdown",
   "metadata": {},
   "source": [
    "### 1.7 Visualización de resultados de simulación."
   ]
  },
  {
   "cell_type": "markdown",
   "metadata": {},
   "source": [
    "Entonces, las variables a modelar serán las siguientes:\n",
    "- Canal de venta.\n",
    "- Monto solicitado.\n",
    "- Monto aprobado.\n",
    "- Bienes adquiridos."
   ]
  },
  {
   "cell_type": "code",
   "execution_count": 1,
   "metadata": {},
   "outputs": [],
   "source": [
    "# Librerías a utilizar.\n",
    "import numpy as np\n",
    "import pandas as pd\n",
    "from scipy.optimize import minimize\n",
    "import seaborn as sns\n",
    "from scipy.stats.distributions import norm\n",
    "import matplotlib.pyplot as plt"
   ]
  },
  {
   "cell_type": "code",
   "execution_count": 2,
   "metadata": {
    "scrolled": true
   },
   "outputs": [
    {
     "data": {
      "text/html": [
       "<div>\n",
       "<style scoped>\n",
       "    .dataframe tbody tr th:only-of-type {\n",
       "        vertical-align: middle;\n",
       "    }\n",
       "\n",
       "    .dataframe tbody tr th {\n",
       "        vertical-align: top;\n",
       "    }\n",
       "\n",
       "    .dataframe thead th {\n",
       "        text-align: right;\n",
       "    }\n",
       "</style>\n",
       "<table border=\"1\" class=\"dataframe\">\n",
       "  <thead>\n",
       "    <tr style=\"text-align: right;\">\n",
       "      <th></th>\n",
       "      <th>SK_ID_CURR</th>\n",
       "      <th>NAME_CONTRACT_TYPE</th>\n",
       "      <th>AMT_APPLICATION</th>\n",
       "      <th>AMT_CREDIT</th>\n",
       "      <th>WEEKDAY_APPR_PROCESS_START</th>\n",
       "      <th>NAME_CASH_LOAN_PURPOSE</th>\n",
       "      <th>NAME_CLIENT_TYPE</th>\n",
       "      <th>NAME_GOODS_CATEGORY</th>\n",
       "      <th>NAME_PORTFOLIO</th>\n",
       "      <th>CHANNEL_TYPE</th>\n",
       "    </tr>\n",
       "  </thead>\n",
       "  <tbody>\n",
       "    <tr>\n",
       "      <th>0</th>\n",
       "      <td>271877</td>\n",
       "      <td>Consumer loans</td>\n",
       "      <td>17145.0</td>\n",
       "      <td>17145.0</td>\n",
       "      <td>SATURDAY</td>\n",
       "      <td>XAP</td>\n",
       "      <td>Repeater</td>\n",
       "      <td>Mobile</td>\n",
       "      <td>POS</td>\n",
       "      <td>Country-wide</td>\n",
       "    </tr>\n",
       "    <tr>\n",
       "      <th>1</th>\n",
       "      <td>108129</td>\n",
       "      <td>Cash loans</td>\n",
       "      <td>607500.0</td>\n",
       "      <td>679671.0</td>\n",
       "      <td>THURSDAY</td>\n",
       "      <td>XNA</td>\n",
       "      <td>Repeater</td>\n",
       "      <td>XNA</td>\n",
       "      <td>Cash</td>\n",
       "      <td>Contact center</td>\n",
       "    </tr>\n",
       "    <tr>\n",
       "      <th>2</th>\n",
       "      <td>122040</td>\n",
       "      <td>Cash loans</td>\n",
       "      <td>112500.0</td>\n",
       "      <td>136444.5</td>\n",
       "      <td>TUESDAY</td>\n",
       "      <td>XNA</td>\n",
       "      <td>Repeater</td>\n",
       "      <td>XNA</td>\n",
       "      <td>Cash</td>\n",
       "      <td>Credit and cash offices</td>\n",
       "    </tr>\n",
       "    <tr>\n",
       "      <th>3</th>\n",
       "      <td>176158</td>\n",
       "      <td>Cash loans</td>\n",
       "      <td>450000.0</td>\n",
       "      <td>470790.0</td>\n",
       "      <td>MONDAY</td>\n",
       "      <td>XNA</td>\n",
       "      <td>Repeater</td>\n",
       "      <td>XNA</td>\n",
       "      <td>Cash</td>\n",
       "      <td>Credit and cash offices</td>\n",
       "    </tr>\n",
       "    <tr>\n",
       "      <th>4</th>\n",
       "      <td>199383</td>\n",
       "      <td>Cash loans</td>\n",
       "      <td>315000.0</td>\n",
       "      <td>340573.5</td>\n",
       "      <td>SATURDAY</td>\n",
       "      <td>Everyday expenses</td>\n",
       "      <td>Repeater</td>\n",
       "      <td>XNA</td>\n",
       "      <td>Cash</td>\n",
       "      <td>Credit and cash offices</td>\n",
       "    </tr>\n",
       "  </tbody>\n",
       "</table>\n",
       "</div>"
      ],
      "text/plain": [
       "   SK_ID_CURR NAME_CONTRACT_TYPE  AMT_APPLICATION  AMT_CREDIT  \\\n",
       "0      271877     Consumer loans          17145.0     17145.0   \n",
       "1      108129         Cash loans         607500.0    679671.0   \n",
       "2      122040         Cash loans         112500.0    136444.5   \n",
       "3      176158         Cash loans         450000.0    470790.0   \n",
       "4      199383         Cash loans         315000.0    340573.5   \n",
       "\n",
       "  WEEKDAY_APPR_PROCESS_START NAME_CASH_LOAN_PURPOSE NAME_CLIENT_TYPE  \\\n",
       "0                   SATURDAY                    XAP         Repeater   \n",
       "1                   THURSDAY                    XNA         Repeater   \n",
       "2                    TUESDAY                    XNA         Repeater   \n",
       "3                     MONDAY                    XNA         Repeater   \n",
       "4                   SATURDAY      Everyday expenses         Repeater   \n",
       "\n",
       "  NAME_GOODS_CATEGORY NAME_PORTFOLIO             CHANNEL_TYPE  \n",
       "0              Mobile            POS             Country-wide  \n",
       "1                 XNA           Cash           Contact center  \n",
       "2                 XNA           Cash  Credit and cash offices  \n",
       "3                 XNA           Cash  Credit and cash offices  \n",
       "4                 XNA           Cash  Credit and cash offices  "
      ]
     },
     "execution_count": 2,
     "metadata": {},
     "output_type": "execute_result"
    }
   ],
   "source": [
    "data = pd.read_csv('approval_clean.csv')\n",
    "data.head()"
   ]
  },
  {
   "cell_type": "markdown",
   "metadata": {},
   "source": [
    "Al observar nuestro dataset, nos encontramos con una gran incongruencia. El hecho de que un crédito se autorice implica que el **monto aprobado** de la línea de crédito debe ser mayor a 0, sin embargo existen valores que cuentan con está situación. Con la finalidad de ser congruentes a nuestro supuesto de aprobación, eliminaremos todas las filas que contengan estos valores. Los manejaremos como un _error de captura_."
   ]
  },
  {
   "cell_type": "code",
   "execution_count": 3,
   "metadata": {},
   "outputs": [],
   "source": [
    "# Eliminar montos de crédito aprobados iguales a 0. Es un error de captura.\n",
    "data = data[data.AMT_CREDIT != 0]"
   ]
  },
  {
   "cell_type": "markdown",
   "metadata": {},
   "source": [
    "Comenzamos a explorar nuestras variables de interés. Primero observaremos los valores únicos y la cuenta de los mismos en el **canal de venta**."
   ]
  },
  {
   "cell_type": "code",
   "execution_count": 4,
   "metadata": {},
   "outputs": [
    {
     "data": {
      "text/plain": [
       "Country-wide                  401875\n",
       "Credit and cash offices       288947\n",
       "Stone                         188924\n",
       "Regional / Local               96170\n",
       "AP+ (Cash loan)                31195\n",
       "Contact center                 25217\n",
       "Channel of corporate sales      2616\n",
       "Car dealer                       286\n",
       "Name: CHANNEL_TYPE, dtype: int64"
      ]
     },
     "execution_count": 4,
     "metadata": {},
     "output_type": "execute_result"
    }
   ],
   "source": [
    "# Cuenta de valores únicos del canal de venta.\n",
    "data.CHANNEL_TYPE.value_counts()"
   ]
  },
  {
   "cell_type": "markdown",
   "metadata": {},
   "source": [
    "En el caso particular del **canal de venta** nos podemos percatar que existen 8 valores únicos, los cuales categorizamos como los distintos canales de venta sobre los cuales los clientes llegan a nosotros. A simple vista, observamos que el más popular es la categoria _Country-wide_.\n",
    "\n",
    "Ahora, visualizaremos un poco sobre nuestros **montos solicitados**. Para una visualización rápida lo observamos a partir de un histograma."
   ]
  },
  {
   "cell_type": "code",
   "execution_count": 5,
   "metadata": {},
   "outputs": [
    {
     "name": "stdout",
     "output_type": "stream",
     "text": [
      "El valor mínimo del monto de aplicación es de: $0\n",
      "El valor máximo del monto de aplicación es de: $5850000\n"
     ]
    },
    {
     "data": {
      "image/png": "[encoded data removed]",
      "text/plain": [
       "<Figure size 432x288 with 1 Axes>"
      ]
     },
     "metadata": {
      "needs_background": "light"
     },
     "output_type": "display_data"
    }
   ],
   "source": [
    "# Visualizamos el monto solicitado.\n",
    "sns.histplot(data.AMT_APPLICATION, color='y', bins=10);\n",
    "print(f'El valor mínimo del monto de aplicación es de: ${int(min(data.AMT_APPLICATION))}')\n",
    "print(f'El valor máximo del monto de aplicación es de: ${int(max(data.AMT_APPLICATION))}')"
   ]
  },
  {
   "cell_type": "markdown",
   "metadata": {},
   "source": [
    "En el caso de los **montos solicitados**, graficamente se observa que la escala sobre la cual se está trabajando no resulta del todo óptima en la visualización, esto porque la mayoría de las cantidades están abajo de un millón de dólares, sin embargo, existen algunos montos que superan los cinco millones, como lo es el máximo, el cual es de $5,850,00$. De está situación observamos otra cuestión que resulta interesante y que contrasta con uno de los supuestos planteados, y es que existen **montos solicitados** iguales a 0. A pesar de que no nos interesan para nuestra análisis, si se puede derivar un análisis particular del mismo."
   ]
  },
  {
   "cell_type": "code",
   "execution_count": 6,
   "metadata": {
    "scrolled": true
   },
   "outputs": [
    {
     "name": "stdout",
     "output_type": "stream",
     "text": [
      "El caso particular, representa un: 4.226403794325899% del total de la muestra.\n"
     ]
    },
    {
     "data": {
      "text/html": [
       "<div>\n",
       "<style scoped>\n",
       "    .dataframe tbody tr th:only-of-type {\n",
       "        vertical-align: middle;\n",
       "    }\n",
       "\n",
       "    .dataframe tbody tr th {\n",
       "        vertical-align: top;\n",
       "    }\n",
       "\n",
       "    .dataframe thead th {\n",
       "        text-align: right;\n",
       "    }\n",
       "</style>\n",
       "<table border=\"1\" class=\"dataframe\">\n",
       "  <thead>\n",
       "    <tr style=\"text-align: right;\">\n",
       "      <th></th>\n",
       "      <th>SK_ID_CURR</th>\n",
       "      <th>NAME_CONTRACT_TYPE</th>\n",
       "      <th>AMT_APPLICATION</th>\n",
       "      <th>AMT_CREDIT</th>\n",
       "      <th>WEEKDAY_APPR_PROCESS_START</th>\n",
       "      <th>NAME_CASH_LOAN_PURPOSE</th>\n",
       "      <th>NAME_CLIENT_TYPE</th>\n",
       "      <th>NAME_GOODS_CATEGORY</th>\n",
       "      <th>NAME_PORTFOLIO</th>\n",
       "      <th>CHANNEL_TYPE</th>\n",
       "    </tr>\n",
       "  </thead>\n",
       "  <tbody>\n",
       "    <tr>\n",
       "      <th>54</th>\n",
       "      <td>120854</td>\n",
       "      <td>Revolving loans</td>\n",
       "      <td>0.0</td>\n",
       "      <td>675000.0</td>\n",
       "      <td>THURSDAY</td>\n",
       "      <td>XAP</td>\n",
       "      <td>Repeater</td>\n",
       "      <td>XNA</td>\n",
       "      <td>Cards</td>\n",
       "      <td>Credit and cash offices</td>\n",
       "    </tr>\n",
       "    <tr>\n",
       "      <th>75</th>\n",
       "      <td>276237</td>\n",
       "      <td>Revolving loans</td>\n",
       "      <td>0.0</td>\n",
       "      <td>450000.0</td>\n",
       "      <td>TUESDAY</td>\n",
       "      <td>XAP</td>\n",
       "      <td>Repeater</td>\n",
       "      <td>XNA</td>\n",
       "      <td>Cards</td>\n",
       "      <td>Country-wide</td>\n",
       "    </tr>\n",
       "    <tr>\n",
       "      <th>215</th>\n",
       "      <td>449030</td>\n",
       "      <td>Revolving loans</td>\n",
       "      <td>0.0</td>\n",
       "      <td>180000.0</td>\n",
       "      <td>SUNDAY</td>\n",
       "      <td>XAP</td>\n",
       "      <td>Repeater</td>\n",
       "      <td>XNA</td>\n",
       "      <td>Cards</td>\n",
       "      <td>Country-wide</td>\n",
       "    </tr>\n",
       "    <tr>\n",
       "      <th>222</th>\n",
       "      <td>323651</td>\n",
       "      <td>Revolving loans</td>\n",
       "      <td>0.0</td>\n",
       "      <td>270000.0</td>\n",
       "      <td>TUESDAY</td>\n",
       "      <td>XAP</td>\n",
       "      <td>Repeater</td>\n",
       "      <td>XNA</td>\n",
       "      <td>Cards</td>\n",
       "      <td>AP+ (Cash loan)</td>\n",
       "    </tr>\n",
       "    <tr>\n",
       "      <th>256</th>\n",
       "      <td>263634</td>\n",
       "      <td>Revolving loans</td>\n",
       "      <td>0.0</td>\n",
       "      <td>765000.0</td>\n",
       "      <td>MONDAY</td>\n",
       "      <td>XAP</td>\n",
       "      <td>Repeater</td>\n",
       "      <td>XNA</td>\n",
       "      <td>Cards</td>\n",
       "      <td>Credit and cash offices</td>\n",
       "    </tr>\n",
       "  </tbody>\n",
       "</table>\n",
       "</div>"
      ],
      "text/plain": [
       "     SK_ID_CURR NAME_CONTRACT_TYPE  AMT_APPLICATION  AMT_CREDIT  \\\n",
       "54       120854    Revolving loans              0.0    675000.0   \n",
       "75       276237    Revolving loans              0.0    450000.0   \n",
       "215      449030    Revolving loans              0.0    180000.0   \n",
       "222      323651    Revolving loans              0.0    270000.0   \n",
       "256      263634    Revolving loans              0.0    765000.0   \n",
       "\n",
       "    WEEKDAY_APPR_PROCESS_START NAME_CASH_LOAN_PURPOSE NAME_CLIENT_TYPE  \\\n",
       "54                    THURSDAY                    XAP         Repeater   \n",
       "75                     TUESDAY                    XAP         Repeater   \n",
       "215                     SUNDAY                    XAP         Repeater   \n",
       "222                    TUESDAY                    XAP         Repeater   \n",
       "256                     MONDAY                    XAP         Repeater   \n",
       "\n",
       "    NAME_GOODS_CATEGORY NAME_PORTFOLIO             CHANNEL_TYPE  \n",
       "54                  XNA          Cards  Credit and cash offices  \n",
       "75                  XNA          Cards             Country-wide  \n",
       "215                 XNA          Cards             Country-wide  \n",
       "222                 XNA          Cards          AP+ (Cash loan)  \n",
       "256                 XNA          Cards  Credit and cash offices  "
      ]
     },
     "execution_count": 6,
     "metadata": {},
     "output_type": "execute_result"
    }
   ],
   "source": [
    "# Definimos caso particular. Monto de aplicación igual a 0.\n",
    "data_particular = data[data['AMT_APPLICATION']==0]\n",
    "print(f'El caso particular, representa un: {(len(data_particular) / len(data))*100}% del total de la muestra.')\n",
    "data_particular.head()"
   ]
  },
  {
   "cell_type": "markdown",
   "metadata": {},
   "source": [
    "Como podemos observar, este conjunto de datos representan aproximadamente un $4.23\\%$ de la muestra. Por lo tanto su eliminación del análisis principal no afectará a los objetivos inicialmente planteados. Ahora, para analizar este caso particular, las variables que nos interesa observar a partir del nuevo subconjunto de datos serán el **tipo de contrato**, **tipo de instrumento**, **categoria de gasto**, **tipo de cliente** y **monto aprobado**."
   ]
  },
  {
   "cell_type": "code",
   "execution_count": 7,
   "metadata": {},
   "outputs": [
    {
     "data": {
      "text/plain": [
       "Revolving loans    43753\n",
       "Name: NAME_CONTRACT_TYPE, dtype: int64"
      ]
     },
     "execution_count": 7,
     "metadata": {},
     "output_type": "execute_result"
    }
   ],
   "source": [
    "# Observamos el tipo de contrato.\n",
    "data_particular.NAME_CONTRACT_TYPE.value_counts()"
   ]
  },
  {
   "cell_type": "markdown",
   "metadata": {},
   "source": [
    "Se observa que el tipo de contrato que se da en estos casos, solo corresponde a un **préstamo revolvente**, siendo que este abarca la totalidad de la muestra."
   ]
  },
  {
   "cell_type": "code",
   "execution_count": 8,
   "metadata": {},
   "outputs": [
    {
     "data": {
      "text/plain": [
       "Cards    43753\n",
       "Name: NAME_PORTFOLIO, dtype: int64"
      ]
     },
     "execution_count": 8,
     "metadata": {},
     "output_type": "execute_result"
    }
   ],
   "source": [
    "# Observamos el tipo de instrumento utilizado.\n",
    "data_particular.NAME_PORTFOLIO.value_counts()"
   ]
  },
  {
   "cell_type": "markdown",
   "metadata": {},
   "source": [
    "Para el caso del instrumento otorgado, vemos nuevamente que existe solo uno, las **tarjetas de crédito**."
   ]
  },
  {
   "cell_type": "code",
   "execution_count": 9,
   "metadata": {},
   "outputs": [
    {
     "data": {
      "text/plain": [
       "XNA    43753\n",
       "Name: NAME_GOODS_CATEGORY, dtype: int64"
      ]
     },
     "execution_count": 9,
     "metadata": {},
     "output_type": "execute_result"
    }
   ],
   "source": [
    "# Observamos la categoria de gasto de la línea.\n",
    "data_particular.NAME_GOODS_CATEGORY.value_counts()"
   ]
  },
  {
   "cell_type": "markdown",
   "metadata": {},
   "source": [
    "En el caso de la categoría de gasto observamos que solo existe una, **XNA** la cual representa una ausencia de valor. Con esto podemos deducir que estas líneas de crédito no informan la categoria de bienes adquiridos, o al menos esta información pareciera no resultar determinante para la institución."
   ]
  },
  {
   "cell_type": "code",
   "execution_count": 10,
   "metadata": {},
   "outputs": [
    {
     "data": {
      "text/plain": [
       "Repeater     39912\n",
       "Refreshed     3627\n",
       "New            214\n",
       "Name: NAME_CLIENT_TYPE, dtype: int64"
      ]
     },
     "execution_count": 10,
     "metadata": {},
     "output_type": "execute_result"
    }
   ],
   "source": [
    "# Observamos el tipo de cliente.\n",
    "data_particular.NAME_CLIENT_TYPE.value_counts()"
   ]
  },
  {
   "cell_type": "markdown",
   "metadata": {},
   "source": [
    "En esta variable encontramos otra cuestión interesante, y es que la mayoría de personas con este tipo particular de crédito o son clientes, o lo llegaron a ser en algun momento. Esto se representa en casi todos los casos, donde solo $214$ clientes fueron nuevos para la institución. Esto nos da pauta a pensar que este tipo de líneas no se otorgan a cualquier cliente, probablemente sea una línea preferencial."
   ]
  },
  {
   "cell_type": "code",
   "execution_count": 11,
   "metadata": {},
   "outputs": [
    {
     "name": "stdout",
     "output_type": "stream",
     "text": [
      "El valor mínimo del monto de aprobación es de: $22500\n",
      "El valor máximo del monto de aprobación es de: $1350000\n"
     ]
    },
    {
     "data": {
      "image/png": "[encoded data removed]",
      "text/plain": [
       "<Figure size 432x288 with 1 Axes>"
      ]
     },
     "metadata": {
      "needs_background": "light"
     },
     "output_type": "display_data"
    }
   ],
   "source": [
    "# Visualizamos rápidamente, con un histograma el monto aprobado.\n",
    "sns.histplot(data_particular.AMT_CREDIT, color='r', bins=10);\n",
    "print(f'El valor mínimo del monto de aprobación es de: ${int(min(data_particular.AMT_CREDIT))}')\n",
    "print(f'El valor máximo del monto de aprobación es de: ${int(max(data_particular.AMT_CREDIT))}')"
   ]
  },
  {
   "cell_type": "markdown",
   "metadata": {},
   "source": [
    "En el caso del **monto aprobado** observamos que las cantidades oscilan entre $\\$22,500$ y $\\$1,350,000$. Tomando en cuenta que el máximo monto registrado en el dataset ronda los seis millones, podemos decir que este tipo de líneas de crédito no se caracterizan por ser altas.\n",
    "\n",
    "Entonces con todo lo antes mencionado podemos definir las carácteristicas de este caso particular, donde el **monto solicitado** del crédito es igual a 0, es decir, la institución otorga estas líneas sin que exista una prevía solicitud por parte de un cliente:\n",
    "\n",
    "- Es específico a una línea de crédito conocidad como **crédito revolvente**.\n",
    "- El instrumento que se otorga para ejercer la línea es exclusivamente la **tarjeta de crédito**.\n",
    "- Los bienes adquiridos, no representan o al menos no son del interés de la institución financiera.\n",
    "- El tipo de cliente al cual están dirigidas estas líneas es en su mayoría para aquellos que ya tienen un historial con la institución.\n",
    "- Los montos de estas líneas de crédito son más bajos, respecto a otro tipo de solicitudes."
   ]
  },
  {
   "cell_type": "code",
   "execution_count": 12,
   "metadata": {},
   "outputs": [
    {
     "data": {
      "text/html": [
       "<div>\n",
       "<style scoped>\n",
       "    .dataframe tbody tr th:only-of-type {\n",
       "        vertical-align: middle;\n",
       "    }\n",
       "\n",
       "    .dataframe tbody tr th {\n",
       "        vertical-align: top;\n",
       "    }\n",
       "\n",
       "    .dataframe thead th {\n",
       "        text-align: right;\n",
       "    }\n",
       "</style>\n",
       "<table border=\"1\" class=\"dataframe\">\n",
       "  <thead>\n",
       "    <tr style=\"text-align: right;\">\n",
       "      <th></th>\n",
       "      <th>SK_ID_CURR</th>\n",
       "      <th>NAME_CONTRACT_TYPE</th>\n",
       "      <th>AMT_APPLICATION</th>\n",
       "      <th>AMT_CREDIT</th>\n",
       "      <th>WEEKDAY_APPR_PROCESS_START</th>\n",
       "      <th>NAME_CASH_LOAN_PURPOSE</th>\n",
       "      <th>NAME_CLIENT_TYPE</th>\n",
       "      <th>NAME_GOODS_CATEGORY</th>\n",
       "      <th>NAME_PORTFOLIO</th>\n",
       "      <th>CHANNEL_TYPE</th>\n",
       "    </tr>\n",
       "  </thead>\n",
       "  <tbody>\n",
       "    <tr>\n",
       "      <th>0</th>\n",
       "      <td>271877</td>\n",
       "      <td>Consumer loans</td>\n",
       "      <td>17145.0</td>\n",
       "      <td>17145.0</td>\n",
       "      <td>SATURDAY</td>\n",
       "      <td>XAP</td>\n",
       "      <td>Repeater</td>\n",
       "      <td>Mobile</td>\n",
       "      <td>POS</td>\n",
       "      <td>Country-wide</td>\n",
       "    </tr>\n",
       "    <tr>\n",
       "      <th>1</th>\n",
       "      <td>108129</td>\n",
       "      <td>Cash loans</td>\n",
       "      <td>607500.0</td>\n",
       "      <td>679671.0</td>\n",
       "      <td>THURSDAY</td>\n",
       "      <td>XNA</td>\n",
       "      <td>Repeater</td>\n",
       "      <td>XNA</td>\n",
       "      <td>Cash</td>\n",
       "      <td>Contact center</td>\n",
       "    </tr>\n",
       "    <tr>\n",
       "      <th>2</th>\n",
       "      <td>122040</td>\n",
       "      <td>Cash loans</td>\n",
       "      <td>112500.0</td>\n",
       "      <td>136444.5</td>\n",
       "      <td>TUESDAY</td>\n",
       "      <td>XNA</td>\n",
       "      <td>Repeater</td>\n",
       "      <td>XNA</td>\n",
       "      <td>Cash</td>\n",
       "      <td>Credit and cash offices</td>\n",
       "    </tr>\n",
       "    <tr>\n",
       "      <th>3</th>\n",
       "      <td>176158</td>\n",
       "      <td>Cash loans</td>\n",
       "      <td>450000.0</td>\n",
       "      <td>470790.0</td>\n",
       "      <td>MONDAY</td>\n",
       "      <td>XNA</td>\n",
       "      <td>Repeater</td>\n",
       "      <td>XNA</td>\n",
       "      <td>Cash</td>\n",
       "      <td>Credit and cash offices</td>\n",
       "    </tr>\n",
       "    <tr>\n",
       "      <th>4</th>\n",
       "      <td>199383</td>\n",
       "      <td>Cash loans</td>\n",
       "      <td>315000.0</td>\n",
       "      <td>340573.5</td>\n",
       "      <td>SATURDAY</td>\n",
       "      <td>Everyday expenses</td>\n",
       "      <td>Repeater</td>\n",
       "      <td>XNA</td>\n",
       "      <td>Cash</td>\n",
       "      <td>Credit and cash offices</td>\n",
       "    </tr>\n",
       "  </tbody>\n",
       "</table>\n",
       "</div>"
      ],
      "text/plain": [
       "   SK_ID_CURR NAME_CONTRACT_TYPE  AMT_APPLICATION  AMT_CREDIT  \\\n",
       "0      271877     Consumer loans          17145.0     17145.0   \n",
       "1      108129         Cash loans         607500.0    679671.0   \n",
       "2      122040         Cash loans         112500.0    136444.5   \n",
       "3      176158         Cash loans         450000.0    470790.0   \n",
       "4      199383         Cash loans         315000.0    340573.5   \n",
       "\n",
       "  WEEKDAY_APPR_PROCESS_START NAME_CASH_LOAN_PURPOSE NAME_CLIENT_TYPE  \\\n",
       "0                   SATURDAY                    XAP         Repeater   \n",
       "1                   THURSDAY                    XNA         Repeater   \n",
       "2                    TUESDAY                    XNA         Repeater   \n",
       "3                     MONDAY                    XNA         Repeater   \n",
       "4                   SATURDAY      Everyday expenses         Repeater   \n",
       "\n",
       "  NAME_GOODS_CATEGORY NAME_PORTFOLIO             CHANNEL_TYPE  \n",
       "0              Mobile            POS             Country-wide  \n",
       "1                 XNA           Cash           Contact center  \n",
       "2                 XNA           Cash  Credit and cash offices  \n",
       "3                 XNA           Cash  Credit and cash offices  \n",
       "4                 XNA           Cash  Credit and cash offices  "
      ]
     },
     "execution_count": 12,
     "metadata": {},
     "output_type": "execute_result"
    }
   ],
   "source": [
    "# Ya con el caso particular descrito, nos quedamos exclusivamente con los montos solicitados mayores a 0.\n",
    "data = data[data['AMT_APPLICATION'] !=0]\n",
    "data.head()"
   ]
  },
  {
   "cell_type": "markdown",
   "metadata": {},
   "source": [
    "Ahora ya con un exploratorio de datos más completo, comenzamos con la simulación correspondiente a los nodos descritos en el objetivo principal."
   ]
  },
  {
   "cell_type": "markdown",
   "metadata": {},
   "source": [
    "## `Nodo: Canal de venta`."
   ]
  },
  {
   "cell_type": "markdown",
   "metadata": {},
   "source": [
    "### `Kernel Density Estimation`."
   ]
  },
  {
   "cell_type": "code",
   "execution_count": null,
   "metadata": {},
   "outputs": [],
   "source": []
  },
  {
   "cell_type": "code",
   "execution_count": null,
   "metadata": {},
   "outputs": [],
   "source": []
  },
  {
   "cell_type": "markdown",
   "metadata": {},
   "source": [
    "### `Aceptación y Rechazo`."
   ]
  },
  {
   "cell_type": "code",
   "execution_count": null,
   "metadata": {},
   "outputs": [],
   "source": []
  },
  {
   "cell_type": "code",
   "execution_count": null,
   "metadata": {},
   "outputs": [],
   "source": []
  },
  {
   "cell_type": "markdown",
   "metadata": {},
   "source": [
    "### `Simulación`."
   ]
  },
  {
   "cell_type": "code",
   "execution_count": null,
   "metadata": {},
   "outputs": [],
   "source": []
  },
  {
   "cell_type": "code",
   "execution_count": null,
   "metadata": {},
   "outputs": [],
   "source": []
  },
  {
   "cell_type": "markdown",
   "metadata": {},
   "source": [
    "## `Nodo: Monto solicitado`."
   ]
  },
  {
   "cell_type": "markdown",
   "metadata": {},
   "source": [
    "### `Kernel Density Estimation`."
   ]
  },
  {
   "cell_type": "code",
   "execution_count": 13,
   "metadata": {},
   "outputs": [
    {
     "data": {
      "text/plain": [
       "<AxesSubplot:xlabel='AMT_APPLICATION'>"
      ]
     },
     "execution_count": 13,
     "metadata": {},
     "output_type": "execute_result"
    },
    {
     "data": {
      "image/png": "[encoded data removed]",
      "text/plain": [
       "<Figure size 432x288 with 1 Axes>"
      ]
     },
     "metadata": {
      "needs_background": "light"
     },
     "output_type": "display_data"
    }
   ],
   "source": [
    "# Visualizando nuestros datos\n",
    "sns.boxplot(x=data['AMT_APPLICATION'], saturation=.5, color='r')"
   ]
  },
  {
   "cell_type": "markdown",
   "metadata": {},
   "source": [
    "> Observamos que existen valores atipicos que excenden el rango intercuartilico por lo tanto obtaremos por utilizar una escala logaritmica."
   ]
  },
  {
   "cell_type": "code",
   "execution_count": 14,
   "metadata": {},
   "outputs": [
    {
     "data": {
      "text/plain": [
       "<AxesSubplot:xlabel='AMT_APPLICATION'>"
      ]
     },
     "execution_count": 14,
     "metadata": {},
     "output_type": "execute_result"
    },
    {
     "data": {
      "image/png": "[encoded data removed]",
      "text/plain": [
       "<Figure size 432x288 with 1 Axes>"
      ]
     },
     "metadata": {
      "needs_background": "light"
     },
     "output_type": "display_data"
    }
   ],
   "source": [
    "data_log = np.log(data['AMT_APPLICATION'])\n",
    "sns.boxplot(x=data_log, saturation=.5, color='r')"
   ]
  },
  {
   "cell_type": "code",
   "execution_count": 15,
   "metadata": {},
   "outputs": [
    {
     "data": {
      "text/plain": [
       "count    991477.000000\n",
       "mean         11.577048\n",
       "std           1.023470\n",
       "min           8.594154\n",
       "25%          10.763208\n",
       "50%          11.483692\n",
       "75%          12.240474\n",
       "max          15.581952\n",
       "Name: AMT_APPLICATION, dtype: float64"
      ]
     },
     "execution_count": 15,
     "metadata": {},
     "output_type": "execute_result"
    }
   ],
   "source": [
    "data_log.describe()"
   ]
  },
  {
   "cell_type": "code",
   "execution_count": 16,
   "metadata": {},
   "outputs": [
    {
     "data": {
      "text/plain": [
       "<AxesSubplot:xlabel='AMT_APPLICATION', ylabel='Count'>"
      ]
     },
     "execution_count": 16,
     "metadata": {},
     "output_type": "execute_result"
    },
    {
     "data": {
      "image/png": "[encoded data removed]",
      "text/plain": [
       "<Figure size 432x288 with 1 Axes>"
      ]
     },
     "metadata": {
      "needs_background": "light"
     },
     "output_type": "display_data"
    }
   ],
   "source": [
    "sns.histplot(data_log, bins=10)"
   ]
  },
  {
   "cell_type": "markdown",
   "metadata": {},
   "source": [
    ">Podemos observar que los datos en escala logaritmica ahora lucen como una normal."
   ]
  },
  {
   "cell_type": "code",
   "execution_count": 38,
   "metadata": {},
   "outputs": [],
   "source": [
    "x_grid = np.linspace(9,15,1000) #donde nosotros queremos graficar nuestra distribución\n",
    "\n",
    "# datos de prueba\n",
    "x = data_log.sample(n=5000,random_state=1)\n",
    "\n",
    "#mis datos reales\n",
    "pdf_true = data_log"
   ]
  },
  {
   "cell_type": "code",
   "execution_count": 18,
   "metadata": {},
   "outputs": [],
   "source": [
    "from scipy.stats import gaussian_kde\n",
    "from statsmodels.nonparametric.kernel_density import KDEMultivariate\n",
    "from sklearn.neighbors import KernelDensity"
   ]
  },
  {
   "cell_type": "code",
   "execution_count": 19,
   "metadata": {},
   "outputs": [
    {
     "name": "stderr",
     "output_type": "stream",
     "text": [
      "<ipython-input-19-520e71354433>:2: FutureWarning: Support for multi-dimensional indexing (e.g. `obj[:, None]`) is deprecated and will be removed in a future version.  Convert to a numpy array before indexing instead.\n",
      "  kde_multivariate = KDEMultivariate(data=x[:,np.newaxis], var_type='c',bw='normal_reference')\n"
     ]
    },
    {
     "data": {
      "image/png": "[encoded data removed]",
      "text/plain": [
       "<Figure size 432x288 with 1 Axes>"
      ]
     },
     "metadata": {
      "needs_background": "light"
     },
     "output_type": "display_data"
    }
   ],
   "source": [
    "# How to obtain a function instead of an array of values from KDEMultivariate?\n",
    "kde_multivariate = KDEMultivariate(data=x[:,np.newaxis], var_type='c',bw='normal_reference')\n",
    "f_multi_kde = lambda x: kde_multivariate.pdf(x) # mi f(x)\n",
    "# con esto podemos encontrar el método de aceptación y rechazo\n",
    "plt.plot(x_grid,f_multi_kde(x_grid))\n",
    "plt.hist(x,bins=20,density=True)\n",
    "plt.title('KDE multivariate')\n",
    "plt.show()"
   ]
  },
  {
   "cell_type": "code",
   "execution_count": 20,
   "metadata": {},
   "outputs": [
    {
     "data": {
      "text/plain": [
       "array([0.19881961])"
      ]
     },
     "execution_count": 20,
     "metadata": {},
     "output_type": "execute_result"
    }
   ],
   "source": [
    "kde_multivariate.bw"
   ]
  },
  {
   "cell_type": "markdown",
   "metadata": {},
   "source": [
    "### `Aceptación y Rechazo`."
   ]
  },
  {
   "cell_type": "code",
   "execution_count": 39,
   "metadata": {},
   "outputs": [],
   "source": [
    "# Función de aceptación y rechazo usando compresión de listas\n",
    "def Acep_rechazo(R2:'Variables distruidas U~U(0,1)',\n",
    "                 R1:'Variables distribuidas como g(x)',\n",
    "                 f:'función objetivo a generar',\n",
    "                 t:'función que mayora a f'):\n",
    "    # R1 = np.random.rand(N)\n",
    "    f_x = f(R1)\n",
    "    t_x = t(R1)\n",
    "    condition = R2*t_x <=f_x\n",
    "    [plt.plot(R1[i],R2[i]*t_x[i],'ob') if condition[i] else plt.plot(R1[i],R2[i]*t_x[i],'o') \\\n",
    "        for i in range(len(R1))]\n",
    "                \n",
    "    plt.show()\n",
    "    \n",
    "    x = [R1[i] for i in range(len(R1)) if condition[i]]\n",
    "    return x"
   ]
  },
  {
   "cell_type": "code",
   "execution_count": 40,
   "metadata": {},
   "outputs": [
    {
     "data": {
      "text/plain": [
       "0.3886187592731793"
      ]
     },
     "execution_count": 40,
     "metadata": {},
     "output_type": "execute_result"
    }
   ],
   "source": [
    "c = f_multi_kde(x) \n",
    "max_f=c.max()\n",
    "max_f"
   ]
  },
  {
   "cell_type": "code",
   "execution_count": 23,
   "metadata": {},
   "outputs": [
    {
     "name": "stdout",
     "output_type": "stream",
     "text": [
      "El máximo de f es: 0.3886187592731793\n"
     ]
    },
    {
     "data": {
      "text/plain": [
       "<matplotlib.legend.Legend at 0x10a3f944280>"
      ]
     },
     "execution_count": 23,
     "metadata": {},
     "output_type": "execute_result"
    },
    {
     "data": {
      "image/png": "[encoded data removed]",
      "text/plain": [
       "<Figure size 432x288 with 1 Axes>"
      ]
     },
     "metadata": {
      "needs_background": "light"
     },
     "output_type": "display_data"
    }
   ],
   "source": [
    "t = lambda x: max_f * np.ones([len(x)]) \n",
    "\n",
    "# Rango donde se graficará las funciones\n",
    "x = np.arange(9,15, 0.01) \n",
    "print('El máximo de f es:',max_f)\n",
    "\n",
    "# Gráficas de las funciones\n",
    "plt.plot(x,f_multi_kde(x),label='f(x)')\n",
    "plt.plot(x,t(x),label='t(x)')\n",
    "plt.legend()"
   ]
  },
  {
   "cell_type": "code",
   "execution_count": 24,
   "metadata": {},
   "outputs": [],
   "source": [
    "from statsmodels.nonparametric.kde import KDEUnivariate"
   ]
  },
  {
   "cell_type": "code",
   "execution_count": 41,
   "metadata": {
    "scrolled": true
   },
   "outputs": [
    {
     "data": {
      "image/png": "[encoded data removed]",
      "text/plain": [
       "<Figure size 432x288 with 1 Axes>"
      ]
     },
     "metadata": {
      "needs_background": "light"
     },
     "output_type": "display_data"
    }
   ],
   "source": [
    "def kde_statsmodels_u(x, x_grid, **kwargs):\n",
    "    \"\"\"Univariate Kernel Density Estimation with Statsmodels\"\"\"\n",
    "    kde = KDEUnivariate(x)\n",
    "    kde.fit(bw='normal_reference', **kwargs)\n",
    "    return kde.evaluate(x_grid)\n",
    "\n",
    "plt.plot(x_grid,kde_statsmodels_u(x, x_grid))\n",
    "plt.hist(x,bins=20,density=True)\n",
    "plt.title('KDE univariate')\n",
    "plt.show()"
   ]
  },
  {
   "cell_type": "code",
   "execution_count": 42,
   "metadata": {},
   "outputs": [
    {
     "data": {
      "image/png": "[encoded data removed]",
      "text/plain": [
       "<Figure size 432x288 with 1 Axes>"
      ]
     },
     "metadata": {
      "needs_background": "light"
     },
     "output_type": "display_data"
    }
   ],
   "source": [
    "# How to obtain a function instead of an array of values from KDEUnivariate?\n",
    "kde_univariate = KDEUnivariate(x)\n",
    "kde_univariate.fit(bw='normal_reference')\n",
    "f_uni_kde = lambda x: kde_univariate.evaluate(x)\n",
    "\n",
    "plt.plot(x_grid, f_uni_kde(x_grid))\n",
    "plt.hist(x, bins=20, density=True)\n",
    "plt.title('KDE Multivariate')\n",
    "plt.show()"
   ]
  },
  {
   "cell_type": "code",
   "execution_count": 43,
   "metadata": {},
   "outputs": [],
   "source": [
    "def plot_acep_rechazo(R2:'Variables distruidas U~U(0,1)',\n",
    "                      R1:'Variables distribuidas como g(x)',\n",
    "                      f:'función objetivo a generar',\n",
    "                      t:'función que mayora a f'):\n",
    "    \n",
    "    # Definimos f y t evaluadas en nuestra variables aleatorias con distribución g(x)\n",
    "    f_x = f(R1)\n",
    "    t_x = t(R1)\n",
    "    condition = R2 * t_x <= f_x\n",
    "    \n",
    "    # Gráfica de los puntos aceptados y los puntos rechazados.\n",
    "    [plt.plot(R1[i],R2[i]*t_x[i],'ob') if condition[i] else plt.plot(R1[i],R2[i]*t_x[i],'o') \\\n",
    "         for i in range(len(R1))] \n",
    "    plt.show()"
   ]
  },
  {
   "cell_type": "code",
   "execution_count": 44,
   "metadata": {},
   "outputs": [],
   "source": [
    "def values_acep_rechazo(R2:'Variables distruidas U~U(0,1)',\n",
    "                        R1:'Variables distribuidas como g(x)',\n",
    "                        f:'función objetivo a generar',\n",
    "                        t:'función que mayora a f'):\n",
    "    \n",
    "    # Definimos f y t evaluadas en nuestra variables aleatorias con distribución g(x)\n",
    "    f_x = f(R1)\n",
    "    t_x = t(R1)\n",
    "    condition = R2 * t_x <= f_x\n",
    "    \n",
    "    # Almacenamos en un vector los valores aceptados\n",
    "    values = [R1[i] for i in range(len(R1)) if condition[i]]\n",
    "    return values"
   ]
  },
  {
   "cell_type": "code",
   "execution_count": 45,
   "metadata": {
    "scrolled": true
   },
   "outputs": [
    {
     "data": {
      "text/plain": [
       "[<matplotlib.lines.Line2D at 0x10a3fa8b310>]"
      ]
     },
     "execution_count": 45,
     "metadata": {},
     "output_type": "execute_result"
    },
    {
     "data": {
      "image/png": "[encoded data removed]",
      "text/plain": [
       "<Figure size 432x288 with 1 Axes>"
      ]
     },
     "metadata": {
      "needs_background": "light"
     },
     "output_type": "display_data"
    }
   ],
   "source": [
    "media = np.mean(data_log)\n",
    "sd = np.std(data_log)\n",
    "normal = lambda x: (-1/20) * (x-12)**2 + 0.45\n",
    "plt.plot(x_grid, normal(x_grid))\n",
    "plt.plot(x_grid, f_uni_kde(x_grid))"
   ]
  },
  {
   "cell_type": "code",
   "execution_count": 52,
   "metadata": {},
   "outputs": [
    {
     "data": {
      "image/png": "[encoded data removed]",
      "text/plain": [
       "<Figure size 432x288 with 1 Axes>"
      ]
     },
     "metadata": {
      "needs_background": "light"
     },
     "output_type": "display_data"
    }
   ],
   "source": [
    "N = 1000\n",
    "R1 = np.random.rand(N)\n",
    "R2 = np.random.uniform(9,15,size=N)\n",
    "plt.plot(x_grid, f_uni_kde(x_grid))\n",
    "plot_acep_rechazo(R1, R2, f_uni_kde, t)"
   ]
  },
  {
   "cell_type": "code",
   "execution_count": 47,
   "metadata": {
    "scrolled": true
   },
   "outputs": [
    {
     "data": {
      "image/png": "[encoded data removed]",
      "text/plain": [
       "<Figure size 432x288 with 1 Axes>"
      ]
     },
     "metadata": {
      "needs_background": "light"
     },
     "output_type": "display_data"
    }
   ],
   "source": [
    "def aleatorias(N):\n",
    "    return (np.random.uniform(9,22,N) + 9 + (1/6)) / 2.1296\n",
    "\n",
    "t2 = lambda x: -(1/20) * (x-12)**2 + 0.45\n",
    "\n",
    "R22 = aleatorias(N)\n",
    "plt.plot(x_grid, f_uni_kde(x_grid))\n",
    "plt.plot(x_grid, normal(x_grid))\n",
    "plot_acep_rechazo(R1, R22, f_uni_kde, t2)"
   ]
  },
  {
   "cell_type": "code",
   "execution_count": 48,
   "metadata": {},
   "outputs": [
    {
     "data": {
      "text/plain": [
       "11.347950746281377"
      ]
     },
     "execution_count": 48,
     "metadata": {},
     "output_type": "execute_result"
    }
   ],
   "source": [
    "max((np.random.uniform(9,15,100000) + 9 + (1/6)) / 2.1296)"
   ]
  },
  {
   "cell_type": "markdown",
   "metadata": {},
   "source": [
    "### `Simulación`."
   ]
  },
  {
   "cell_type": "code",
   "execution_count": 63,
   "metadata": {},
   "outputs": [],
   "source": [
    "sim = (values_acep_rechazo(R1,R2,f_uni_kde,t))"
   ]
  },
  {
   "cell_type": "code",
   "execution_count": 126,
   "metadata": {},
   "outputs": [
    {
     "data": {
      "image/png": "[encoded data removed]",
      "text/plain": [
       "<Figure size 432x288 with 1 Axes>"
      ]
     },
     "metadata": {
      "needs_background": "light"
     },
     "output_type": "display_data"
    }
   ],
   "source": [
    "plt.hist(sim);"
   ]
  },
  {
   "cell_type": "code",
   "execution_count": 77,
   "metadata": {},
   "outputs": [
    {
     "name": "stdout",
     "output_type": "stream",
     "text": [
      "Al definir una función constante como el máximo de la función de densidad encontrada aceptamos del :45.5%\n"
     ]
    }
   ],
   "source": [
    "print(f'Al definir una función constante como el máximo de la función de densidad encontrada aceptamos del :{len(sim)/N * 100}%')"
   ]
  },
  {
   "cell_type": "markdown",
   "metadata": {},
   "source": [
    "## Media real"
   ]
  },
  {
   "cell_type": "code",
   "execution_count": 128,
   "metadata": {},
   "outputs": [
    {
     "name": "stdout",
     "output_type": "stream",
     "text": [
      "La media real de nuestros datos es: 11.577047938126682\n"
     ]
    }
   ],
   "source": [
    "print('La media real de nuestros datos es:',data_log.mean())"
   ]
  },
  {
   "cell_type": "markdown",
   "metadata": {},
   "source": [
    "### Aproximación a la media real por medio de montecarlo"
   ]
  },
  {
   "cell_type": "code",
   "execution_count": 133,
   "metadata": {},
   "outputs": [
    {
     "name": "stdout",
     "output_type": "stream",
     "text": [
      "La media utilizando montecarlo con 10,000 datos simulados es de: 11.549616157142868\n"
     ]
    }
   ],
   "source": [
    "print('La media utilizando montecarlo con 10,000 datos simulados es de:',np.mean(sim))"
   ]
  },
  {
   "cell_type": "markdown",
   "metadata": {},
   "source": [
    "## Utilizando un método de reducción de Varianza"
   ]
  },
  {
   "cell_type": "markdown",
   "metadata": {},
   "source": [
    "### Aproximación utilizando Muestreo Estratificado"
   ]
  },
  {
   "cell_type": "code",
   "execution_count": 149,
   "metadata": {},
   "outputs": [
    {
     "ename": "TypeError",
     "evalue": "'numpy.ndarray' object is not callable",
     "output_type": "error",
     "traceback": [
      "\u001b[1;31m---------------------------------------------------------------------------\u001b[0m",
      "\u001b[1;31mTypeError\u001b[0m                                 Traceback (most recent call last)",
      "\u001b[1;32m<ipython-input-149-f8801bf20933>\u001b[0m in \u001b[0;36m<module>\u001b[1;34m\u001b[0m\n\u001b[0;32m      7\u001b[0m \u001b[0mu2\u001b[0m \u001b[1;33m=\u001b[0m \u001b[0mnp\u001b[0m\u001b[1;33m.\u001b[0m\u001b[0mrandom\u001b[0m\u001b[1;33m.\u001b[0m\u001b[0mrand\u001b[0m\u001b[1;33m(\u001b[0m\u001b[0mN\u001b[0m\u001b[1;33m)\u001b[0m \u001b[1;31m#otros aleatoreos\u001b[0m\u001b[1;33m\u001b[0m\u001b[1;33m\u001b[0m\u001b[0m\n\u001b[0;32m      8\u001b[0m \u001b[0mi\u001b[0m \u001b[1;33m=\u001b[0m \u001b[0mnp\u001b[0m\u001b[1;33m.\u001b[0m\u001b[0marange\u001b[0m\u001b[1;33m(\u001b[0m\u001b[1;36m0\u001b[0m\u001b[1;33m,\u001b[0m\u001b[0mB\u001b[0m\u001b[1;33m)\u001b[0m\u001b[1;33m\u001b[0m\u001b[1;33m\u001b[0m\u001b[0m\n\u001b[1;32m----> 9\u001b[1;33m \u001b[0mm_estratificado\u001b[0m \u001b[1;33m=\u001b[0m \u001b[0minv\u001b[0m\u001b[1;33m(\u001b[0m\u001b[1;33m(\u001b[0m\u001b[0mu2\u001b[0m\u001b[1;33m+\u001b[0m\u001b[0mi\u001b[0m\u001b[1;33m)\u001b[0m\u001b[1;33m/\u001b[0m\u001b[0mB\u001b[0m\u001b[1;33m)\u001b[0m\u001b[1;33m\u001b[0m\u001b[1;33m\u001b[0m\u001b[0m\n\u001b[0m",
      "\u001b[1;32m<ipython-input-149-f8801bf20933>\u001b[0m in \u001b[0;36m<lambda>\u001b[1;34m(x)\u001b[0m\n\u001b[0;32m      1\u001b[0m \u001b[1;31m# Método muestreo estratificado (B estratos)\u001b[0m\u001b[1;33m\u001b[0m\u001b[1;33m\u001b[0m\u001b[1;33m\u001b[0m\u001b[0m\n\u001b[0;32m      2\u001b[0m \u001b[1;32mimport\u001b[0m \u001b[0mstatsmodels\u001b[0m\u001b[1;33m.\u001b[0m\u001b[0mapi\u001b[0m \u001b[1;32mas\u001b[0m \u001b[0msm\u001b[0m\u001b[1;33m\u001b[0m\u001b[1;33m\u001b[0m\u001b[0m\n\u001b[1;32m----> 3\u001b[1;33m \u001b[0minv\u001b[0m \u001b[1;33m=\u001b[0m \u001b[1;32mlambda\u001b[0m \u001b[0mx\u001b[0m\u001b[1;33m:\u001b[0m \u001b[0mkde_univariate\u001b[0m\u001b[1;33m.\u001b[0m\u001b[0micdf\u001b[0m\u001b[1;33m(\u001b[0m\u001b[0mx\u001b[0m\u001b[1;33m)\u001b[0m\u001b[1;33m\u001b[0m\u001b[1;33m\u001b[0m\u001b[0m\n\u001b[0m\u001b[0;32m      4\u001b[0m \u001b[1;33m\u001b[0m\u001b[0m\n\u001b[0;32m      5\u001b[0m \u001b[0mN\u001b[0m\u001b[1;33m=\u001b[0m \u001b[1;36m10000\u001b[0m\u001b[1;33m\u001b[0m\u001b[1;33m\u001b[0m\u001b[0m\n",
      "\u001b[1;31mTypeError\u001b[0m: 'numpy.ndarray' object is not callable"
     ]
    }
   ],
   "source": [
    "# Método muestreo estratificado (B estratos)\n",
    "import statsmodels.api as sm\n",
    "inv = lambda x: kde_univariate.icdf(x)\n",
    "\n",
    "N= 10000\n",
    "B = N #estratos\n",
    "u2 = np.random.rand(N) #otros aleatoreos\n",
    "i = np.arange(0,B)\n",
    "#m_estratificado = inv((u2+i)/B)\n"
   ]
  },
  {
   "cell_type": "code",
   "execution_count": 142,
   "metadata": {},
   "outputs": [
    {
     "data": {
      "image/png": "[encoded data removed]",
      "text/plain": [
       "<Figure size 432x288 with 1 Axes>"
      ]
     },
     "metadata": {
      "needs_background": "light"
     },
     "output_type": "display_data"
    },
    {
     "data": {
      "image/png": "[encoded data removed]",
      "text/plain": [
       "<Figure size 432x288 with 1 Axes>"
      ]
     },
     "metadata": {
      "needs_background": "light"
     },
     "output_type": "display_data"
    }
   ],
   "source": [
    "plt.hist(sim)\n",
    "plt.title('Monte carlo std')\n",
    "plt.show()\n",
    "\n",
    "plt.hist(m_estratificado)\n",
    "plt.title('Muestreo Estratificado')\n",
    "plt.show()"
   ]
  },
  {
   "cell_type": "code",
   "execution_count": null,
   "metadata": {},
   "outputs": [],
   "source": []
  },
  {
   "cell_type": "code",
   "execution_count": 122,
   "metadata": {},
   "outputs": [],
   "source": [
    "X = 1\n",
    "def sim_app(X,R1,R2,f_uni_kde,t):\n",
    "    \n",
    "  \n",
    "    vec = np.zeros(X)\n",
    "    sim = values_acep_rechazo(R1,R2,f_uni_kde,t)\n",
    "\n",
    "    new= [f_uni_kde(i) for i in  sim]\n",
    "    new_2 = \n",
    "    return new\n",
    "    "
   ]
  },
  {
   "cell_type": "markdown",
   "metadata": {},
   "source": [
    "## `Nodo: Monto aprobado`."
   ]
  },
  {
   "cell_type": "code",
   "execution_count": null,
   "metadata": {},
   "outputs": [],
   "source": []
  },
  {
   "cell_type": "markdown",
   "metadata": {},
   "source": [
    "### `Kernel Density Estimation`."
   ]
  },
  {
   "cell_type": "code",
   "execution_count": null,
   "metadata": {},
   "outputs": [],
   "source": []
  },
  {
   "cell_type": "code",
   "execution_count": null,
   "metadata": {},
   "outputs": [],
   "source": []
  },
  {
   "cell_type": "markdown",
   "metadata": {},
   "source": [
    "### `Aceptación y Rechazo`."
   ]
  },
  {
   "cell_type": "code",
   "execution_count": null,
   "metadata": {},
   "outputs": [],
   "source": []
  },
  {
   "cell_type": "code",
   "execution_count": null,
   "metadata": {},
   "outputs": [],
   "source": []
  },
  {
   "cell_type": "markdown",
   "metadata": {},
   "source": [
    "### `Simulación`."
   ]
  },
  {
   "cell_type": "code",
   "execution_count": null,
   "metadata": {},
   "outputs": [],
   "source": []
  },
  {
   "cell_type": "code",
   "execution_count": null,
   "metadata": {},
   "outputs": [],
   "source": []
  },
  {
   "cell_type": "markdown",
   "metadata": {},
   "source": [
    "## `Nodo: Bienes adquiridos`."
   ]
  },
  {
   "cell_type": "markdown",
   "metadata": {},
   "source": [
    "### `Kernel Density Estimation`."
   ]
  },
  {
   "cell_type": "code",
   "execution_count": null,
   "metadata": {},
   "outputs": [],
   "source": []
  },
  {
   "cell_type": "code",
   "execution_count": null,
   "metadata": {},
   "outputs": [],
   "source": []
  },
  {
   "cell_type": "markdown",
   "metadata": {},
   "source": [
    "### `Aceptación y Rechazo`."
   ]
  },
  {
   "cell_type": "code",
   "execution_count": null,
   "metadata": {},
   "outputs": [],
   "source": []
  },
  {
   "cell_type": "code",
   "execution_count": null,
   "metadata": {},
   "outputs": [],
   "source": []
  },
  {
   "cell_type": "markdown",
   "metadata": {},
   "source": [
    "### `Simulación`."
   ]
  },
  {
   "cell_type": "code",
   "execution_count": null,
   "metadata": {},
   "outputs": [],
   "source": []
  },
  {
   "cell_type": "code",
   "execution_count": null,
   "metadata": {},
   "outputs": [],
   "source": []
  },
  {
   "cell_type": "markdown",
   "metadata": {},
   "source": [
    "<script>\n",
    "  $(document).ready(function(){\n",
    "    $('div.prompt').hide();\n",
    "    $('div.back-to-top').hide();\n",
    "    $('nav#menubar').hide();\n",
    "    $('.breadcrumb').hide();\n",
    "    $('.hidden-print').hide();\n",
    "  });\n",
    "</script>\n",
    "\n",
    "<footer id=\"attribution\" style=\"float:right; color:#808080; background:#fff;\">\n",
    "Created with Jupyter by Esteban Jiménez Rodríguez.\n",
    "</footer>"
   ]
  }
 ],
 "metadata": {
  "kernelspec": {
   "display_name": "Python 3",
   "language": "python",
   "name": "python3"
  },
  "language_info": {
   "codemirror_mode": {
    "name": "ipython",
    "version": 3
   },
   "file_extension": ".py",
   "mimetype": "text/x-python",
   "name": "python",
   "nbconvert_exporter": "python",
   "pygments_lexer": "ipython3",
   "version": "3.8.5"
  }
 },
 "nbformat": 4,
 "nbformat_minor": 2
}
