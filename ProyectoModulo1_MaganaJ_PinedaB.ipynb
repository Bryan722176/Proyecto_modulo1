{
 "cells": [
  {
   "cell_type": "markdown",
   "metadata": {},
   "source": [
    "<img style=\"float: left; margin: 30px 15px 15px 15px;\" src=\"https://pngimage.net/wp-content/uploads/2018/06/logo-iteso-png-5.png\" width=\"300\" height=\"500\" /> \n",
    "    \n",
    "    \n",
    "### <font color='navy'> Simulación de procesos financieros. \n",
    "\n",
    "**Nombres:** \n",
    "- Juan Pablo Ruíz Magaña.\n",
    "- Bryan Azahel Juárez Pineda.\n",
    "\n",
    "**Fecha:** 17 de marzo del 2021.\n",
    "\n",
    "**Expediente** :\n",
    "- 721093.\n",
    "- 722176.\n",
    "    \n",
    "**Profesor:** Oscar David Jaramillo Zuluaga.\n",
    "    \n",
    "**Link Github**: [Repositorio proyecto.](https://github.com/Bryan722176/Proyecto_modulo1)\n",
    "\n",
    "# Proyecto TEMA-2"
   ]
  },
  {
   "cell_type": "markdown",
   "metadata": {},
   "source": [
    "### 1.1 Título del trabajo.\n",
    "**`Análisis de aprobación de productos bancarios de crédito.`**"
   ]
  },
  {
   "cell_type": "markdown",
   "metadata": {},
   "source": [
    "### 1.2 Objetivos.\n",
    "\n",
    "#### Objetivo general.\n",
    "* Determinar las características de los productos bancarios de crédito que solicitarán futuros clientes.\n",
    "\n",
    "#### Objetivo secundarios.\n",
    "* Simular una cantidad considerable de escenarios que nos permita conocer posibles valores a futuro de las variables de interés.\n",
    "* Evaluar las simulaciones con el método Montecarlo con la finalidad de encontrar el valor esperado de las variables de interés.\n",
    "* Obtener las probabilidades de ocurrencia de ciertos eventos relacionados a nuestras variables de interés.\n",
    "* Definir los parámetros que caracterizan a las solicitudes de crédito a partir de las variables de interés."
   ]
  },
  {
   "cell_type": "markdown",
   "metadata": {},
   "source": [
    "### 1.3 Definición del problema."
   ]
  },
  {
   "cell_type": "markdown",
   "metadata": {},
   "source": [
    "En las estructuras capitalistas que caracterizan al sistema económico mundial, el consumo forma parte elemental del día a día de las personas, la cuestión de interés surge en el momento en que la productividad / salario no corresponde a la capacidad adquisitiva que los individuos requieren para adquirir determinados bienes y servicios en el corto plazo. De ahí nace la necesidad y figura de los créditos.\n",
    "\n",
    "Situandonos en la posición de una institución bancaria, otorgar créditos conlleva un riesgo considerable en el modelo de negocios de la institución. Asumir el riesgo de impago en un crédito puede tener consecuencias graves si esto se llega a dar en escalas masivas, por ende quienes otorgan crédito deben realizar un análisis minucioso respecto a la capacidad crediticia de las personas o empresas que lo soliciten.\n",
    "\n",
    "Con el fin de cuidar los intereses del banco y maximizar las oportunidades de negocio de la institución, nos interesa analizar las características de las aplicaciones previas de diferentes productos bancarios de crédito, con la intención de que la institución bancaria pueda perfilar clientes pontenciales de manera más efectiva y a su vez gestione de manera más óptima sus recursos destinados a estas oportunidades de negocio.\n",
    "\n",
    "Para conocer lo antes descrito, y con nuestra base de datos, definimos los nodos que se deciden simular como los siguientes:\n",
    "\n",
    "* **Monto solicitado del crédito**: Esto para poder definir las expectativas crediticias de los potenciales clientes. Conocer el monto solicitado nos da una pauta para identificar y poder seccionar clientes a partir de su potencial capacidad adquisitiva y su necesidad.\n",
    "\n",
    "* **Monto aprobado del crédito**: Después de un análisis por parte de la institución, esta variable representa el monto designado a una solicitud en particular. Conocer el monto aprobado nos ayuda a determinar no solo la capacidad real de pago del cliente, sino también nos ayuda a saber si el banco cubre las necesidades de capitalización del cliente.  \n",
    "\n",
    "* **Canal de venta**: Conducto por el cual se establece la relación entre el cliente y la institución, y se inicializa el trámite. Conocer esta variable nos ayudará a entender como se distribuye la captación de clientes para el banco, esto generará que se pueda saber cuales son los canales a fortalecer y en cuales continuar con la inercia descrita.\n",
    "\n",
    "* **Categoría de productos adquirimos con instrumentos de crédito**: Esta variable representa el destino del crédito solicitado. Conocer la categoría de destino nos ayuda a entender no solo las necesidades y el por qué se solicitan los créditos, también nos puede ayudar a evaluar que sectores de consumo requieren de mayor capacidad crediticia."
   ]
  },
  {
   "cell_type": "markdown",
   "metadata": {},
   "source": [
    "### 1.4 Nodos y variables que se decidieron simular y porqué."
   ]
  },
  {
   "cell_type": "markdown",
   "metadata": {},
   "source": [
    "Resumiendo lo antes descrito, los nodos a simular serán los siguientes:\n",
    "* **Monto solicitado del crédito**.\n",
    "\n",
    "* **Monto aprobado del crédito**.\n",
    "\n",
    "* **Canal de venta**.\n",
    "\n",
    "* **Categoría de productos adquirimos con instrumentos de crédito**.\n",
    "\n",
    "Y las posibles complicaciones que podriamos encontrar en su simulación, de manera generalizada son las siguientes:\n",
    "1. **Escalabilidad de los datos:** Es posible que se presenten valores extremos, por lo tanto debemos realizar un correcto análisis exploratorio de los datos y de ser necesario modificar su escala.\n",
    "\n",
    "2. **Ausencia de valores:** En datasets tan grandes es posibles que algunas variables reporten valores faltantes o simplemente se encuentren en una categoría desconocida, por lo tanto será conveniente observar su frecuencia en la muestra."
   ]
  },
  {
   "cell_type": "markdown",
   "metadata": {},
   "source": [
    "<script>\n",
    "  $(document).ready(function(){\n",
    "    $('div.prompt').hide();\n",
    "    $('div.back-to-top').hide();\n",
    "    $('nav#menubar').hide();\n",
    "    $('.breadcrumb').hide();\n",
    "    $('.hidden-print').hide();\n",
    "  });\n",
    "</script>\n",
    "\n",
    "<footer id=\"attribution\" style=\"float:right; color:#808080; background:#fff;\">\n",
    "Created with Jupyter by Esteban Jiménez Rodríguez.\n",
    "</footer>"
   ]
  }
 ],
 "metadata": {
  "kernelspec": {
   "display_name": "Python 3",
   "language": "python",
   "name": "python3"
  },
  "language_info": {
   "codemirror_mode": {
    "name": "ipython",
    "version": 3
   },
   "file_extension": ".py",
   "mimetype": "text/x-python",
   "name": "python",
   "nbconvert_exporter": "python",
   "pygments_lexer": "ipython3",
   "version": "3.8.5"
  }
 },
 "nbformat": 4,
 "nbformat_minor": 2
}
